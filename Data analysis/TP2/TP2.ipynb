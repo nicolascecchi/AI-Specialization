{
 "cells": [
  {
   "cell_type": "code",
   "execution_count": 1,
   "id": "86d2c8f8",
   "metadata": {},
   "outputs": [],
   "source": [
    "import numpy as np\n",
    "import matplotlib.pyplot as plt\n",
    "import seaborn as sns\n",
    "from scipy import stats\n",
    "import pandas as pd"
   ]
  },
  {
   "cell_type": "markdown",
   "id": "4690aff0",
   "metadata": {},
   "source": [
    "# Ejercicio 1"
   ]
  },
  {
   "cell_type": "markdown",
   "id": "0d8b45bf",
   "metadata": {},
   "source": [
    "## Generar una muestra de una normal"
   ]
  },
  {
   "cell_type": "code",
   "execution_count": 24,
   "id": "ceef71c7",
   "metadata": {},
   "outputs": [],
   "source": [
    "# Ejercicio 1 \n",
    "# Simular una normal\n",
    "def sample_normal(m=0,s=1,N=100,seed=12):\n",
    "    rv = stats.norm(loc=m,scale=1)\n",
    "    return rv.rvs(N,random_state=seed)"
   ]
  },
  {
   "cell_type": "code",
   "execution_count": 25,
   "id": "2515ce82",
   "metadata": {},
   "outputs": [],
   "source": [
    "random_sample = sample_normal(m=0,s=1,N=100,seed=12)"
   ]
  },
  {
   "cell_type": "markdown",
   "id": "cede3724",
   "metadata": {},
   "source": [
    "## Calcular kurtosis y skewness"
   ]
  },
  {
   "cell_type": "code",
   "execution_count": 27,
   "id": "143970ac",
   "metadata": {},
   "outputs": [],
   "source": [
    "# Encontrar kurtosis y skewness con funciones\n",
    "def rv_moment(sample,moment=1):\n",
    "    \"\"\"\n",
    "    Parameters\n",
    "    ----------\n",
    "    sample : np.array\n",
    "        Muestra de una VA.\n",
    "    moment : int, optional\n",
    "        Momento empírico a calcular. The default is 1.\n",
    "            0 : 1\n",
    "            1 : Valor esperado\n",
    "            2 : --\n",
    "            3 : Kurtosis\n",
    "            4 : Skewness\n",
    "\n",
    "    Returns\n",
    "    -------\n",
    "    float\n",
    "        El momento <moment> empírico de la muestra.\n",
    "    \"\"\"\n",
    "    m_muestral = np.mean(sample)\n",
    "    s_muestral = np.std(sample)\n",
    "    muestra_normalizada = (sample - m_muestral) / s_muestral\n",
    "    return np.mean( muestra_normalizada ** moment)"
   ]
  },
  {
   "cell_type": "code",
   "execution_count": 28,
   "id": "a219d5ad",
   "metadata": {},
   "outputs": [],
   "source": [
    "kurt = rv_moment(random_sample,moment=3)\n",
    "skew = rv_moment(random_sample,moment=4)"
   ]
  },
  {
   "cell_type": "code",
   "execution_count": 34,
   "id": "1c6751cf",
   "metadata": {},
   "outputs": [
    {
     "data": {
      "text/plain": [
       "(0.05470178363174698, 3.278347828922082)"
      ]
     },
     "execution_count": 34,
     "metadata": {},
     "output_type": "execute_result"
    }
   ],
   "source": [
    "kurt,skew"
   ]
  },
  {
   "cell_type": "markdown",
   "id": "aa8dac49",
   "metadata": {},
   "source": [
    "# IQR"
   ]
  },
  {
   "cell_type": "code",
   "execution_count": 44,
   "id": "03d2dad7",
   "metadata": {},
   "outputs": [],
   "source": [
    "def get_iqr(sample):\n",
    "    sorted_sample = np.sort(sample)\n",
    "    q1_index = int(.25*len(sorted_sample))\n",
    "    q3_index = int(.75*len(sorted_sample))\n",
    "    return sorted_sample[q3_index] - sorted_sample[q1_index] \n",
    "    "
   ]
  },
  {
   "cell_type": "code",
   "execution_count": 58,
   "id": "30b506f3",
   "metadata": {},
   "outputs": [
    {
     "data": {
      "text/plain": [
       "1.228285744458677"
      ]
     },
     "execution_count": 58,
     "metadata": {},
     "output_type": "execute_result"
    }
   ],
   "source": [
    "get_iqr(random_sample)"
   ]
  },
  {
   "cell_type": "markdown",
   "id": "dd7df796",
   "metadata": {},
   "source": [
    "## Estimar desvío con rango de mediciones"
   ]
  },
  {
   "cell_type": "code",
   "execution_count": 46,
   "id": "a0f0b28f",
   "metadata": {},
   "outputs": [],
   "source": [
    "def std_est(sample):\n",
    "    return (max(sample)-min(sample)) /4\n",
    "    "
   ]
  },
  {
   "cell_type": "code",
   "execution_count": 57,
   "id": "f881c035",
   "metadata": {},
   "outputs": [
    {
     "data": {
      "text/plain": [
       "1.5048089791332242"
      ]
     },
     "execution_count": 57,
     "metadata": {},
     "output_type": "execute_result"
    }
   ],
   "source": [
    "std_est(random_sample)"
   ]
  },
  {
   "cell_type": "markdown",
   "id": "a90638ac",
   "metadata": {},
   "source": [
    "## Plot de box-and-whiskers"
   ]
  },
  {
   "cell_type": "code",
   "execution_count": 51,
   "id": "2c989fc7",
   "metadata": {},
   "outputs": [
    {
     "data": {
      "image/png": "[encoded data removed]",
      "text/plain": [
       "<Figure size 432x288 with 1 Axes>"
      ]
     },
     "metadata": {
      "needs_background": "light"
     },
     "output_type": "display_data"
    }
   ],
   "source": [
    "plt.boxplot(random_sample,vert=False)\n",
    "plt.show()"
   ]
  },
  {
   "cell_type": "markdown",
   "id": "c937b344",
   "metadata": {},
   "source": [
    "# Ejercicio 2 "
   ]
  },
  {
   "cell_type": "code",
   "execution_count": 54,
   "id": "c9a0a52f",
   "metadata": {},
   "outputs": [],
   "source": [
    "rv_exp = stats.expon(1)"
   ]
  },
  {
   "cell_type": "code",
   "execution_count": 56,
   "id": "636a538d",
   "metadata": {},
   "outputs": [],
   "source": [
    "exp_sample = rv_exp.rvs(100)"
   ]
  },
  {
   "cell_type": "markdown",
   "id": "3d3b740a",
   "metadata": {},
   "source": [
    "## Kurtosis y Skewness"
   ]
  },
  {
   "cell_type": "code",
   "execution_count": 59,
   "id": "f6477e6d",
   "metadata": {},
   "outputs": [
    {
     "data": {
      "text/plain": [
       "1.3395000446048904"
      ]
     },
     "execution_count": 59,
     "metadata": {},
     "output_type": "execute_result"
    }
   ],
   "source": [
    "kurt = rv_moment(exp_sample,moment=3)\n",
    "kurt"
   ]
  },
  {
   "cell_type": "code",
   "execution_count": 60,
   "id": "09fcdb43",
   "metadata": {},
   "outputs": [
    {
     "data": {
      "text/plain": [
       "4.168791115638296"
      ]
     },
     "execution_count": 60,
     "metadata": {},
     "output_type": "execute_result"
    }
   ],
   "source": [
    "skew = rv_moment(exp_sample,moment=4)\n",
    "skew"
   ]
  },
  {
   "cell_type": "markdown",
   "id": "cd906a87",
   "metadata": {},
   "source": [
    "## IQR"
   ]
  },
  {
   "cell_type": "code",
   "execution_count": 61,
   "id": "3d6462cb",
   "metadata": {},
   "outputs": [
    {
     "data": {
      "text/plain": [
       "1.1090392145080517"
      ]
     },
     "execution_count": 61,
     "metadata": {},
     "output_type": "execute_result"
    }
   ],
   "source": [
    "get_iqr(exp_sample)"
   ]
  },
  {
   "cell_type": "markdown",
   "id": "e7786219",
   "metadata": {},
   "source": [
    "## box-and-whiskers"
   ]
  },
  {
   "cell_type": "code",
   "execution_count": 63,
   "id": "202a0056",
   "metadata": {},
   "outputs": [
    {
     "data": {
      "image/png": "[encoded data removed]",
      "text/plain": [
       "<Figure size 432x288 with 1 Axes>"
      ]
     },
     "metadata": {
      "needs_background": "light"
     },
     "output_type": "display_data"
    }
   ],
   "source": [
    "plt.boxplot(exp_sample,vert=False)\n",
    "plt.show()"
   ]
  },
  {
   "cell_type": "markdown",
   "id": "ddbbb217",
   "metadata": {},
   "source": [
    "# Ejercicio 3"
   ]
  },
  {
   "cell_type": "code",
   "execution_count": 7,
   "id": "7b59c93f",
   "metadata": {},
   "outputs": [],
   "source": [
    "amzn = pd.read_csv('AMZN.csv')\n",
    "amzn.loc[:,'date_'] = pd.to_datetime(amzn.Date)"
   ]
  },
  {
   "cell_type": "code",
   "execution_count": 8,
   "id": "b4b8ddfc",
   "metadata": {},
   "outputs": [],
   "source": [
    "goog = pd.read_csv('GOOG.csv')\n",
    "goog.loc[:,'date_'] = pd.to_datetime(goog.Date)"
   ]
  },
  {
   "cell_type": "code",
   "execution_count": 9,
   "id": "10cc17b7",
   "metadata": {},
   "outputs": [
    {
     "data": {
      "text/html": [
       "<div>\n",
       "<style scoped>\n",
       "    .dataframe tbody tr th:only-of-type {\n",
       "        vertical-align: middle;\n",
       "    }\n",
       "\n",
       "    .dataframe tbody tr th {\n",
       "        vertical-align: top;\n",
       "    }\n",
       "\n",
       "    .dataframe thead th {\n",
       "        text-align: right;\n",
       "    }\n",
       "</style>\n",
       "<table border=\"1\" class=\"dataframe\">\n",
       "  <thead>\n",
       "    <tr style=\"text-align: right;\">\n",
       "      <th></th>\n",
       "      <th>Date</th>\n",
       "      <th>Open</th>\n",
       "      <th>High</th>\n",
       "      <th>Low</th>\n",
       "      <th>Close</th>\n",
       "      <th>Adj Close</th>\n",
       "      <th>Volume</th>\n",
       "      <th>date_</th>\n",
       "    </tr>\n",
       "  </thead>\n",
       "  <tbody>\n",
       "    <tr>\n",
       "      <th>0</th>\n",
       "      <td>2020-11-09</td>\n",
       "      <td>3231.030029</td>\n",
       "      <td>3289.000000</td>\n",
       "      <td>3112.110107</td>\n",
       "      <td>3143.739990</td>\n",
       "      <td>3143.739990</td>\n",
       "      <td>7190400</td>\n",
       "      <td>2020-11-09</td>\n",
       "    </tr>\n",
       "    <tr>\n",
       "      <th>1</th>\n",
       "      <td>2020-11-10</td>\n",
       "      <td>3095.020020</td>\n",
       "      <td>3114.000000</td>\n",
       "      <td>3019.479980</td>\n",
       "      <td>3035.020020</td>\n",
       "      <td>3035.020020</td>\n",
       "      <td>6591000</td>\n",
       "      <td>2020-11-10</td>\n",
       "    </tr>\n",
       "    <tr>\n",
       "      <th>2</th>\n",
       "      <td>2020-11-11</td>\n",
       "      <td>3061.780029</td>\n",
       "      <td>3139.149902</td>\n",
       "      <td>3050.000000</td>\n",
       "      <td>3137.389893</td>\n",
       "      <td>3137.389893</td>\n",
       "      <td>4366900</td>\n",
       "      <td>2020-11-11</td>\n",
       "    </tr>\n",
       "    <tr>\n",
       "      <th>3</th>\n",
       "      <td>2020-11-12</td>\n",
       "      <td>3159.949951</td>\n",
       "      <td>3175.879883</td>\n",
       "      <td>3086.050049</td>\n",
       "      <td>3110.280029</td>\n",
       "      <td>3110.280029</td>\n",
       "      <td>4362000</td>\n",
       "      <td>2020-11-12</td>\n",
       "    </tr>\n",
       "    <tr>\n",
       "      <th>4</th>\n",
       "      <td>2020-11-13</td>\n",
       "      <td>3122.000000</td>\n",
       "      <td>3141.719971</td>\n",
       "      <td>3085.389893</td>\n",
       "      <td>3128.810059</td>\n",
       "      <td>3128.810059</td>\n",
       "      <td>3756200</td>\n",
       "      <td>2020-11-13</td>\n",
       "    </tr>\n",
       "  </tbody>\n",
       "</table>\n",
       "</div>"
      ],
      "text/plain": [
       "         Date         Open         High          Low        Close  \\\n",
       "0  2020-11-09  3231.030029  3289.000000  3112.110107  3143.739990   \n",
       "1  2020-11-10  3095.020020  3114.000000  3019.479980  3035.020020   \n",
       "2  2020-11-11  3061.780029  3139.149902  3050.000000  3137.389893   \n",
       "3  2020-11-12  3159.949951  3175.879883  3086.050049  3110.280029   \n",
       "4  2020-11-13  3122.000000  3141.719971  3085.389893  3128.810059   \n",
       "\n",
       "     Adj Close   Volume      date_  \n",
       "0  3143.739990  7190400 2020-11-09  \n",
       "1  3035.020020  6591000 2020-11-10  \n",
       "2  3137.389893  4366900 2020-11-11  \n",
       "3  3110.280029  4362000 2020-11-12  \n",
       "4  3128.810059  3756200 2020-11-13  "
      ]
     },
     "execution_count": 9,
     "metadata": {},
     "output_type": "execute_result"
    }
   ],
   "source": [
    "amzn.head()"
   ]
  },
  {
   "cell_type": "code",
   "execution_count": 10,
   "id": "f7524ec7",
   "metadata": {},
   "outputs": [
    {
     "data": {
      "text/html": [
       "<div>\n",
       "<style scoped>\n",
       "    .dataframe tbody tr th:only-of-type {\n",
       "        vertical-align: middle;\n",
       "    }\n",
       "\n",
       "    .dataframe tbody tr th {\n",
       "        vertical-align: top;\n",
       "    }\n",
       "\n",
       "    .dataframe thead th {\n",
       "        text-align: right;\n",
       "    }\n",
       "</style>\n",
       "<table border=\"1\" class=\"dataframe\">\n",
       "  <thead>\n",
       "    <tr style=\"text-align: right;\">\n",
       "      <th></th>\n",
       "      <th>Date</th>\n",
       "      <th>Open</th>\n",
       "      <th>High</th>\n",
       "      <th>Low</th>\n",
       "      <th>Close</th>\n",
       "      <th>Adj Close</th>\n",
       "      <th>Volume</th>\n",
       "      <th>date_</th>\n",
       "    </tr>\n",
       "  </thead>\n",
       "  <tbody>\n",
       "    <tr>\n",
       "      <th>0</th>\n",
       "      <td>2020-05-08</td>\n",
       "      <td>1383.130005</td>\n",
       "      <td>1398.760010</td>\n",
       "      <td>1375.479980</td>\n",
       "      <td>1388.369995</td>\n",
       "      <td>1388.369995</td>\n",
       "      <td>1386900</td>\n",
       "      <td>2020-05-08</td>\n",
       "    </tr>\n",
       "    <tr>\n",
       "      <th>1</th>\n",
       "      <td>2020-05-11</td>\n",
       "      <td>1378.280029</td>\n",
       "      <td>1416.530029</td>\n",
       "      <td>1377.151978</td>\n",
       "      <td>1403.260010</td>\n",
       "      <td>1403.260010</td>\n",
       "      <td>1412100</td>\n",
       "      <td>2020-05-11</td>\n",
       "    </tr>\n",
       "    <tr>\n",
       "      <th>2</th>\n",
       "      <td>2020-05-12</td>\n",
       "      <td>1407.119995</td>\n",
       "      <td>1415.000000</td>\n",
       "      <td>1374.770020</td>\n",
       "      <td>1375.739990</td>\n",
       "      <td>1375.739990</td>\n",
       "      <td>1390600</td>\n",
       "      <td>2020-05-12</td>\n",
       "    </tr>\n",
       "    <tr>\n",
       "      <th>3</th>\n",
       "      <td>2020-05-13</td>\n",
       "      <td>1377.050049</td>\n",
       "      <td>1385.482056</td>\n",
       "      <td>1328.400024</td>\n",
       "      <td>1349.329956</td>\n",
       "      <td>1349.329956</td>\n",
       "      <td>1812600</td>\n",
       "      <td>2020-05-13</td>\n",
       "    </tr>\n",
       "    <tr>\n",
       "      <th>4</th>\n",
       "      <td>2020-05-14</td>\n",
       "      <td>1335.020020</td>\n",
       "      <td>1357.420044</td>\n",
       "      <td>1323.910034</td>\n",
       "      <td>1356.130005</td>\n",
       "      <td>1356.130005</td>\n",
       "      <td>1603100</td>\n",
       "      <td>2020-05-14</td>\n",
       "    </tr>\n",
       "  </tbody>\n",
       "</table>\n",
       "</div>"
      ],
      "text/plain": [
       "         Date         Open         High          Low        Close  \\\n",
       "0  2020-05-08  1383.130005  1398.760010  1375.479980  1388.369995   \n",
       "1  2020-05-11  1378.280029  1416.530029  1377.151978  1403.260010   \n",
       "2  2020-05-12  1407.119995  1415.000000  1374.770020  1375.739990   \n",
       "3  2020-05-13  1377.050049  1385.482056  1328.400024  1349.329956   \n",
       "4  2020-05-14  1335.020020  1357.420044  1323.910034  1356.130005   \n",
       "\n",
       "     Adj Close   Volume      date_  \n",
       "0  1388.369995  1386900 2020-05-08  \n",
       "1  1403.260010  1412100 2020-05-11  \n",
       "2  1375.739990  1390600 2020-05-12  \n",
       "3  1349.329956  1812600 2020-05-13  \n",
       "4  1356.130005  1603100 2020-05-14  "
      ]
     },
     "execution_count": 10,
     "metadata": {},
     "output_type": "execute_result"
    }
   ],
   "source": [
    "goog.head()"
   ]
  },
  {
   "cell_type": "markdown",
   "id": "7b267602",
   "metadata": {},
   "source": [
    "## Amazon"
   ]
  },
  {
   "cell_type": "code",
   "execution_count": 11,
   "id": "d1e129a7",
   "metadata": {},
   "outputs": [
    {
     "data": {
      "image/png": "[encoded data removed]",
      "text/plain": [
       "<Figure size 1152x576 with 1 Axes>"
      ]
     },
     "metadata": {
      "needs_background": "light"
     },
     "output_type": "display_data"
    }
   ],
   "source": [
    "f, ax = plt.subplots(figsize=(16,8))\n",
    "scat_high = ax.scatter(x=amzn.date_,y=amzn.High,color='green',label='High',s=6)\n",
    "scat_low = ax.scatter(x=amzn.date_,y=amzn.Low,color='red',label='Low',s=6)\n",
    "\n",
    "plt.show()"
   ]
  },
  {
   "cell_type": "code",
   "execution_count": 40,
   "id": "a583ab5a",
   "metadata": {},
   "outputs": [],
   "source": [
    "dataAMZN = pd.DataFrame()\n",
    "for i in range(0,len(amzn)-20):\n",
    "    dataAMZN=dataAMZN.append(pd.Series(amzn.loc[i:i+19,'High'].values),ignore_index=True)\n",
    "    "
   ]
  },
  {
   "cell_type": "code",
   "execution_count": 41,
   "id": "c69835b3",
   "metadata": {},
   "outputs": [],
   "source": [
    "for i in range(1,20,1):\n",
    "    dataAMZN.loc[:,i] = dataAMZN.loc[:,i]/dataAMZN.loc[:,0] > 1.02"
   ]
  },
  {
   "cell_type": "code",
   "execution_count": 42,
   "id": "2da644da",
   "metadata": {},
   "outputs": [],
   "source": [
    "dataAMZN.loc[:,'marcaBernoulli'] = dataAMZN.loc[:,1:19].any(axis=1)"
   ]
  },
  {
   "cell_type": "markdown",
   "id": "d9021b1b",
   "metadata": {},
   "source": [
    "Sea el evento E: \"El precio de la acción comprada llega a un precio un 2% superior al precio de compra dentro de los 20 días de la compra\", bajo los siguientes supuestos:\n",
    "* Se compra al precio mínimo de la jornada\n",
    "* Se vende en al precio máximo de la jornada, el día que se alcanza el 2% de ganancia con ese máximo\n",
    "* Las observaciones son iid\n",
    "\n",
    "Entonces tenemos 104 realizaciones de nuestro expiremento Bernoulli que toma valor 1 si el evento sucede o 0, si no. \n",
    "\n",
    "Podemos estimar $\\theta \\sim \\hat{\\theta} = \\frac{1}{N} \\Sigma \\mathbb{1}_{Evento} = \\frac{78}{104} = 0.75$\n",
    "\n",
    "Y por lo tanto, la probabilidad estimada de obtener esa ganancia es de 75% para AMZN."
   ]
  },
  {
   "cell_type": "markdown",
   "id": "38b648cf",
   "metadata": {},
   "source": [
    "## Google"
   ]
  },
  {
   "cell_type": "code",
   "execution_count": 44,
   "id": "1c295cd0",
   "metadata": {},
   "outputs": [
    {
     "data": {
      "image/png": "[encoded data removed]",
      "text/plain": [
       "<Figure size 1152x576 with 1 Axes>"
      ]
     },
     "metadata": {
      "needs_background": "light"
     },
     "output_type": "display_data"
    }
   ],
   "source": [
    "f, ax = plt.subplots(figsize=(16,8))\n",
    "scat_high = ax.scatter(x=goog.date_,y=goog.High,color='green',label='High',s=6)\n",
    "scat_low = ax.scatter(x=goog.date_,y=goog.Low,color='red',label='Low',s=6)\n",
    "\n",
    "plt.show()"
   ]
  },
  {
   "cell_type": "code",
   "execution_count": 45,
   "id": "bedaa3b5",
   "metadata": {},
   "outputs": [],
   "source": [
    "dataGOOG = pd.DataFrame()\n",
    "for i in range(0,len(goog)-20):\n",
    "    dataGOOG=dataGOOG.append(pd.Series(goog.loc[i:i+19,'High'].values),ignore_index=True)\n",
    "    "
   ]
  },
  {
   "cell_type": "code",
   "execution_count": 46,
   "id": "f9332127",
   "metadata": {},
   "outputs": [],
   "source": [
    "for i in range(1,20,1):\n",
    "    dataGOOG.loc[:,i] = dataGOOG.loc[:,i]/dataGOOG.loc[:,0] > 1.02"
   ]
  },
  {
   "cell_type": "code",
   "execution_count": 47,
   "id": "d034abe7",
   "metadata": {},
   "outputs": [],
   "source": [
    "dataGOOG.loc[:,'marcaBernoulli'] = dataGOOG.loc[:,1:19].any(axis=1)"
   ]
  },
  {
   "cell_type": "code",
   "execution_count": 50,
   "id": "8c26be0e",
   "metadata": {},
   "outputs": [
    {
     "data": {
      "text/plain": [
       "(195, 232, 0.8405172413793104)"
      ]
     },
     "execution_count": 50,
     "metadata": {},
     "output_type": "execute_result"
    }
   ],
   "source": [
    "dataGOOG.marcaBernoulli.sum(),len(dataGOOG),dataGOOG.marcaBernoulli.sum()/len(dataGOOG)"
   ]
  },
  {
   "cell_type": "markdown",
   "id": "6e4d2c68",
   "metadata": {},
   "source": [
    "Para el caso de GOOG para el período muestreado, se tiene **$\\hat{\\theta} = 0.84$**, es decir, una **probabilidad de 84%** de poder obtener una ganancia del 2% dentro de los 20 días de la compra. "
   ]
  },
  {
   "cell_type": "markdown",
   "id": "984aa400",
   "metadata": {},
   "source": [
    "## Comentarios finales"
   ]
  },
  {
   "cell_type": "markdown",
   "id": "74bd1cbc",
   "metadata": {},
   "source": [
    "Este ejercicio de análisis bursátil presenta algunas limitaciones importantes para una verdadera operación y como modelo en sí mismo. Se comentan las principales:\n",
    "Para comenzar, se asume la independencia de las observaciones, lo cual no es correcto por varias razones, como la influencia que tiene un día de operaciones sobre las decisiones de los compradores/vendedores en la jornada siguiente. Al mismo tiempo, la manera en que se construyen las observaciones de 20 días tienen un alto grado de superposición.\n",
    "Por otro lado, la estrategia de operación tampoco está definida de manera completa o realista. El modelo asume la compra al mínimo del primer día de observación y la venta en el primer máximo que opere por encima del 2% de ese precio de compra. "
   ]
  }
 ],
 "metadata": {
  "kernelspec": {
   "display_name": "Python 3",
   "language": "python",
   "name": "python3"
  },
  "language_info": {
   "codemirror_mode": {
    "name": "ipython",
    "version": 3
   },
   "file_extension": ".py",
   "mimetype": "text/x-python",
   "name": "python",
   "nbconvert_exporter": "python",
   "pygments_lexer": "ipython3",
   "version": "3.8.5"
  }
 },
 "nbformat": 4,
 "nbformat_minor": 5
}
