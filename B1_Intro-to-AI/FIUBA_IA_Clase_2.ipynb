{
  "nbformat": 4,
  "nbformat_minor": 0,
  "metadata": {
    "colab": {
      "name": "FIUBA - IA - Clase 2.ipynb",
      "provenance": [],
      "collapsed_sections": [],
      "authorship_tag": "ABX9TyMizno2SoUpEHeQAeGxgLGW"
    },
    "kernelspec": {
      "name": "python3",
      "display_name": "Python 3"
    }
  },
  "cells": [
    {
      "cell_type": "code",
      "metadata": {
        "id": "C6qvLE35xPPe",
        "colab_type": "code",
        "colab": {}
      },
      "source": [
        "import numpy as np"
      ],
      "execution_count": null,
      "outputs": []
    },
    {
      "cell_type": "markdown",
      "metadata": {
        "id": "wdgoG2As4NNw",
        "colab_type": "text"
      },
      "source": [
        "# Ejercicio 1\n",
        "\n",
        "Dada una nube de puntos X y centros C, obtener las distancias de X a C.\n"
      ]
    },
    {
      "cell_type": "code",
      "metadata": {
        "id": "sqvCyCEY4NVc",
        "colab_type": "code",
        "colab": {}
      },
      "source": [
        "x = np.array([[1,2,3],[4,5,6],[7,8,9]])"
      ],
      "execution_count": null,
      "outputs": []
    },
    {
      "cell_type": "code",
      "metadata": {
        "id": "qTuktS864Nu4",
        "colab_type": "code",
        "colab": {}
      },
      "source": [
        "c = np.array([[1,0,0],[0,1,0]])"
      ],
      "execution_count": null,
      "outputs": []
    },
    {
      "cell_type": "code",
      "metadata": {
        "id": "WZp_F5Ek6Snj",
        "colab_type": "code",
        "colab": {}
      },
      "source": [
        "expanded_c = c[:,None]"
      ],
      "execution_count": null,
      "outputs": []
    },
    {
      "cell_type": "code",
      "metadata": {
        "id": "FkblihU_4OGE",
        "colab_type": "code",
        "colab": {
          "base_uri": "https://localhost:8080/",
          "height": 35
        },
        "outputId": "775000f0-e68d-4a1b-9759-8b75abad9ed4"
      },
      "source": [
        "c[:,None].shape"
      ],
      "execution_count": null,
      "outputs": [
        {
          "output_type": "execute_result",
          "data": {
            "text/plain": [
              "(2, 1, 3)"
            ]
          },
          "metadata": {
            "tags": []
          },
          "execution_count": 10
        }
      ]
    },
    {
      "cell_type": "code",
      "metadata": {
        "id": "zCMC65xK4OPB",
        "colab_type": "code",
        "colab": {}
      },
      "source": [
        "distances = np.sqrt(np.sum((expanded_c-x)**2,axis=2))"
      ],
      "execution_count": null,
      "outputs": []
    },
    {
      "cell_type": "code",
      "metadata": {
        "id": "w3r0O6dG4OXl",
        "colab_type": "code",
        "colab": {
          "base_uri": "https://localhost:8080/",
          "height": 54
        },
        "outputId": "a5db2a1b-9fbc-4cb2-b088-b7ccd73af505"
      },
      "source": [
        "distances"
      ],
      "execution_count": null,
      "outputs": [
        {
          "output_type": "execute_result",
          "data": {
            "text/plain": [
              "array([[ 3.60555128,  8.36660027, 13.45362405],\n",
              "       [ 3.31662479,  8.24621125, 13.37908816]])"
            ]
          },
          "metadata": {
            "tags": []
          },
          "execution_count": 26
        }
      ]
    },
    {
      "cell_type": "code",
      "metadata": {
        "id": "P8BjJLQ44PTx",
        "colab_type": "code",
        "colab": {
          "base_uri": "https://localhost:8080/",
          "height": 164
        },
        "outputId": "37e50e9b-7e4b-4723-a241-beaa545eea0a"
      },
      "source": [
        "print(c,c.shape)\n",
        "print(expanded_c,expanded_c.shape )\n",
        "print(expanded_c[0],expanded_c[0].shape)\n",
        "print(expanded_c[0][0],expanded_c[0][0].shape)\n",
        "print(expanded_c[0][0][0])"
      ],
      "execution_count": null,
      "outputs": [
        {
          "output_type": "stream",
          "text": [
            "[[1 0 0]\n",
            " [0 1 0]] (2, 3)\n",
            "[[[1 0 0]]\n",
            "\n",
            " [[0 1 0]]] (2, 1, 3)\n",
            "[[1 0 0]] (1, 3)\n",
            "[1 0 0] (3,)\n",
            "1\n"
          ],
          "name": "stdout"
        }
      ]
    },
    {
      "cell_type": "code",
      "metadata": {
        "id": "B81NtQPK4Pc8",
        "colab_type": "code",
        "colab": {
          "base_uri": "https://localhost:8080/",
          "height": 72
        },
        "outputId": "501378c3-8130-4373-93c8-4da26a58646a"
      },
      "source": [
        "np.sum((x - expanded_c)**2,axis=0)"
      ],
      "execution_count": null,
      "outputs": [
        {
          "output_type": "execute_result",
          "data": {
            "text/plain": [
              "array([[  1,   5,  18],\n",
              "       [ 25,  41,  72],\n",
              "       [ 85, 113, 162]])"
            ]
          },
          "metadata": {
            "tags": []
          },
          "execution_count": 46
        }
      ]
    },
    {
      "cell_type": "code",
      "metadata": {
        "id": "ojmlC2gg4PnV",
        "colab_type": "code",
        "colab": {
          "base_uri": "https://localhost:8080/",
          "height": 146
        },
        "outputId": "4fefcfd8-7fdd-4f90-b20d-756d1460dd25"
      },
      "source": [
        "(x - expanded_c)**2"
      ],
      "execution_count": null,
      "outputs": [
        {
          "output_type": "execute_result",
          "data": {
            "text/plain": [
              "array([[[ 0,  4,  9],\n",
              "        [ 9, 25, 36],\n",
              "        [36, 64, 81]],\n",
              "\n",
              "       [[ 1,  1,  9],\n",
              "        [16, 16, 36],\n",
              "        [49, 49, 81]]])"
            ]
          },
          "metadata": {
            "tags": []
          },
          "execution_count": 43
        }
      ]
    },
    {
      "cell_type": "markdown",
      "metadata": {
        "id": "5hQutAK-Az7T",
        "colab_type": "text"
      },
      "source": [
        "# Ejercicio 2\n",
        "\n",
        "Obtener para cada fila de X el índice de la fila en C con distancia euclídea más pequeña.\n",
        "\n",
        "Es decir, para fila en X a qué cluster pertenece de C."
      ]
    },
    {
      "cell_type": "code",
      "metadata": {
        "id": "6lW8qipSBMmO",
        "colab_type": "code",
        "colab": {
          "base_uri": "https://localhost:8080/",
          "height": 54
        },
        "outputId": "10382079-c2db-438d-b330-f0a9f8c669d2"
      },
      "source": [
        "distances"
      ],
      "execution_count": null,
      "outputs": [
        {
          "output_type": "execute_result",
          "data": {
            "text/plain": [
              "array([[ 3.60555128,  8.36660027, 13.45362405],\n",
              "       [ 3.31662479,  8.24621125, 13.37908816]])"
            ]
          },
          "metadata": {
            "tags": []
          },
          "execution_count": 53
        }
      ]
    },
    {
      "cell_type": "code",
      "metadata": {
        "id": "eqdZ3BHyAzyL",
        "colab_type": "code",
        "colab": {}
      },
      "source": [
        "cluster = np.argmin(distances,axis=0)"
      ],
      "execution_count": null,
      "outputs": []
    },
    {
      "cell_type": "code",
      "metadata": {
        "id": "4zd0Hh4NAzob",
        "colab_type": "code",
        "colab": {
          "base_uri": "https://localhost:8080/",
          "height": 35
        },
        "outputId": "e8a37173-ec52-434a-9748-5fb8ea9a6185"
      },
      "source": [
        "cluster"
      ],
      "execution_count": null,
      "outputs": [
        {
          "output_type": "execute_result",
          "data": {
            "text/plain": [
              "array([1, 1, 1])"
            ]
          },
          "metadata": {
            "tags": []
          },
          "execution_count": 55
        }
      ]
    },
    {
      "cell_type": "markdown",
      "metadata": {
        "id": "nGIH9--SAzec",
        "colab_type": "text"
      },
      "source": [
        "# Ejercicio 3\n",
        "K-means es uno de los algoritmos más básicos en Machine Learning no supervisado.\n",
        "Es un algoritmo de clusterización, que agrupa los datos que comparten características similares.\n",
        "Recordemos que entendemos datos como n realizaciones del vector aleatorio X.\n",
        "El algoritmo K-means funcione de la siguiente manera:\n",
        "1. El usuario selecciona la cantidad de clusters a crear (n).\n",
        "2. Se seleccionan n elementos aleatorios de X como posiciones iniciales del los centroides C.\n",
        "3. Se calcula la distancia entre todos los puntos en X y todos los puntos en C.\n",
        "4. Para cada punto en X se selecciona el centroide más cercano de C.\n",
        "5. Se recalculan los centroides C a partir de usar las filas de X que pertenecen a cada centroide.\n",
        "6. Se itera entre 3 y 5 una cantidad fija de veces o hasta que la posición de los centroides no cambie.\n",
        "Implementar la función def k_means(X, n) de manera tal que al finalizar devuelva la posición de los\n",
        "centroides y a que cluster pertenece cada fila de X.\n",
        "Hint: para (2) utilizar funciones de np.random, para (3) y (4) usar los ejercicios anteriores,\n",
        "para (5) es válido utilizar un for. Iterar 10 veces entre (3) y (5).\n"
      ]
    },
    {
      "cell_type": "code",
      "metadata": {
        "id": "a7S0TwPS0gAN",
        "colab_type": "code",
        "colab": {}
      },
      "source": [
        "import numpy as np"
      ],
      "execution_count": null,
      "outputs": []
    },
    {
      "cell_type": "code",
      "metadata": {
        "id": "N4vibivpK6n0",
        "colab_type": "code",
        "colab": {}
      },
      "source": [
        "x = np.random.randint(low=0,high=100,size=(1000,3))"
      ],
      "execution_count": null,
      "outputs": []
    },
    {
      "cell_type": "code",
      "metadata": {
        "id": "0xWEuXofAzVN",
        "colab_type": "code",
        "colab": {}
      },
      "source": [
        "def kmeans(x,nclus,max_iter=2):\n",
        "\n",
        "  random_index = np.random.randint(low=0,high=max(x.shape),size=nclus) # Vector random auxiliar\n",
        "  centroids = np.array(x[random_index]) # Inicializa centroides random\n",
        "  print(centroids.shape[0])\n",
        "  expanded_centroids = centroids[:,None] # Matriz expandida para poder broadcastear abajo\n",
        "  \n",
        "  for k in range(max_iter): # Maximas iteraciones hardcodeadas\n",
        "    for i in range(centroids.shape[0]): # Actualizo CADA centroide\n",
        "      distances = np.sqrt(np.sum( (expanded_centroids-x)**2,axis=2)) # Calculo de distancias entre vectores y los centroides\n",
        "      arg_min = np.argmin(distances,axis=0) # Asigna Cluster a cada Vector de X\n",
        "      centroids[i] = np.mean(x[arg_min == i, :], axis=0) \n",
        "      # Calcula nuevo centroide como el promedio de los asignados en la iteración anterior\n",
        "\n",
        "  return centroids, arg_min"
      ],
      "execution_count": null,
      "outputs": []
    },
    {
      "cell_type": "markdown",
      "metadata": {
        "id": "7OTqvUwt7Udk",
        "colab_type": "text"
      },
      "source": [
        "# Ejercicio 4 Dataset sintético\n",
        "\n",
        "* Definir una matriz con centroides [1,0,0,0] y [0,1,0,0]\n",
        "*Utilizar una constante para separar o alejar los centroides entre si.\n",
        "* Utilizar np.repeat para crear n/2 muestras de cada centroide.\n",
        "*Sumar a cada centroide un vector aleatorio normal i.i.d. con media 0 y desvio (np.random.normal).\n",
        "* Armar un arreglo que tenga n enteros indicado si la muestra pertenece a A o a B."
      ]
    },
    {
      "cell_type": "code",
      "metadata": {
        "id": "TC_P8znY8020",
        "colab_type": "code",
        "colab": {}
      },
      "source": [
        "def dataset(n_samples):\n",
        "  centroids = np.array([[1,0,0,0],[0,1,0,0]])\n",
        "  long_centroids = centroids * np.random.randint(low=1,high=10,size=(2,1))\n",
        "  moved_long_centroids = np.repeat(centroids,n_samples/2,axis=0) \n",
        "  noise = np.random.normal(size=(n_samples,centroids.shape[1]))\n",
        "  data = moved_long_centroids + noise\n",
        "  cluster_ids = np.array([[0],[1]])\n",
        "  cluster_ids = np.repeat(cluster_ids,n_samples/2,axis=0)\n",
        "  return data, cluster_ids\n"
      ],
      "execution_count": null,
      "outputs": []
    },
    {
      "cell_type": "markdown",
      "metadata": {
        "id": "UYv8bNGf7TxL",
        "colab_type": "text"
      },
      "source": [
        "# Ejercicio 5\n",
        "Simular una exponencial de parámetro lambda"
      ]
    },
    {
      "cell_type": "code",
      "metadata": {
        "id": "Ai_f7fQx7Tng",
        "colab_type": "code",
        "colab": {}
      },
      "source": [
        "def expo_from_uni(n,lam):\n",
        "  x_uni = np.random.uniform(size=(n,1))\n",
        "  x_exp = -np.log(1-x_uni)/lam\n",
        "  return x_exp"
      ],
      "execution_count": null,
      "outputs": []
    },
    {
      "cell_type": "code",
      "metadata": {
        "id": "IE1M9mxc7TJM",
        "colab_type": "code",
        "colab": {
          "base_uri": "https://localhost:8080/",
          "height": 54
        },
        "outputId": "6d1c16d1-d6f4-411e-924b-ff30b1e01ee8"
      },
      "source": [
        "expo_from_uni(2,4)"
      ],
      "execution_count": null,
      "outputs": [
        {
          "output_type": "execute_result",
          "data": {
            "text/plain": [
              "array([[0.58876861],\n",
              "       [0.27591633]])"
            ]
          },
          "metadata": {
            "tags": []
          },
          "execution_count": 109
        }
      ]
    },
    {
      "cell_type": "markdown",
      "metadata": {
        "id": "uLQx_eEsAngp",
        "colab_type": "text"
      },
      "source": [
        "# Ejercicio 6 - Calcular inversa generalizada de f(x) = 3x**2\n"
      ]
    },
    {
      "cell_type": "markdown",
      "metadata": {
        "id": "8DPbqlYdM4x8",
        "colab_type": "text"
      },
      "source": [
        "Si la pdf  3x2 entonces la CDF es la integral, que da x3, cuya inversa es potencia(1/3)\n"
      ]
    },
    {
      "cell_type": "code",
      "metadata": {
        "id": "RQpkVgGmM4jo",
        "colab_type": "code",
        "colab": {}
      },
      "source": [
        "def simulacion_3x2(n):\n",
        "  '''\n",
        "  Muestrea la pdf = 3x^2 x en [0,1] a\n",
        "  travès del método de inversa generalizada.\n",
        "  '''\n",
        "  x_uni = np.random.uniform(size=(n,1))\n",
        "  chosen_x = np.power(x_uni,1/3)\n",
        "  return chosen_x"
      ],
      "execution_count": null,
      "outputs": []
    },
    {
      "cell_type": "markdown",
      "metadata": {
        "id": "4FiyeDDaM4Uu",
        "colab_type": "text"
      },
      "source": [
        " # Ejercicio 7\n",
        "Dado un dataset X de n muestras y m columnas, implementar un método en numpy para normalizar con\n",
        "z-score. Pueden utilizar np.mean() y np.std()\n"
      ]
    },
    {
      "cell_type": "code",
      "metadata": {
        "id": "lz5kznYisjPJ",
        "colab_type": "code",
        "colab": {}
      },
      "source": [
        "a = np.array([[1,1,1,1],[1,2,3,4],[1,6,7,8],[1,10,11,12]])"
      ],
      "execution_count": null,
      "outputs": []
    },
    {
      "cell_type": "code",
      "metadata": {
        "id": "-0LKYtD0M4OD",
        "colab_type": "code",
        "colab": {}
      },
      "source": [
        "def normalizer(x):\n",
        "  means = np.mean(x,axis=0) #Calcula las medias por columna\n",
        "  stds  = np.std(x,axis=0) # Calcula las std dev por columna\n",
        "  return (x-means)/stds"
      ],
      "execution_count": null,
      "outputs": []
    },
    {
      "cell_type": "markdown",
      "metadata": {
        "id": "OIUp6YTatAzr",
        "colab_type": "text"
      },
      "source": [
        "# Ejercicio 8\n",
        "\n",
        "Dado un dataset X calcular PCA para reducir dimensión.\n",
        "Siguiendo los pasos del slide anterior, se requiere utilizar numpy para calcular PCA del dataset de entrada X\n",
        "utilizando las 2 componentes más importantes.\n",
        "x = np.array([ [0.4, 4800, 5.5], [0.7, 12104, 5.2], [1, 12500, 5.5], [1.5, 7002, 4.0] ])\n",
        "Al finalizar la implementación en numpy corroborar obtener los mismos resultados que utilizando el código\n",
        "de la librería scikit-learn. Para comparar las matrices escribir un tests usando np.testing.assert_allclose"
      ]
    },
    {
      "cell_type": "code",
      "metadata": {
        "id": "dNTzCGnftAsR",
        "colab_type": "code",
        "colab": {}
      },
      "source": [
        "x = np.array([ [0.4, 4800, 5.5], [0.7, 12104, 5.2], [1, 12500, 5.5], [1.5, 7002, 4.0] ])"
      ],
      "execution_count": null,
      "outputs": []
    },
    {
      "cell_type": "code",
      "metadata": {
        "id": "GdapITr9tAk-",
        "colab_type": "code",
        "colab": {}
      },
      "source": [
        "def pca_casero(dataset,d):\n",
        "  x_means = np.mean(dataset,axis=0) # Toma medias por columnas\n",
        "  centered_dataset = dataset - x_means # Mueve al centro\n",
        "  cov = np.cov(np.transpose(centered_dataset)) # Covariance matrix\n",
        "  eigValues,eigVectores =  np.linalg.eig(cov)\n",
        "  eigValuesOrder = np.argsort(np.abs(eigValues))\n",
        "## incorporar lo del valor absoluto para los autovalores\n",
        "\n",
        "  eigVectores = eigVectores[eigValuesOrder[::-1]]\n",
        "  pca = np.matmul(dataset,eigVectores[:,:d])\n",
        "  return pca"
      ],
      "execution_count": null,
      "outputs": []
    },
    {
      "cell_type": "code",
      "metadata": {
        "id": "59ej_KumtAct",
        "colab_type": "code",
        "colab": {
          "base_uri": "https://localhost:8080/",
          "height": 90
        },
        "outputId": "3b0968e0-6142-4232-cf91-778bc72041cf"
      },
      "source": [
        "pca_casero(x,2)"
      ],
      "execution_count": null,
      "outputs": [
        {
          "output_type": "execute_result",
          "data": {
            "text/plain": [
              "array([[ 5.74825533e+00, -2.62826180e+03],\n",
              "       [ 5.82601272e+00, -6.62734221e+03],\n",
              "       [ 6.14649766e+00, -6.84439725e+03],\n",
              "       [ 4.36215576e+00, -3.83474400e+03]])"
            ]
          },
          "metadata": {
            "tags": []
          },
          "execution_count": 15
        }
      ]
    },
    {
      "cell_type": "markdown",
      "metadata": {
        "id": "crVnD4DxtAU_",
        "colab_type": "text"
      },
      "source": [
        "# Ejercicio 9 - Remover filas y columnas con Nan de un dataset\n",
        "\n",
        "Dado un dataset, hacer una función que filtre columnas y filas que tienen nan."
      ]
    },
    {
      "cell_type": "code",
      "metadata": {
        "id": "q_tU5NnP-bDx",
        "colab_type": "code",
        "colab": {}
      },
      "source": [
        "a = np.array([[1,2,3,4,5,6,7,8,9],\n",
        "              [1,np.nan,2,4,5,6,np.nan,4,1],\n",
        "              [3,6,4,np.nan,2,1,5,6,7]])"
      ],
      "execution_count": null,
      "outputs": []
    },
    {
      "cell_type": "code",
      "metadata": {
        "id": "iJeKCbV_tAOI",
        "colab_type": "code",
        "colab": {}
      },
      "source": [
        "def desnanizador(x):\n",
        "  '''\n",
        "  Desdenanizador recibe un dataset en formato np.array y \n",
        "  le quita todas las filas y columnas que tengan nans.\n",
        "  No es lo más óptimo, pero es para practicar numpy.\n",
        "\n",
        "  Prefiere eliminar primero un registro antes que eliminar una variable\n",
        "  Podrìan verse variantes.\n",
        "  '''\n",
        "  row_filter =  np.logical_not(np.any(np.isnan(x) ,axis=1))\n",
        "  x = x[row_filter,:]\n",
        "  column_filter =  np.logical_not(np.any(np.isnan(x) ,axis=0))\n",
        "  x = x[:,column_filter]\n",
        "  print(x)\n",
        "\n",
        "  return x"
      ],
      "execution_count": null,
      "outputs": []
    },
    {
      "cell_type": "code",
      "metadata": {
        "id": "-9Z5ybA7v37b",
        "colab_type": "code",
        "colab": {
          "base_uri": "https://localhost:8080/",
          "height": 54
        },
        "outputId": "8d348cff-0c37-431e-c7ab-94306a599472"
      },
      "source": [
        "np.mean(a,axis=0)"
      ],
      "execution_count": null,
      "outputs": [
        {
          "output_type": "execute_result",
          "data": {
            "text/plain": [
              "array([1.66666667,        nan, 3.        ,        nan, 4.        ,\n",
              "       4.33333333,        nan, 6.        , 5.66666667])"
            ]
          },
          "metadata": {
            "tags": []
          },
          "execution_count": 54
        }
      ]
    },
    {
      "cell_type": "markdown",
      "metadata": {
        "id": "xa6KXPbtv3ou",
        "colab_type": "text"
      },
      "source": [
        "# Ejercicio 10 Reemplazar Nans por la media de la columna"
      ]
    },
    {
      "cell_type": "code",
      "metadata": {
        "id": "_XwqGFi5Aars",
        "colab_type": "code",
        "colab": {
          "base_uri": "https://localhost:8080/",
          "height": 35
        },
        "outputId": "39f2e9ee-715d-4b85-d803-2343a87fbd17"
      },
      "source": [
        "a.shape[1]"
      ],
      "execution_count": null,
      "outputs": [
        {
          "output_type": "execute_result",
          "data": {
            "text/plain": [
              "9"
            ]
          },
          "metadata": {
            "tags": []
          },
          "execution_count": 57
        }
      ]
    },
    {
      "cell_type": "code",
      "metadata": {
        "id": "5aPZ075JAqlI",
        "colab_type": "code",
        "colab": {
          "base_uri": "https://localhost:8080/",
          "height": 72
        },
        "outputId": "341e2b5b-dbd7-47f6-e934-77faac6810dd"
      },
      "source": [
        "a"
      ],
      "execution_count": null,
      "outputs": [
        {
          "output_type": "execute_result",
          "data": {
            "text/plain": [
              "array([[ 1.,  2.,  3.,  4.,  5.,  6.,  7.,  8.,  9.],\n",
              "       [ 1., nan,  2.,  4.,  5.,  6., nan,  4.,  1.],\n",
              "       [ 3.,  6.,  4., nan,  2.,  1.,  5.,  6.,  7.]])"
            ]
          },
          "metadata": {
            "tags": []
          },
          "execution_count": 80
        }
      ]
    },
    {
      "cell_type": "code",
      "metadata": {
        "id": "bH-OyjxzDW15",
        "colab_type": "code",
        "colab": {
          "base_uri": "https://localhost:8080/",
          "height": 72
        },
        "outputId": "7c6b30ad-31f1-4b69-f82b-2014e1b95db9"
      },
      "source": [
        "for x in np.where(np.any(np.isnan(a),axis=0))[0]:\n",
        "  print(x)"
      ],
      "execution_count": null,
      "outputs": [
        {
          "output_type": "stream",
          "text": [
            "1\n",
            "3\n",
            "6\n"
          ],
          "name": "stdout"
        }
      ]
    },
    {
      "cell_type": "code",
      "metadata": {
        "id": "drts4iWCF500",
        "colab_type": "code",
        "colab": {}
      },
      "source": [
        "a[:,[1]] = 5"
      ],
      "execution_count": null,
      "outputs": []
    },
    {
      "cell_type": "code",
      "metadata": {
        "id": "uxZolfq_G75B",
        "colab_type": "code",
        "colab": {
          "base_uri": "https://localhost:8080/",
          "height": 72
        },
        "outputId": "1a47581c-d0e0-4811-b952-f8e17b46be86"
      },
      "source": [
        "a"
      ],
      "execution_count": null,
      "outputs": [
        {
          "output_type": "execute_result",
          "data": {
            "text/plain": [
              "array([[ 1.,  5.,  3.,  4.,  5.,  6.,  7.,  8.,  9.],\n",
              "       [ 1.,  5.,  2.,  4.,  5.,  6., nan,  4.,  1.],\n",
              "       [ 3.,  5.,  4., nan,  2.,  1.,  5.,  6.,  7.]])"
            ]
          },
          "metadata": {
            "tags": []
          },
          "execution_count": 98
        }
      ]
    },
    {
      "cell_type": "code",
      "metadata": {
        "id": "ljXDA-zWv3iZ",
        "colab_type": "code",
        "colab": {}
      },
      "source": [
        "def desnanizador_promedio(x):\n",
        "'''\n",
        "Desnaniza reemplazando por el promedio de la columna.\n",
        "Si hubiera una columna con todos nan, rompe. \n",
        "'''\n",
        "\n",
        "  columnas_con_nans = np.where(np.any(np.isnan(x),axis=0))[0] # Genera indices de columnas con nan\n",
        "  for i in columnas_con_nans: #Loop sobre ese índice\n",
        "    x_i = x[:,[i]] #Toma prestada una columna con nan\n",
        "    x_i = x_i[np.logical_not(np.isnan(x_i))] # Le quita los nan a esa columna\n",
        "    media = np.mean(x_i) #Calcula la media de la columna sin los nans\n",
        "    x[:,[i]] = np.nan_to_num(x[:,[i]],nan=media) #Reemplaza nan en la columna de X original\n",
        "  return x #Devuelve el dataset limpio"
      ],
      "execution_count": null,
      "outputs": []
    },
    {
      "cell_type": "code",
      "metadata": {
        "id": "KqTGWdmBCggE",
        "colab_type": "code",
        "colab": {
          "base_uri": "https://localhost:8080/",
          "height": 72
        },
        "outputId": "f92cd688-15ee-421a-d047-7281de48bd5a"
      },
      "source": [
        "desnanizador_promedio(a)"
      ],
      "execution_count": null,
      "outputs": [
        {
          "output_type": "execute_result",
          "data": {
            "text/plain": [
              "array([[1., 5., 3., 4., 5., 6., 7., 8., 9.],\n",
              "       [1., 5., 2., 4., 5., 6., 6., 4., 1.],\n",
              "       [3., 5., 4., 4., 2., 1., 5., 6., 7.]])"
            ]
          },
          "metadata": {
            "tags": []
          },
          "execution_count": 104
        }
      ]
    },
    {
      "cell_type": "markdown",
      "metadata": {
        "id": "ALpQ6Y4LHnHW",
        "colab_type": "text"
      },
      "source": [
        "#Ejercicio 11: Train, validation, test\n",
        "\n",
        "Hacer un random split en 70-20-10"
      ]
    },
    {
      "cell_type": "code",
      "metadata": {
        "id": "8MnUhrp_HyVN",
        "colab_type": "code",
        "colab": {}
      },
      "source": [
        "def train_test_validation_split(x):\n",
        "  registros = len(x) # Cantidad de registros\n",
        "  x = np.random.permutation(x) # Permuta el dataset\n",
        "  trains = int(np.floor(0.70*registros)) # Calcula el corte para 70%\n",
        "  test = int(np.floor(0.20*registros)) #idem\n",
        "  validation = int(np.floor(0.10*registros)) #idem\n",
        "  x_train = x[0:trains,:] #toma el primero 70% de los registros permutados\n",
        "  x_test = x[trains:test,:] #idem 20&\n",
        "  x_validation = x[test:,:] #idem 10&\n",
        "  return x_train,x_test,x_validation #devuelve los 3 splits"
      ],
      "execution_count": null,
      "outputs": []
    },
    {
      "cell_type": "code",
      "metadata": {
        "id": "yEo8yByMHyNU",
        "colab_type": "code",
        "colab": {}
      },
      "source": [
        "random_data = np.random.randint(low=0,high=25,size=(1000,10))"
      ],
      "execution_count": null,
      "outputs": []
    },
    {
      "cell_type": "code",
      "metadata": {
        "id": "4M8I4YRXHx1-",
        "colab_type": "code",
        "colab": {}
      },
      "source": [
        "a,b,c= train_test_validation_split(random_data)"
      ],
      "execution_count": null,
      "outputs": []
    },
    {
      "cell_type": "code",
      "metadata": {
        "id": "qmahyByhHxv-",
        "colab_type": "code",
        "colab": {
          "base_uri": "https://localhost:8080/",
          "height": 293
        },
        "outputId": "52a789ac-e10f-4b94-f1d5-d58f5f11a2fc"
      },
      "source": [
        "a,b,c"
      ],
      "execution_count": null,
      "outputs": [
        {
          "output_type": "execute_result",
          "data": {
            "text/plain": [
              "(array([[14, 23,  5, ..., 16,  8, 15],\n",
              "        [20,  1,  0, ..., 12, 12, 21],\n",
              "        [ 3,  6,  6, ...,  7,  0, 12],\n",
              "        ...,\n",
              "        [17, 22, 22, ..., 24, 19, 20],\n",
              "        [14,  0, 12, ...,  9, 23, 24],\n",
              "        [15, 16, 23, ..., 17,  3, 18]]),\n",
              " array([], shape=(0, 10), dtype=int64),\n",
              " array([[ 9, 24,  2, ..., 10,  3, 13],\n",
              "        [ 2, 11,  9, ..., 16,  1,  4],\n",
              "        [ 8, 14, 14, ...,  7,  4,  8],\n",
              "        ...,\n",
              "        [ 1, 22,  4, ..., 22,  6,  5],\n",
              "        [ 9, 13,  2, ...,  2,  8, 11],\n",
              "        [ 2, 14,  4, ..., 22, 13, 22]]))"
            ]
          },
          "metadata": {
            "tags": []
          },
          "execution_count": 122
        }
      ]
    },
    {
      "cell_type": "markdown",
      "metadata": {
        "id": "6iK71pLCBBmB",
        "colab_type": "text"
      },
      "source": [
        "#Ejercicio 12 - Integrador"
      ]
    },
    {
      "cell_type": "code",
      "metadata": {
        "id": "CIzGPq3XEqGw",
        "colab_type": "code",
        "colab": {}
      },
      "source": [
        "\n"
      ],
      "execution_count": null,
      "outputs": []
    },
    {
      "cell_type": "code",
      "metadata": {
        "id": "rskXrkVJKiOP",
        "colab_type": "code",
        "colab": {}
      },
      "source": [
        ""
      ],
      "execution_count": null,
      "outputs": []
    }
  ]
}
