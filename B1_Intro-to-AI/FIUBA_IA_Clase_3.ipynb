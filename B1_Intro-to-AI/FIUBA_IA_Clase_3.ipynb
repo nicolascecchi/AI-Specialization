{
  "nbformat": 4,
  "nbformat_minor": 0,
  "metadata": {
    "colab": {
      "name": "FIUBA - IA - Clase 3.ipynb",
      "provenance": [],
      "mount_file_id": "1t4wYATkNwqDIjNAqgPfftqpWmvivcjfL",
      "authorship_tag": "ABX9TyNULzxFg7ypzbOrej9Ws4Bi"
    },
    "kernelspec": {
      "name": "python3",
      "display_name": "Python 3"
    }
  },
  "cells": [
    {
      "cell_type": "code",
      "metadata": {
        "id": "pTnIWeBLKAO4",
        "colab_type": "code",
        "colab": {}
      },
      "source": [
        "import numpy as np"
      ],
      "execution_count": 3,
      "outputs": []
    },
    {
      "cell_type": "markdown",
      "metadata": {
        "id": "AJ8c5ePOTU0M",
        "colab_type": "text"
      },
      "source": [
        "Agregar tambien un modelo que haga un promedio de las Yes\n",
        "\n",
        "\n",
        "%load_ext autoreload\n",
        "%autoreload 2"
      ]
    },
    {
      "cell_type": "code",
      "metadata": {
        "id": "Csk37yTBSQaY",
        "colab_type": "code",
        "colab": {}
      },
      "source": [
        "def train_test_split(x,train_pct):\n",
        "  registros = len(x) # Cantidad de registros\n",
        "  x = np.random.permutation(x) # Permuta el dataset\n",
        "  trains = int(np.floor(train_pct*registros)) # Calcula el corte para 70%\n",
        "  test_pct = 1-train_pct\n",
        "  test = int(np.floor(test_pct*registros)) #idem\n",
        "  x_train = x[0:trains] #toma el primero 70% de los registros permutados\n",
        "  x_test = x[trains:] #idem 20&\n",
        "  return x_train, x_test #devuelve los 3 splits"
      ],
      "execution_count": 77,
      "outputs": []
    },
    {
      "cell_type": "code",
      "metadata": {
        "id": "P35vnutIWj3P",
        "colab_type": "code",
        "colab": {}
      },
      "source": [
        "path = '/content/drive/My Drive/Especializacion UBA/Introduccion a IA/data/income_data.csv'"
      ],
      "execution_count": 13,
      "outputs": []
    },
    {
      "cell_type": "code",
      "metadata": {
        "id": "IF9kApSAWdFb",
        "colab_type": "code",
        "colab": {}
      },
      "source": [
        "structure = [('register',np.int),\n",
        "          ('income', np.float32),\n",
        "          ('happiness', np.float32)]\n",
        "structure = np.dtype(structure)\n",
        "with open(path, encoding=\"utf8\") as rawdataset:\n",
        "      line = rawdataset.readline()\n",
        "      b = rawdataset.readline()\n",
        "      #line.strip() \n",
        "      rows_gen = ((np.int(line.split(',')[0].replace('\"','')), line.split(',')[1],line.split(',')[2])\n",
        "                        for line in rawdataset)\n",
        "      registers = np.fromiter(rows_gen, structure)"
      ],
      "execution_count": 41,
      "outputs": []
    },
    {
      "cell_type": "code",
      "metadata": {
        "id": "-jqfPWzhODLg",
        "colab_type": "code",
        "colab": {}
      },
      "source": [
        "class dataset(object):\n",
        "\n",
        "  def __init__(self,path):\n",
        "    #self.path = path\n",
        "    self.dataset = self.build_dataset(path=path)\n",
        "      \n",
        "  def split(self,percentage):\n",
        "    #returns train test segun el parametro percentaje\n",
        "    self.train,self.test = train_test_split(self.dataset,percentage)\n",
        "    \n",
        "  def build_dataset(self):\n",
        "    #usar np estructurado para levantar la data y cargarla\n",
        "    #Agregar opcion header y estructura dinamica\n",
        "    structure = [('register', np.int),\n",
        "              ('income', np.float32),\n",
        "              ('happiness', np.float32)]\n",
        "    structure = np.dtype(structure)\n",
        "    # load numpy array from disk using a generator\n",
        "    with open(path, encoding=\"utf8\") as rawdataset:\n",
        "      line = rawdataset.readline()\n",
        "      line.strip()\n",
        "      rows_gen = ((np.int(line.split(',')[0].replace('\"','')), line.split(',')[1],line.split(',')[2])\n",
        "                        for line in rawdataset)\n",
        "      loadedData = np.fromiter(rows_gen, structure)\n",
        "\n",
        "    return loadedData"
      ],
      "execution_count": 275,
      "outputs": []
    },
    {
      "cell_type": "code",
      "metadata": {
        "id": "MVNgUsxCdhZ9",
        "colab_type": "code",
        "colab": {}
      },
      "source": [
        "x = datos['income']\n",
        "y = datos['happiness']"
      ],
      "execution_count": 122,
      "outputs": []
    },
    {
      "cell_type": "code",
      "metadata": {
        "id": "M8J6monmOcjq",
        "colab_type": "code",
        "colab": {}
      },
      "source": [
        "class BaseModel(object):\n",
        "  def __init__(self):\n",
        "    self.model = None\n",
        "\n",
        "  def fit(self,x,y):\n",
        "    #train del model\n",
        "    return NotImplemented\n",
        "\n",
        "  def predict(self,x):\n",
        "    #returns yhat\n",
        "    return NotImplemented"
      ],
      "execution_count": 141,
      "outputs": []
    },
    {
      "cell_type": "code",
      "metadata": {
        "id": "YtsnvxipOY2M",
        "colab_type": "code",
        "colab": {}
      },
      "source": [
        "class LinearRegression(BaseModel):\n",
        "  def fit(self,x,y):\n",
        "    #self.model= W \n",
        "    # c'alcular W y guardarlo en el model\n",
        "    if len(y.shape == 1):\n",
        "      y = y[None].T #Le agrego una dimensión y lo hago vector columna\n",
        "\n",
        "    if len(x.shape) == 1:\n",
        "      x = x[None].T # Le agrego la dimensión y lo hago vector columna\n",
        "    else:\n",
        "      x = x.T\n",
        "    \n",
        "    xt = x.T # Transpongo, queda vector fila\n",
        "    xty = np.matmul(xt,y)\n",
        "    inv_xtx = np.linalg.inv(np.matmul(xt,x))\n",
        "    self.w = np.matmul(inv_xtx,xty)\n",
        "    \n",
        "  def predict(self,X):\n",
        "    #usar el modelo para predecir y hat a partir de X y W\n",
        "    if len(X.shape) == 1:\n",
        "      X = x[None].T\n",
        "    y_predict = np.matmul(self.w.T,X)  \n",
        "    return y_predict"
      ],
      "execution_count": 214,
      "outputs": []
    },
    {
      "cell_type": "code",
      "metadata": {
        "id": "6jcs8UMpRUpy",
        "colab_type": "code",
        "colab": {}
      },
      "source": [
        "class AverageBaseModel(BaseModel):\n",
        "  def __init__(self,y):\n",
        "    self.y = y\n",
        "  def predict(self,x):\n",
        "    y_mean = np.mean(self.y)\n",
        "    n = len(x)\n",
        "    prediction = y_mean * np.ones(shape=(n,1))\n",
        "    return prediction"
      ],
      "execution_count": 313,
      "outputs": []
    },
    {
      "cell_type": "code",
      "metadata": {
        "id": "LJ6Mi6x4lcfE",
        "colab_type": "code",
        "colab": {}
      },
      "source": [
        "class LinearRegressionAffine(BaseModel):\n",
        "  def fit(self,x,y):\n",
        "    #self.model= W \n",
        "    # c'alcular W y guardarlo en el model\n",
        "    if len(y.shape) == 1:\n",
        "      y = y[None].T #Le agrego una dimensión y lo hago vector columna\n",
        "\n",
        "    if len(x.shape) == 1:\n",
        "      x = x[None].T # Le agrego la dimensión y lo hago vector columna\n",
        "    else:\n",
        "      x = x.T\n",
        "    n = len(x)\n",
        "    X0 = np.ones((n,1))\n",
        "    x = np.hstack((x,X0))\n",
        "    xt = x.T # Transpongo, queda vector fila\n",
        "    xty = np.matmul(xt,y)\n",
        "    inv_xtx = np.linalg.inv(np.matmul(xt,x))\n",
        "    self.w = np.matmul(inv_xtx,xty)\n",
        "        \n",
        "  def predict(self,X):\n",
        "    #usar el modelo para predecir y hat a partir de X y W\n",
        "    if len(X.shape) == 1:\n",
        "      X = X[None].T\n",
        "    n = len(X)\n",
        "    X0 = np.ones((n,1))\n",
        "    self.X = np.hstack((X,X0))\n",
        "    y_predict = np.matmul(self.X,self.w)\n",
        "    return y_predict"
      ],
      "execution_count": 263,
      "outputs": []
    },
    {
      "cell_type": "code",
      "metadata": {
        "id": "Viqk1sFFOeyB",
        "colab_type": "code",
        "colab": {}
      },
      "source": [
        "class Metric(object):\n",
        "  def __call__(self,target,prediction):\n",
        "    return NotImplemented\n",
        "\n",
        "class MSE(Metric):\n",
        "  def __call__(self,target,prediction):\n",
        "    #Flattens para asegurar que tengan shape (len,)\n",
        "    prediction = prediction.flatten()\n",
        "    target = target.flatten()\n",
        "    # Calcula el mse y lo devuelve      \n",
        "    mse = np.sum((target - prediction)**2)\n",
        "    return mse"
      ],
      "execution_count": 301,
      "outputs": []
    },
    {
      "cell_type": "markdown",
      "metadata": {
        "id": "ncmRr6U4rVrK",
        "colab_type": "text"
      },
      "source": [
        "#Prueba del funcionamiento de todo"
      ]
    },
    {
      "cell_type": "code",
      "metadata": {
        "id": "7C6j9tkgQ5W2",
        "colab_type": "code",
        "colab": {
          "base_uri": "https://localhost:8080/",
          "height": 36
        },
        "outputId": "fa4e67b6-c3fe-43eb-e29b-e93c984bf09b"
      },
      "source": [
        "path"
      ],
      "execution_count": 276,
      "outputs": [
        {
          "output_type": "execute_result",
          "data": {
            "application/vnd.google.colaboratory.intrinsic": {
              "type": "string"
            },
            "text/plain": [
              "'/content/drive/My Drive/Especializacion UBA/Introduccion a IA/data/income_data.csv'"
            ]
          },
          "metadata": {
            "tags": []
          },
          "execution_count": 276
        }
      ]
    },
    {
      "cell_type": "code",
      "metadata": {
        "id": "Z_2b9hzNrXmp",
        "colab_type": "code",
        "colab": {}
      },
      "source": [
        "datos = dataset(path=path,percentage=0.80)"
      ],
      "execution_count": 277,
      "outputs": []
    },
    {
      "cell_type": "code",
      "metadata": {
        "id": "uDZkse6-rd8K",
        "colab_type": "code",
        "colab": {}
      },
      "source": [
        "datos.split()"
      ],
      "execution_count": 278,
      "outputs": []
    },
    {
      "cell_type": "code",
      "metadata": {
        "id": "OpcbXIzprhez",
        "colab_type": "code",
        "colab": {}
      },
      "source": [
        "lr = LinearRegressionAffine()"
      ],
      "execution_count": 279,
      "outputs": []
    },
    {
      "cell_type": "code",
      "metadata": {
        "id": "qjzWu8dnr3T6",
        "colab_type": "code",
        "colab": {}
      },
      "source": [
        "x = datos.train['income']\n",
        "y = datos.train['happiness']"
      ],
      "execution_count": 280,
      "outputs": []
    },
    {
      "cell_type": "code",
      "metadata": {
        "id": "riTHY11Grzk7",
        "colab_type": "code",
        "colab": {}
      },
      "source": [
        "lr.fit(x=x,y=y)"
      ],
      "execution_count": 281,
      "outputs": []
    },
    {
      "cell_type": "code",
      "metadata": {
        "id": "AAUcBxvbsCOC",
        "colab_type": "code",
        "colab": {}
      },
      "source": [
        "pred = lr.predict(X=datos.test['income'])"
      ],
      "execution_count": 282,
      "outputs": []
    },
    {
      "cell_type": "code",
      "metadata": {
        "id": "B-VYNV7TKd69",
        "colab_type": "code",
        "colab": {}
      },
      "source": [
        "mse = MSE()"
      ],
      "execution_count": 302,
      "outputs": []
    },
    {
      "cell_type": "code",
      "metadata": {
        "id": "-jt3wZq7KiKV",
        "colab_type": "code",
        "colab": {
          "base_uri": "https://localhost:8080/",
          "height": 35
        },
        "outputId": "304946d7-8e37-4276-d78a-58051b076dda"
      },
      "source": [
        "mse(target=datos.test['happiness'],prediction=pred)"
      ],
      "execution_count": 306,
      "outputs": [
        {
          "output_type": "execute_result",
          "data": {
            "text/plain": [
              "45.135487852605145"
            ]
          },
          "metadata": {
            "tags": []
          },
          "execution_count": 306
        }
      ]
    },
    {
      "cell_type": "code",
      "metadata": {
        "id": "1KmGAX0oRwZ9",
        "colab_type": "code",
        "colab": {}
      },
      "source": [
        "modelo_base = AverageBaseModel(datos.test['happiness'])"
      ],
      "execution_count": 314,
      "outputs": []
    },
    {
      "cell_type": "code",
      "metadata": {
        "id": "7se8QfcvSl9O",
        "colab_type": "code",
        "colab": {}
      },
      "source": [
        "basePrediction = modelo_base.predict(datos.test['happiness'])"
      ],
      "execution_count": 317,
      "outputs": []
    },
    {
      "cell_type": "code",
      "metadata": {
        "id": "83S6V78QR6fx",
        "colab_type": "code",
        "colab": {
          "base_uri": "https://localhost:8080/",
          "height": 35
        },
        "outputId": "c2de4e48-e52f-4a98-ad0b-a87745554b53"
      },
      "source": [
        "mse(target=datos.test['happiness'],prediction=basePrediction)"
      ],
      "execution_count": 318,
      "outputs": [
        {
          "output_type": "execute_result",
          "data": {
            "text/plain": [
              "187.5630869794794"
            ]
          },
          "metadata": {
            "tags": []
          },
          "execution_count": 318
        }
      ]
    },
    {
      "cell_type": "markdown",
      "metadata": {
        "id": "XTr9dNrHTamx",
        "colab_type": "text"
      },
      "source": [
        "Se verifica que la Affine Linear Regresion tiene un MSE menor que la Base Prediction. "
      ]
    }
  ]
}
