{
  "nbformat": 4,
  "nbformat_minor": 0,
  "metadata": {
    "colab": {
      "name": "FIUBA - IA - Clase 1.ipynb",
      "provenance": [],
      "mount_file_id": "1TS14b-V0AasSNMhQLxyq3Udbs84JNaw7",
      "authorship_tag": "ABX9TyMSPRfRf7crP9aH1GrqWfiL"
    },
    "kernelspec": {
      "name": "python3",
      "display_name": "Python 3"
    }
  },
  "cells": [
    {
      "cell_type": "code",
      "metadata": {
        "id": "CNdYNiUTJLzO",
        "colab_type": "code",
        "colab": {}
      },
      "source": [
        "import numpy as np\n",
        "from unittest import TestCase\n",
        "import math\n",
        "import pickle as pk"
      ],
      "execution_count": null,
      "outputs": []
    },
    {
      "cell_type": "code",
      "metadata": {
        "id": "WPyMdfUC3M3_",
        "colab_type": "code",
        "colab": {}
      },
      "source": [
        "\n",
        "datapath = '/content/drive/My Drive/Especializacion UBA/Introduccion a IA/data/'"
      ],
      "execution_count": null,
      "outputs": []
    },
    {
      "cell_type": "markdown",
      "metadata": {
        "id": "h_4Vs26ZDEMy",
        "colab_type": "text"
      },
      "source": [
        "# Data set up"
      ]
    },
    {
      "cell_type": "code",
      "metadata": {
        "id": "toywJTSVDFn4",
        "colab_type": "code",
        "colab": {
          "base_uri": "https://localhost:8080/",
          "height": 74
        },
        "outputId": "dcb464b8-668b-4f15-f9c9-c9b30948a7c5"
      },
      "source": [
        "!unzip '/content/drive/My Drive/Especializacion UBA/Introduccion a IA/data/kaggle_movie_ratings.zip' -d '/content/drive/My Drive/Especializacion UBA/Introduccion a IA/data/'"
      ],
      "execution_count": null,
      "outputs": [
        {
          "output_type": "stream",
          "text": [
            "Archive:  /content/drive/My Drive/Especializacion UBA/Introduccion a IA/data/kaggle_movie_ratings.zip\n",
            "  inflating: /content/drive/My Drive/Especializacion UBA/Introduccion a IA/data/ratings.csv  \n"
          ],
          "name": "stdout"
        }
      ]
    },
    {
      "cell_type": "markdown",
      "metadata": {
        "id": "2NK1Ro-1NTvm",
        "colab_type": "text"
      },
      "source": [
        "# Ejercicio 1"
      ]
    },
    {
      "cell_type": "code",
      "metadata": {
        "id": "_J-qFqMUJoj_",
        "colab_type": "code",
        "colab": {}
      },
      "source": [
        "a = np.array([[1,-1,1],[-3,4,5]],np.float64)"
      ],
      "execution_count": null,
      "outputs": []
    },
    {
      "cell_type": "code",
      "metadata": {
        "id": "JVdp56UleNiE",
        "colab_type": "code",
        "colab": {}
      },
      "source": [
        "class NormTestClass(TestCase):\n",
        "  def __init__(self):\n",
        "    self.tester1 = np.array([[1,2,3,4,5,0],[0,0,0,4,0,8]])\n",
        "    self.tester2 = np.array([[1, 0, 0, 4], [5, 6, 0, 8]])\n",
        "\n",
        "  def test_norm_0(self):\n",
        "    expected = np.array([5,2])\n",
        "    result = norm_l0(self.tester1)\n",
        "    np.testing.assert_equal(expected,result)\n",
        "    \n",
        "    expected = np.array([2, 3])\n",
        "    result = norm_l0(self.tester2)\n",
        "    np.testing.assert_equal(expected, result)\n",
        "\n",
        "  def test_norm_l1(self):\n",
        "\n",
        "    expected = np.array([15,12 ])\n",
        "    result = norma_p(self.tester1,1)\n",
        "    np.testing.assert_equal(expected, result)\n",
        "\n",
        "    expected = np.array([5, 19])\n",
        "    result = norma_p(self.tester2,1)\n",
        "    np.testing.assert_equal(expected, result)\n",
        "\n",
        "    \n",
        "  def test_norm_l2(self):\n",
        "\n",
        "    expected = np.array([ np.sqrt(55),np.sqrt(80) ])\n",
        "    result = norma_p(self.tester1,2)\n",
        "    np.testing.assert_equal(expected, result)\n",
        "\n",
        "    expected = np.array([np.sqrt(17) ,np.sqrt(125)])\n",
        "    result = norma_p(self.tester2,2)\n",
        "    np.testing.assert_equal(expected, result)\n",
        "\n",
        "  def test_norm_inf(self):\n",
        "    a = np.array([[1, 2, 3, 4], [5, 6, 7, 8]])\n",
        "    expected = np.array([4, 8])\n",
        "    result = vector_norm_inf(a)\n",
        "    np.testing.assert_equal(expected, result)"
      ],
      "execution_count": null,
      "outputs": []
    },
    {
      "cell_type": "code",
      "metadata": {
        "id": "DDbhLnzWJwoU",
        "colab_type": "code",
        "colab": {}
      },
      "source": [
        "t = NormTestClass()"
      ],
      "execution_count": null,
      "outputs": []
    },
    {
      "cell_type": "code",
      "metadata": {
        "id": "_XAUli1sK0R8",
        "colab_type": "code",
        "colab": {}
      },
      "source": [
        "# Norma 0\n",
        "# Numeros de elementos diferentes a 0\n",
        "def norm_l0(a):\n",
        "  mask = a > 0\n",
        "  return np.sum(mask,axis=1)\n",
        "\n",
        "# Norma infinito\n",
        "# El máximo\n",
        "def n_inf(matriz):\n",
        "  np.max(np.abs(matriz),axis=1)\n",
        "\n",
        "# Norma p\n",
        "def norma_p(matriz,p):\n",
        "  return np.power( np.sum(np.power(np.abs(matriz),p),axis=1), 1/p)"
      ],
      "execution_count": null,
      "outputs": []
    },
    {
      "cell_type": "markdown",
      "metadata": {
        "id": "I1f9quEOsPx6",
        "colab_type": "text"
      },
      "source": [
        ""
      ]
    },
    {
      "cell_type": "markdown",
      "metadata": {
        "id": "xQX-2zpBNKpF",
        "colab_type": "text"
      },
      "source": [
        "# Ejercicio 2\n",
        "\n",
        "Dada una matriz A con sus filas 1 y 2.\n",
        "\n",
        "De cada fila calcular la norma l1 y l2.\n",
        "\n",
        "Ordenar esa matriz en función de una norma creciente o decreciente. "
      ]
    },
    {
      "cell_type": "markdown",
      "metadata": {
        "id": "iv_Y-9o0OrGo",
        "colab_type": "text"
      },
      "source": [
        "np.argsort()\n",
        "\n",
        "Te devuelve un array con los valores del orden que ocupan los números en el orden"
      ]
    },
    {
      "cell_type": "code",
      "metadata": {
        "id": "ZzPLRoLtOEHc",
        "colab_type": "code",
        "colab": {}
      },
      "source": [
        "a = np.array([[0,0],[3,4],[0,1]],dtype=np.float64)"
      ],
      "execution_count": null,
      "outputs": []
    },
    {
      "cell_type": "code",
      "metadata": {
        "id": "h-nu6cXKOLGB",
        "colab_type": "code",
        "colab": {}
      },
      "source": [
        "def sort_vector_by_norm_p(matrix,p,asc=True):\n",
        "  '''\n",
        "  a <numpy.array> Matrix to operate with\n",
        "  n <int> Calculate norm n from norma_p \n",
        "  '''\n",
        "  normal2 = norma_p(matrix,p=p)\n",
        "  order = np.argsort(normal2 *-1)\n",
        "  return matrix[order,:]"
      ],
      "execution_count": null,
      "outputs": []
    },
    {
      "cell_type": "code",
      "metadata": {
        "id": "iDVR4ka1PhaF",
        "colab_type": "code",
        "colab": {
          "base_uri": "https://localhost:8080/",
          "height": 72
        },
        "outputId": "603fc6fa-9991-4808-901b-4407b08d144b"
      },
      "source": [
        "mat = np.array([[1,2,3],[7,8,9],[4,5,6]],dtype=np.float64)\n",
        "sort_vector_by_norm_p(mat,2)"
      ],
      "execution_count": null,
      "outputs": [
        {
          "output_type": "execute_result",
          "data": {
            "text/plain": [
              "array([[1., 2., 3.],\n",
              "       [7., 8., 9.],\n",
              "       [4., 5., 6.]])"
            ]
          },
          "metadata": {
            "tags": []
          },
          "execution_count": 36
        }
      ]
    },
    {
      "cell_type": "code",
      "metadata": {
        "id": "ntEsqXA8tHm_",
        "colab_type": "code",
        "colab": {}
      },
      "source": [
        "def sorting_vectors_by_norm_l2(matrix):\n",
        "  norm_l2 = norma_p(matrix,p=2)\n",
        "  arg_sort = np.argsort(norm_l2 * -1)\n",
        "  return matrix[arg_sort, :]"
      ],
      "execution_count": null,
      "outputs": []
    },
    {
      "cell_type": "code",
      "metadata": {
        "id": "AbWEw0n_vjrY",
        "colab_type": "code",
        "colab": {}
      },
      "source": [
        "arg_sort = np.argsort(norma_p(mat,2) * -1)"
      ],
      "execution_count": null,
      "outputs": []
    },
    {
      "cell_type": "markdown",
      "metadata": {
        "id": "4FAxe-3MRA5e",
        "colab_type": "text"
      },
      "source": [
        "# Ejercicio 3 \n",
        "\n",
        "Muchas veces tenemos la bbdd sin una numeración \"ordenada\" de una matriz.\n",
        "Quisiéramos crearles un índice que sí sea continuo, para poder acceder a los datos de una manera ordenada y prolija.\n",
        "\n",
        "\n",
        "ej:\n",
        "\n",
        "Tengo los nros de clientes [15 , 18 , 28 .. ]\n",
        "y lo quiero pasa a [0,1,2... ] \n",
        "\n",
        "\n",
        "Quiero crear una clase que pase de identificador a index y de index a identificador. "
      ]
    },
    {
      "cell_type": "code",
      "metadata": {
        "id": "NqhzV4GZRsCV",
        "colab_type": "code",
        "colab": {}
      },
      "source": [
        "users_id = np.array([15, 12, 14, 10, 1, 2, 1])\n",
        "users_idx = np.array([0, 1, 2, 3, 4, 5, 4])\n"
      ],
      "execution_count": null,
      "outputs": []
    },
    {
      "cell_type": "code",
      "metadata": {
        "id": "24qsnocD5vNQ",
        "colab_type": "code",
        "colab": {
          "base_uri": "https://localhost:8080/",
          "height": 35
        },
        "outputId": "c1f13e73-5980-4e4f-fc16-2470a4b69034"
      },
      "source": [
        "unique_ids = np.unique(users_id)\n",
        "unique_ids"
      ],
      "execution_count": null,
      "outputs": [
        {
          "output_type": "execute_result",
          "data": {
            "text/plain": [
              "array([ 1,  2, 10, 12, 14, 15])"
            ]
          },
          "metadata": {
            "tags": []
          },
          "execution_count": 74
        }
      ]
    },
    {
      "cell_type": "code",
      "metadata": {
        "id": "tjSi7QfJ5yD5",
        "colab_type": "code",
        "colab": {
          "base_uri": "https://localhost:8080/",
          "height": 35
        },
        "outputId": "4149b297-dd82-41ec-e987-21ebe391eb25"
      },
      "source": [
        "id2idx = np.ones(unique_ids.max()+1,dtype=np.int64) * -1\n",
        "id2idx"
      ],
      "execution_count": null,
      "outputs": [
        {
          "output_type": "execute_result",
          "data": {
            "text/plain": [
              "array([-1, -1, -1, -1, -1, -1, -1, -1, -1, -1, -1, -1, -1, -1, -1, -1])"
            ]
          },
          "metadata": {
            "tags": []
          },
          "execution_count": 77
        }
      ]
    },
    {
      "cell_type": "code",
      "metadata": {
        "id": "O8wRqA-O51Ib",
        "colab_type": "code",
        "colab": {
          "base_uri": "https://localhost:8080/",
          "height": 35
        },
        "outputId": "75968c03-4ca8-4021-b3cb-07635aa55980"
      },
      "source": [
        "id2idx[unique_ids] = np.arange(unique_ids.size)\n",
        "id2idx"
      ],
      "execution_count": null,
      "outputs": [
        {
          "output_type": "execute_result",
          "data": {
            "text/plain": [
              "array([-1,  0,  1, -1, -1, -1, -1, -1, -1, -1,  2, -1,  3, -1,  4,  5])"
            ]
          },
          "metadata": {
            "tags": []
          },
          "execution_count": 78
        }
      ]
    },
    {
      "cell_type": "code",
      "metadata": {
        "id": "9B_Naj4T5rX6",
        "colab_type": "code",
        "colab": {}
      },
      "source": [
        "id2idx[uni]"
      ],
      "execution_count": null,
      "outputs": []
    },
    {
      "cell_type": "code",
      "metadata": {
        "id": "5Q6KxbLHx6Fp",
        "colab_type": "code",
        "colab": {}
      },
      "source": [
        "class indexer():\n",
        "  def __init__(self,ids):\n",
        "    unique_ids = np.unique(ids)\n",
        "    id2idx = np.ones(unique_ids.max()+1,dtype=np.int64) * -1\n",
        "    id2idx[unique_ids] = np.arange(unique_ids.size)\n",
        "    self.id2idx = id2idx\n",
        "    self.idx2id = unique_ids\n",
        "\n",
        "  def get_idxs(self,ids):\n",
        "    ids = self.id2idx[ids]\n",
        "    return ids, ids !=-1\n",
        "  \n",
        "  def get_ids(self,idxs):\n",
        "    return self.idx2id[idxs]"
      ],
      "execution_count": null,
      "outputs": []
    },
    {
      "cell_type": "code",
      "metadata": {
        "id": "hCvazfkG4QIq",
        "colab_type": "code",
        "colab": {}
      },
      "source": [
        "ind = indexer(users_id)"
      ],
      "execution_count": null,
      "outputs": []
    },
    {
      "cell_type": "code",
      "metadata": {
        "id": "fwFbkXnZ67O3",
        "colab_type": "code",
        "colab": {
          "base_uri": "https://localhost:8080/",
          "height": 54
        },
        "outputId": "fe7488b2-fac0-4b8a-c32e-632eb0410786"
      },
      "source": [
        "ind.get_idxs(users_id)"
      ],
      "execution_count": null,
      "outputs": [
        {
          "output_type": "execute_result",
          "data": {
            "text/plain": [
              "(array([5, 3, 4, 2, 0, 1, 0]),\n",
              " array([ True,  True,  True,  True,  True,  True,  True]))"
            ]
          },
          "metadata": {
            "tags": []
          },
          "execution_count": 101
        }
      ]
    },
    {
      "cell_type": "markdown",
      "metadata": {
        "id": "-LPRG1S37fab",
        "colab_type": "text"
      },
      "source": [
        "# Problema 4\n",
        "## PRecision, recall y accuracy\n",
        "\n",
        "True Positive (TP): la verdad es 1 y la producción es 1.\n",
        "\n",
        "● True Negative (TN): la verdad es 0 y la predicción es 0.\n",
        "\n",
        "● False Negative (FN): la verdad es 1 y la predicción es 0.\n",
        "\n",
        "● False Positive (FP): la verdad es 0 y la producción es 1.\n",
        "\n",
        "Se definen las siguientes métricas:\n",
        "\n",
        "● Precision = TP / (TP + FP)\n",
        "\n",
        "● Recall = TP / (TP + FN)\n",
        "\n",
        "● Accuracy = (TP + TN) / (TP + TN + FP + FN)\n",
        "\n",
        "Suponer que se tienen 2 arreglos:\n",
        "\n",
        "truth = [1,1,0,1,1,1,0,0,0,1]\n",
        "\n",
        "prediction = [1,1,1,1,0,0,1,1,0,0]\n",
        "\n",
        "Calcular las 3 métricas con Numpy y operaciones vectorizadas."
      ]
    },
    {
      "cell_type": "code",
      "metadata": {
        "id": "gPl5c4BMB8Ml",
        "colab_type": "code",
        "colab": {}
      },
      "source": [
        "truth = np.array([1,1,0,1,1,1,0,0,0,1])\n",
        "prediction = np.array([1,1,1,1,0,0,1,1,0,0])"
      ],
      "execution_count": null,
      "outputs": []
    },
    {
      "cell_type": "code",
      "metadata": {
        "id": "hODIKAEedMr2",
        "colab_type": "code",
        "colab": {}
      },
      "source": [
        ""
      ],
      "execution_count": null,
      "outputs": []
    },
    {
      "cell_type": "code",
      "metadata": {
        "id": "PjEUp8U3e5lx",
        "colab_type": "code",
        "colab": {}
      },
      "source": [
        "rr = Precision(truth,prediction)"
      ],
      "execution_count": null,
      "outputs": []
    },
    {
      "cell_type": "code",
      "metadata": {
        "id": "GBZZoHMdiO_4",
        "colab_type": "code",
        "colab": {
          "base_uri": "https://localhost:8080/",
          "height": 35
        },
        "outputId": "9e5eb4e0-f03b-4b57-cfe8-fd8affabbfe6"
      },
      "source": [
        "rr()"
      ],
      "execution_count": null,
      "outputs": [
        {
          "output_type": "execute_result",
          "data": {
            "text/plain": [
              "0.5"
            ]
          },
          "metadata": {
            "tags": []
          },
          "execution_count": 21
        }
      ]
    },
    {
      "cell_type": "code",
      "metadata": {
        "id": "CG8IpMiye-Za",
        "colab_type": "code",
        "colab": {
          "base_uri": "https://localhost:8080/",
          "height": 35
        },
        "outputId": "a587c0d6-c622-4a29-9f6d-4ed79d872ae4"
      },
      "source": [
        "rr.truth\n",
        "#https://www.protechtraining.com/content/python_fundamentals_tutorial-oop"
      ],
      "execution_count": null,
      "outputs": [
        {
          "output_type": "execute_result",
          "data": {
            "text/plain": [
              "array([1, 1, 0, 1, 1, 1, 0, 0, 0, 1])"
            ]
          },
          "metadata": {
            "tags": []
          },
          "execution_count": 18
        }
      ]
    },
    {
      "cell_type": "code",
      "metadata": {
        "id": "hTRBxaPVB94O",
        "colab_type": "code",
        "colab": {}
      },
      "source": [
        "class ClassificationMetrics:\n",
        "  def __init__(self,truth,prediction):\n",
        "    self.prediction = prediction\n",
        "    self.truth = truth\n",
        "    self.lenght = len(truth)\n",
        "    self.tp = (self.truth & self.prediction).sum() \n",
        "      \n",
        "  def accuracy(self):\n",
        "    tp_tn = np.equal(self.truth,self.prediction).sum()\n",
        "    return tp_tn/self.lenght\n",
        "  \n",
        "  def recall(self):\n",
        "    return self.tp/truth.sum() \n",
        "    # truth.sum() = TP + FN porque los TP son los positivos bien clasif,\n",
        "    # los FN son POSITIVOS que fueron clasificados como Neg (False Negativos)\n",
        "    # Por lo tanto TP+FN = All Real Positives = truth.sum()\n",
        "  \n",
        "  def precision(self): #TP / (TP + FP)\n",
        "    tp_fp = self.prediction.sum()\n",
        "    return self.tp/tp_fp\n",
        "\n"
      ],
      "execution_count": null,
      "outputs": []
    },
    {
      "cell_type": "code",
      "metadata": {
        "id": "NuWdFxu4E4xv",
        "colab_type": "code",
        "colab": {}
      },
      "source": [
        "classifier = ClassificationMetrics(truth,prediction)"
      ],
      "execution_count": null,
      "outputs": []
    },
    {
      "cell_type": "code",
      "metadata": {
        "id": "hIAPwYiEE9Ct",
        "colab_type": "code",
        "colab": {
          "base_uri": "https://localhost:8080/",
          "height": 35
        },
        "outputId": "75d96873-68be-4c5d-8140-a25b6a765923"
      },
      "source": [
        "classifier.accuracy()"
      ],
      "execution_count": null,
      "outputs": [
        {
          "output_type": "execute_result",
          "data": {
            "text/plain": [
              "0.4"
            ]
          },
          "metadata": {
            "tags": []
          },
          "execution_count": 132
        }
      ]
    },
    {
      "cell_type": "markdown",
      "metadata": {
        "id": "FcofZlD7FHDU",
        "colab_type": "text"
      },
      "source": [
        "# Ejercicio 5\n",
        "## Average quary precision\n",
        "\n",
        "En information retrieval o search engine, en general contamos con queries “q” y para cada “q” una lista de\n",
        "documentos que son verdaderamente relevantes. Para evaluar search engine, es común utilizar la métrica\n",
        "average query precision. Dado un search engine y una lista de queries “q” para evaluación, podemos obtener\n",
        "los siguientes resultados:\n",
        "\n",
        "q_id = [1, 1, 1, 1, 2, 2, 2, 3, 3, 3, 3, 3, 4, 4, 4, 4]\n",
        "\n",
        "predicted_rank = [0, 1, 2, 3, 0, 1, 2, 0, 1, 2, 3, 4, 0, 1, 2, 3]\n",
        "\n",
        "truth_relevance = [T, F, T, F, T, T, T, F, F, F, F, F, T, F, F, T ]\n",
        "\n",
        "precision para q_id 1 = 2 / 4\n",
        "\n",
        "precision para q_id 2 = 3 / 3\n",
        "\n",
        "precision para q_id 3 = 0 / 5\n",
        "\n",
        "precision para q_id 4 = 2 / 4\n",
        "\n",
        "average query precision = ((2/4) + (3/3) + (0/5) + (2/4)) / 4\n",
        "\n",
        "Calcular la métricas con Numpy y operaciones vectorizadas."
      ]
    },
    {
      "cell_type": "code",
      "metadata": {
        "id": "g2RW6ht7H_n_",
        "colab_type": "code",
        "colab": {}
      },
      "source": [
        "q_id = np.array([1, 1, 1, 1, 2, 2, 2, 3, 3, 3, 3, 3, 4, 4, 4, 4])\n",
        "\n",
        "predicted_rank = np.array([0, 1, 2, 3, 0, 1, 2, 0, 1, 2, 3, 4, 0, 1, 2, 3])\n",
        "\n",
        "trel = 'T, F, T, F, T, T, T, F, F, F, F, F, T, F, F, T'.replace(' ','').replace('T','1').replace('F','0').split(',')\n",
        "\n",
        "truth_relevance = np.array([int(x) for x in trel])"
      ],
      "execution_count": null,
      "outputs": []
    },
    {
      "cell_type": "code",
      "metadata": {
        "id": "TvdrHFjkVzJD",
        "colab_type": "code",
        "colab": {}
      },
      "source": [
        ""
      ],
      "execution_count": null,
      "outputs": []
    },
    {
      "cell_type": "code",
      "metadata": {
        "id": "eC7iQ_BWe4SF",
        "colab_type": "code",
        "colab": {}
      },
      "source": [
        "def avgQueryPrecision(queryids,predictedranks,realrelevance):\n",
        "  uniqueids = np.unique(queryids)\n",
        "  totalqueries = len(uniqueids)\n",
        "  mask_dict = {}\n",
        "  temp_wavg=0\n",
        "  for i in uniqueids:\n",
        "    mask = (queryids == i)\n",
        "    nDocs = mask.sum()\n",
        "    goodDocs = (mask & realrelevance).sum()\n",
        "    temp_wavg += goodDocs / nDocs\n",
        "  return temp_wavg / totalqueries\n",
        "\n",
        "  "
      ],
      "execution_count": null,
      "outputs": []
    },
    {
      "cell_type": "code",
      "metadata": {
        "id": "wYXhUHVagl68",
        "colab_type": "code",
        "colab": {
          "base_uri": "https://localhost:8080/",
          "height": 35
        },
        "outputId": "6925cf44-231d-4700-85b2-64c0c8e6637a"
      },
      "source": [
        "avgQueryPrecision(q_id,predicted_rank,truth_relevance)"
      ],
      "execution_count": null,
      "outputs": [
        {
          "output_type": "execute_result",
          "data": {
            "text/plain": [
              "0.5"
            ]
          },
          "metadata": {
            "tags": []
          },
          "execution_count": 163
        }
      ]
    },
    {
      "cell_type": "markdown",
      "metadata": {
        "id": "pLqoi2Lgg1eE",
        "colab_type": "text"
      },
      "source": [
        "# Ejercicio 6\n",
        "## Average query precision at K\n",
        "\n",
        "En information retrieval o search engine, en general contamos con queries “q” y para cada “q” una lista de\n",
        "documentos que son verdaderamente relevantes. Para evaluar search engine, es común utilizar la métrica\n",
        "average query precision at K. Dado un search engine y una lista de queries “q” para evaluación, podemos\n",
        "obtener los siguientes resultados:\n",
        "\n",
        "k = 3\n",
        "\n",
        "q_id = [1, 1, 1, 1, 2, 2, 2, 3, 3, 3, 3, 3, 4, 4, 4, 4]\n",
        "\n",
        "predicted_rank = [0, 1, 2, 3, 0, 1, 2, 0, 1, 2, 3, 4, 0, 1, 2, 3]\n",
        "\n",
        "truth_relevance = [T, F, T, F, T, T, T, F, F, F, F, F, T, F, F, T ]\n",
        "\n",
        "precision para q_id 1 = 2 / 3\n",
        "\n",
        "precision para q_id 2 = 3 / 3\n",
        "\n",
        "precision para q_id 3 = 0 / 3\n",
        "\n",
        "precision para q_id 4 = 1 / 3\n",
        "\n",
        "average query precision at K = ((2/3) + (3/3) + (0/3) + (1/3)) / 4\n",
        "\n",
        "Calcular la métricas con Numpy y operaciones vectorizadas."
      ]
    },
    {
      "cell_type": "code",
      "metadata": {
        "id": "wK3bCn9550NZ",
        "colab_type": "code",
        "colab": {}
      },
      "source": [
        "q_id = np.array([1, 1, 1, 1, 2, 2, 2, 3, 3, 3, 3, 3, 4, 4, 4, 4])\n",
        "\n",
        "predicted_rank = np.array([0, 1, 2, 3, 0, 1, 2, 0, 1, 2, 3, 4, 0, 1, 2, 3])\n",
        "\n",
        "trel = 'T, F, T, F, T, T, T, F, F, F, F, F, T, F, F, T'.replace(' ','').replace('T','1').replace('F','0').split(',')\n",
        "\n",
        "truth_relevance = np.array([int(x) for x in trel])"
      ],
      "execution_count": null,
      "outputs": []
    },
    {
      "cell_type": "code",
      "metadata": {
        "id": "WOMcI16ug1pE",
        "colab_type": "code",
        "colab": {}
      },
      "source": [
        "def avgQueryPrecision(queryids,predictedranks,realrelevance,k=3):\n",
        "  '''\n",
        "  '''\n",
        "  mask_is_query = np.bincount(queryids) > 0 # Solo quedarse con vlaores de query que existan\n",
        "  assert  np.all(np.bincount(queryids)[mask_is_query]>=k),'K demasiado grande para alguna query Id'\n",
        "\n",
        "  uniqueids = np.unique(queryids)\n",
        "  totalqueries = len(uniqueids)\n",
        "  mask_dict = {}\n",
        "  temp_wavg=0\n",
        "  for i in uniqueids:\n",
        "    mask = (queryids == i)\n",
        "    goodDocs = (mask & realrelevance)[:3].sum()\n",
        "    temp_wavg += goodDocs / k\n",
        "  return temp_wavg / totalqueries\n",
        "\n",
        "  "
      ],
      "execution_count": null,
      "outputs": []
    },
    {
      "cell_type": "code",
      "metadata": {
        "id": "EO1MPl2IkVsu",
        "colab_type": "code",
        "colab": {
          "base_uri": "https://localhost:8080/",
          "height": 35
        },
        "outputId": "0da5df7e-1093-4052-e973-3679f8a1c8b0"
      },
      "source": [
        "avgQueryPrecision(q_id,predicted_rank,truth_relevance,k=3)"
      ],
      "execution_count": null,
      "outputs": [
        {
          "output_type": "execute_result",
          "data": {
            "text/plain": [
              "0.16666666666666666"
            ]
          },
          "metadata": {
            "tags": []
          },
          "execution_count": 41
        }
      ]
    },
    {
      "cell_type": "markdown",
      "metadata": {
        "id": "ILbVLG648PyM",
        "colab_type": "text"
      },
      "source": [
        "# Ejercicio 7\n",
        "## Computar las métrica con __call__\n",
        "\n",
        "En problemas de machine learning, es muy común que para cada predicción que obtenemos en nuestro\n",
        "dataset de verificacion y evaluacion, almacenemos en arreglos de numpy array el resultado de dicha\n",
        "predicción, junto con el valor verdadero y parámetros auxiliares (como el ranking de la predicción y el query\n",
        "id).\n",
        "\n",
        "Luego de obtener todas las predicciones, podemos utilizar la información almacenada en los arreglos de\n",
        "numpy, para calcular todas las métricas que queremos medir en nuestro sistema.\n",
        "\n",
        "Una buena práctica para implementar esto en Python, es crear clases que hereden de una clase Metric\n",
        "“base” y que cada métrica implemente el método __call__.\n",
        "\n",
        "Utilizar herencia, operador __call__, kwargs, para escribir un programa que permita calcular todas las\n",
        "métricas de los ejercicios anteriores mediante un for. Cual es la ventaja de resolver el problema utilizando\n",
        "estas herramientas?"
      ]
    },
    {
      "cell_type": "code",
      "metadata": {
        "id": "1ltaUyW_8WSl",
        "colab_type": "code",
        "colab": {}
      },
      "source": [
        "class BaseMetric():\n",
        "  def __init__(self,truth,prediction):\n",
        "    self.prediction = prediction\n",
        "    self.truth = truth\n",
        "    self.lenght = len(truth)\n",
        "    self.tp = (self.truth & self.prediction).sum() \n",
        "    self.tp_fp = prediction.sum()\n",
        "    self.real_positive = truth.sum()\n",
        "    self.tp_tn = np.equal(truth,prediction).sum()\n",
        "\n",
        "\n",
        "class Precision(BaseMetric):\n",
        "  def __call__(self):\n",
        "    return self.tp / self.tp_fp\n",
        "\n",
        "class recall(BaseMetric):\n",
        "  def __call__(self):\n",
        "    return self.tp/self.real_positive\n",
        "\n",
        "class accuracy(BaseMetric):\n",
        "  def __call__(self):\n",
        "    return self.tp_tn/self.lenght"
      ],
      "execution_count": null,
      "outputs": []
    },
    {
      "cell_type": "markdown",
      "metadata": {
        "id": "lwxGnrNi-dAr",
        "colab_type": "text"
      },
      "source": [
        "# Ejercicio 8\n",
        "## Transformar un dataset a numpy estructurado con singleton\n",
        "\n",
        "1) Desdegar un data set -- checked\n",
        "\n",
        "2) Crear un array estructurado en numpy que represente la estructura del dataset \n",
        "\n",
        "3) Crear una clase que permita:\n",
        "* Crear la estructura de un structured np array para el dataset\n",
        "* Leer el csv, almacenar la información en el array precedente\n",
        "* Guarlar el array estructurado en formato .pkl\n",
        "* Crear una instancia singleton del array estrucyturado (usando __new__ e __init__ ) \n",
        "* Al crear la instancia, si se encuentra el .pkl carga desde el pkl. Si el .pkl no está, comenzar por transformar el .csv en .pkl y luego levantar la información.\n",
        "* Optimizar usando los generators\n",
        "\n",
        "\n",
        "-----------------------------\n",
        "\n",
        "Note on numpy documentation\n",
        "\n",
        "Users looking to manipulate tabular data, such as stored in csv files, may find other pydata projects more suitable, such as xarray, pandas, or DataArray. These provide a high-level interface for tabular data analysis and are better optimized for that use. For instance, the C-struct-like memory layout of structured arrays in numpy can lead to poor cache behavior in comparison."
      ]
    },
    {
      "cell_type": "markdown",
      "metadata": {
        "id": "jOYBDfZo_CYy",
        "colab_type": "text"
      },
      "source": [
        "## Punto 2 - Crear un array estructurado de numpy\n",
        "\n",
        "Según la documentación de Kaggle se tienen 3 columnas:\n",
        "\n",
        "1) userid: int\n",
        "\n",
        "2) movieId: int\n",
        "\n",
        "3) rating: float \n",
        "\n",
        "\n",
        "ejemplo\n",
        "\n",
        "userid:1 | movieid:118 | rating 1.0\n",
        "\n",
        "userid:1 | movieid:147 | rating 4.5\n"
      ]
    },
    {
      "cell_type": "code",
      "metadata": {
        "id": "4Ik001ZLFE1g",
        "colab_type": "code",
        "colab": {}
      },
      "source": [
        "type_structure = np.dtype([('userid',np.int),('movieid',np.int),('rating',np.float)])"
      ],
      "execution_count": null,
      "outputs": []
    },
    {
      "cell_type": "code",
      "metadata": {
        "id": "BzWRlbWDISWm",
        "colab_type": "code",
        "colab": {}
      },
      "source": [
        "empty_rating_array = np.array([],dtype=type_structure)"
      ],
      "execution_count": null,
      "outputs": []
    },
    {
      "cell_type": "code",
      "metadata": {
        "id": "00AiY5zj7sgh",
        "colab_type": "code",
        "colab": {}
      },
      "source": [
        "import os"
      ],
      "execution_count": null,
      "outputs": []
    },
    {
      "cell_type": "code",
      "metadata": {
        "id": "JNbLtGbZ7thc",
        "colab_type": "code",
        "colab": {
          "base_uri": "https://localhost:8080/",
          "height": 35
        },
        "outputId": "f425a96f-1458-408a-c508-876fe649ae02"
      },
      "source": [
        "os.path.exists(datapath)"
      ],
      "execution_count": null,
      "outputs": [
        {
          "output_type": "execute_result",
          "data": {
            "text/plain": [
              "True"
            ]
          },
          "metadata": {
            "tags": []
          },
          "execution_count": 14
        }
      ]
    },
    {
      "cell_type": "code",
      "metadata": {
        "id": "PQed2LbVlBUm",
        "colab_type": "code",
        "colab": {
          "base_uri": "https://localhost:8080/",
          "height": 319
        },
        "outputId": "9325a331-4ad6-42f9-9d65-4d3e29a372f9"
      },
      "source": [
        "from time import timestamp"
      ],
      "execution_count": null,
      "outputs": [
        {
          "output_type": "error",
          "ename": "ImportError",
          "evalue": "ignored",
          "traceback": [
            "\u001b[0;31m---------------------------------------------------------------------------\u001b[0m",
            "\u001b[0;31mImportError\u001b[0m                               Traceback (most recent call last)",
            "\u001b[0;32m<ipython-input-23-cea50de10ff0>\u001b[0m in \u001b[0;36m<module>\u001b[0;34m()\u001b[0m\n\u001b[0;32m----> 1\u001b[0;31m \u001b[0;32mfrom\u001b[0m \u001b[0mtime\u001b[0m \u001b[0;32mimport\u001b[0m \u001b[0mtimestamp\u001b[0m\u001b[0;34m\u001b[0m\u001b[0;34m\u001b[0m\u001b[0m\n\u001b[0m",
            "\u001b[0;31mImportError\u001b[0m: cannot import name 'timestamp'",
            "",
            "\u001b[0;31m---------------------------------------------------------------------------\u001b[0;32m\nNOTE: If your import is failing due to a missing package, you can\nmanually install dependencies using either !pip or !apt.\n\nTo view examples of installing some common dependencies, click the\n\"Open Examples\" button below.\n\u001b[0;31m---------------------------------------------------------------------------\u001b[0m\n"
          ]
        }
      ]
    },
    {
      "cell_type": "code",
      "metadata": {
        "id": "xbWQ9yVfpt2J",
        "colab_type": "code",
        "colab": {
          "base_uri": "https://localhost:8080/",
          "height": 35
        },
        "outputId": "7fd08db8-654f-42d4-ee42-a477e270261b"
      },
      "source": [
        "os.path.isfile(datapath+'ratings.csv')"
      ],
      "execution_count": null,
      "outputs": [
        {
          "output_type": "execute_result",
          "data": {
            "text/plain": [
              "True"
            ]
          },
          "metadata": {
            "tags": []
          },
          "execution_count": 35
        }
      ]
    },
    {
      "cell_type": "code",
      "metadata": {
        "id": "zsYxnMNhIdBp",
        "colab_type": "code",
        "colab": {}
      },
      "source": [
        "import os\n",
        "datapath = '/content/drive/My Drive/Especializacion UBA/Introduccion a IA/data/'\n",
        "class StructuredNumpyArray(object):\n",
        "\n",
        "  instance= None\n",
        "  #type_structure = np.dtype([('userid',np.int),('movieid',np.int),('rating',np.float)])\n",
        "  #empty_rating_array = np.array([],dtype=type_structure)\n",
        "\n",
        "  def __new__(cls): #class method\n",
        "    if StructuredNumpyArray.instance is None:\n",
        "      print ('__new__ object created')\n",
        "      StructuredNumpyArray.instance = super(StructuredNumpyArray,cls).__new__(cls)\n",
        "      return StructuredNumpyArray.instance\n",
        "    else:\n",
        "      return StructuredNumpyArray.instance\n",
        "\n",
        "  \n",
        "  def __init__(self):\n",
        "    self.structure = np.dtype([('userid',np.int),('movieid',np.int),('rating',np.float),('date',datetime)])\n",
        "    self.structuredData = np.array([],dtype=self.structure)\n",
        "\n",
        "    if os.path.isfile(datapath+'dataset.pkl'):\n",
        "      self.structuredData = self.loadPickle(datapath+'dataset.pkl')\n",
        "\n",
        "    else:\n",
        "      self.structuredData = self.loadFromTxt(datapath+'ratings.csv',self.structure)\n",
        "      self.savePickle()\n",
        "\n",
        "\n",
        "  def savePickle(self):\n",
        "    with open(datapath+'dataset.pkl','wb') as file:\n",
        "      pk.dump(self.structuredData,file,protocol=pk.HIGHEST_PROTOCOL)\n",
        "\n",
        "\n",
        "  @staticmethod\n",
        "  def loadPickle(filetoopen):\n",
        "    with open(filetoopen,'rb') as file:\n",
        "      return pk.load(file)\n",
        "      \n",
        "  \n",
        "  @staticmethod\n",
        "  def loadFromTxt(pathtodata,structure):\n",
        "    csv_structuredArray = np.genfromtxt(fname=pathtodata,dtype=structure,max_rows=500,delimiter=',',skip_header=True)\n",
        "    return csv_structuredArray  \n",
        "        \n",
        "\n",
        "\n",
        "  "
      ],
      "execution_count": null,
      "outputs": []
    },
    {
      "cell_type": "code",
      "metadata": {
        "id": "9HvQlyrl8p-U",
        "colab_type": "code",
        "colab": {
          "base_uri": "https://localhost:8080/",
          "height": 35
        },
        "outputId": "53bef00c-f4c0-44f2-b1be-9bb2aa77ea12"
      },
      "source": [
        "mono = StructuredNumpyArray()"
      ],
      "execution_count": null,
      "outputs": [
        {
          "output_type": "stream",
          "text": [
            "__new__ object created\n"
          ],
          "name": "stdout"
        }
      ]
    },
    {
      "cell_type": "code",
      "metadata": {
        "id": "u63gL_zkCTpy",
        "colab_type": "code",
        "colab": {}
      },
      "source": [
        "monito = StructuredNumpyArray()"
      ],
      "execution_count": null,
      "outputs": []
    },
    {
      "cell_type": "code",
      "metadata": {
        "id": "OZOUeY14rqFs",
        "colab_type": "code",
        "colab": {
          "base_uri": "https://localhost:8080/",
          "height": 172
        },
        "outputId": "67af883b-80b9-41f1-c8a5-ce2852a7674c"
      },
      "source": [
        ""
      ],
      "execution_count": null,
      "outputs": [
        {
          "output_type": "error",
          "ename": "NameError",
          "evalue": "ignored",
          "traceback": [
            "\u001b[0;31m---------------------------------------------------------------------------\u001b[0m",
            "\u001b[0;31mNameError\u001b[0m                                 Traceback (most recent call last)",
            "\u001b[0;32m<ipython-input-62-7d95100aaeda>\u001b[0m in \u001b[0;36m<module>\u001b[0;34m()\u001b[0m\n\u001b[0;32m----> 1\u001b[0;31m \u001b[0mexists\u001b[0m\u001b[0;34m(\u001b[0m\u001b[0mmono\u001b[0m\u001b[0;34m)\u001b[0m\u001b[0;34m\u001b[0m\u001b[0;34m\u001b[0m\u001b[0m\n\u001b[0m",
            "\u001b[0;31mNameError\u001b[0m: name 'exists' is not defined"
          ]
        }
      ]
    }
  ]
}
