{
 "cells": [
  {
   "cell_type": "code",
   "execution_count": 1,
   "metadata": {},
   "outputs": [],
   "source": [
    "import numpy as np"
   ]
  },
  {
   "cell_type": "markdown",
   "metadata": {},
   "source": [
    "# XOR dataset"
   ]
  },
  {
   "cell_type": "code",
   "execution_count": 2,
   "metadata": {},
   "outputs": [],
   "source": [
    "X = np.array([[[0,0]],[[0,1]],[[1,0]],[[1,1]]])\n",
    "Y = np.array([[0,1,1,0]])"
   ]
  },
  {
   "cell_type": "markdown",
   "metadata": {},
   "source": [
    "# Sigmoid func"
   ]
  },
  {
   "cell_type": "code",
   "execution_count": 3,
   "metadata": {},
   "outputs": [],
   "source": [
    "def sigmoid(x):\n",
    "    '''\n",
    "    Función sigmoid en el punto x.\n",
    "    '''\n",
    "    return (1 / (1+np.exp(-x)))\n"
   ]
  },
  {
   "cell_type": "markdown",
   "metadata": {},
   "source": [
    "# Implementación"
   ]
  },
  {
   "cell_type": "code",
   "execution_count": 8,
   "metadata": {},
   "outputs": [],
   "source": [
    "np.random.seed(37)\n",
    "W1 = np.random.uniform(-1,1,(2,2))*0.25 # [2,2]\n",
    "b1 = np.random.uniform(-1,1,(2,1))*0.25# [2,1]\n",
    "W2 = np.random.uniform(-1,1,(1,2))*0.25# [1,2]\n",
    "b2 = np.random.uniform(-1,1,(1,1))*0.25# [1,1]\n",
    "\n",
    "lr = 0.2\n",
    "epochs = 25000\n",
    "for epoch in range(epochs):\n",
    "    for i in range(4):\n",
    "        #Forward\n",
    "        Z1 = W1 @ X[i].T + b1 # [2,1]\n",
    "        A1 = sigmoid(Z1) # [2,1]\n",
    "        Z2 = W2 @ A1 + b2 #[1,1]\n",
    "        A2 = sigmoid(Z2) #[1,1]\n",
    "\n",
    "        #backprop\n",
    "        # output layer\n",
    "        dA2 = -2*(Y[0,i]-A2) #[1,1]\n",
    "        dZ2 = dA2 * A2 * (1-A2) #[1,1]\n",
    "        dW2 = dZ2 * A1.T # [2,1]\n",
    "        db2 = dZ2 # [1,1]\n",
    "\n",
    "        W2 = W2 - lr * dW2\n",
    "        b2 = b2 - lr * db2\n",
    "\n",
    "        #hidden layer\n",
    "        dW1 = dZ2 * W2.T * A1 * (1-A1) * X[i] # [2,2]\n",
    "        db1 = dZ2 * W2.T * A1 * (1-A1) #[2,1]\n",
    "\n",
    "        W1 = W1 - lr * dW1\n",
    "        b1 = b1 - lr * db1"
   ]
  },
  {
   "cell_type": "markdown",
   "metadata": {},
   "source": [
    "# Testeo"
   ]
  },
  {
   "cell_type": "code",
   "execution_count": 9,
   "metadata": {},
   "outputs": [
    {
     "name": "stdout",
     "output_type": "stream",
     "text": [
      "0\n",
      "[[0.01177847]]\n",
      "1\n",
      "[[0.98656097]]\n",
      "1\n",
      "[[0.9888452]]\n",
      "0\n",
      "[[0.01045843]]\n"
     ]
    }
   ],
   "source": [
    "for i in range(4):\n",
    "    print(Y[0,i])\n",
    "    print(sigmoid(W2@sigmoid(W1@X[i].T+b1)+b2))"
   ]
  }
 ],
 "metadata": {
  "kernelspec": {
   "display_name": "Python 3",
   "language": "python",
   "name": "python3"
  },
  "language_info": {
   "codemirror_mode": {
    "name": "ipython",
    "version": 3
   },
   "file_extension": ".py",
   "mimetype": "text/x-python",
   "name": "python",
   "nbconvert_exporter": "python",
   "pygments_lexer": "ipython3",
   "version": "3.7.9"
  }
 },
 "nbformat": 4,
 "nbformat_minor": 4
}
