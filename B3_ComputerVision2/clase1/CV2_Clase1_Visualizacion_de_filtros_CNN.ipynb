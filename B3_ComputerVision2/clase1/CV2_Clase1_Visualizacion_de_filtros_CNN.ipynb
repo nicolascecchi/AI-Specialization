{
  "nbformat": 4,
  "nbformat_minor": 0,
  "metadata": {
    "kernelspec": {
      "display_name": "Python 3",
      "language": "python",
      "name": "python3"
    },
    "language_info": {
      "codemirror_mode": {
        "name": "ipython",
        "version": 3
      },
      "file_extension": ".py",
      "mimetype": "text/x-python",
      "name": "python",
      "nbconvert_exporter": "python",
      "pygments_lexer": "ipython3",
      "version": "3.7.6"
    },
    "colab": {
      "name": "CV2_Clase1_Visualizacion_de_filtros_CNN.ipynb",
      "provenance": [],
      "collapsed_sections": []
    },
    "accelerator": "GPU"
  },
  "cells": [
    {
      "cell_type": "markdown",
      "metadata": {
        "id": "kdxZqw-_vJ5Z"
      },
      "source": [
        "# Vamos a hacer una red simple para entrener con mnist\n",
        "\n",
        "- Implementar una red convolucional simple en Keras para entrenar con MNIST\n",
        "- Entrenar la red\n",
        "- Usar la red para predecir en ejemplos nuevos"
      ]
    },
    {
      "cell_type": "markdown",
      "metadata": {
        "id": "MU7kp97kvJ5a"
      },
      "source": [
        "## Modelo simple en Keras/Tensorflow\n",
        "\n",
        "Armemos una red muy simple para clasificar digitos."
      ]
    },
    {
      "cell_type": "code",
      "metadata": {
        "id": "t72dcWeXvJ5b"
      },
      "source": [
        "import numpy as np\n",
        "from keras.datasets import mnist\n",
        "from matplotlib import pyplot\n",
        "from tensorflow.keras.models import Sequential\n",
        "from tensorflow.keras.layers import Conv2D, MaxPooling2D, Dense, Flatten\n",
        "from tensorflow.keras.utils import to_categorical\n",
        "\n",
        "num_filters = 8\n",
        "filter_size = 3\n",
        "pool_size = 2\n",
        "\n",
        "# Armar el modelo\n",
        "model = Sequential()\n",
        "model.add(Conv2D(num_filters, filter_size, input_shape=(28, 28, 1)))\n",
        "model.add(MaxPooling2D(pool_size=pool_size))\n",
        "model.add(Flatten())\n",
        "model.add(Dense(10, activation='softmax'))  \n",
        "\n",
        "# otra manera de hacer lo mismo:\n",
        "#model = Sequential([\n",
        "#  Conv2D(num_filters, filter_size, input_shape=(28, 28, 1)),\n",
        "#  MaxPooling2D(pool_size=pool_size),\n",
        "#  Flatten(),\n",
        "#  Dense(10, activation='softmax'),\n",
        "#])\n",
        "\n",
        "# Compilar el modelo\n",
        "model.compile(\n",
        "  'adam',\n",
        "  loss='categorical_crossentropy',\n",
        "  metrics=['accuracy'],\n",
        ")"
      ],
      "execution_count": null,
      "outputs": []
    },
    {
      "cell_type": "code",
      "metadata": {
        "id": "e5vpguiVxYt7",
        "colab": {
          "base_uri": "https://localhost:8080/"
        },
        "outputId": "94bbafa0-c99e-40ac-a41f-aff4d85a5a07"
      },
      "source": [
        "model.summary()"
      ],
      "execution_count": null,
      "outputs": [
        {
          "output_type": "stream",
          "text": [
            "Model: \"sequential\"\n",
            "_________________________________________________________________\n",
            "Layer (type)                 Output Shape              Param #   \n",
            "=================================================================\n",
            "conv2d (Conv2D)              (None, 26, 26, 8)         80        \n",
            "_________________________________________________________________\n",
            "max_pooling2d (MaxPooling2D) (None, 13, 13, 8)         0         \n",
            "_________________________________________________________________\n",
            "flatten (Flatten)            (None, 1352)              0         \n",
            "_________________________________________________________________\n",
            "dense (Dense)                (None, 10)                13530     \n",
            "=================================================================\n",
            "Total params: 13,610\n",
            "Trainable params: 13,610\n",
            "Non-trainable params: 0\n",
            "_________________________________________________________________\n"
          ],
          "name": "stdout"
        }
      ]
    },
    {
      "cell_type": "markdown",
      "metadata": {
        "id": "FxFkT112vJ5f"
      },
      "source": [
        "## Cargamos los datos\n"
      ]
    },
    {
      "cell_type": "code",
      "metadata": {
        "id": "vHx6onwbvJ5f",
        "colab": {
          "base_uri": "https://localhost:8080/",
          "height": 342
        },
        "outputId": "fe7f5f6b-ad95-4d10-968e-7705f7e5df7e"
      },
      "source": [
        "# Cargar el dataset\n",
        "(train_X, train_y), (test_X, test_y) = mnist.load_data()\n",
        "# Imprimir un resumen de los datos\n",
        "print('Train: X=%s, y=%s' % (train_X.shape, train_y.shape))\n",
        "print('Test: X=%s, y=%s' % (test_X.shape, test_y.shape))\n",
        "# Plotear las primeras imágenes\n",
        "for i in range(9):\n",
        "\t# define subplot\n",
        "\tpyplot.subplot(330 + 1 + i)\n",
        "\t# plot raw pixel data\n",
        "\tpyplot.imshow(train_X[i], cmap=pyplot.get_cmap('gray'))\n",
        "# show the figure\n",
        "pyplot.show()\n",
        "\n",
        "# Normalizamos las imágenes\n",
        "train_X_n = (train_X / 255) - 0.5\n",
        "test_X_n = (test_X / 255) - 0.5\n",
        "\n",
        "# Hacemos reshape de las imágenes para que tengan un canal\n",
        "train_X_n = train_X.reshape((train_X_n.shape[0], 28, 28, 1))\n",
        "test_X_n = test_X.reshape((test_X_n.shape[0], 28, 28, 1))\n",
        "\n",
        "# también se puede hacer\n",
        "#train_X_n = np.expand_dims(train_X_n, axis=3)\n",
        "#test_X_n = np.expand_dims(test_X_n, axis=3)\n",
        "\n"
      ],
      "execution_count": null,
      "outputs": [
        {
          "output_type": "stream",
          "text": [
            "Downloading data from https://storage.googleapis.com/tensorflow/tf-keras-datasets/mnist.npz\n",
            "11493376/11490434 [==============================] - 0s 0us/step\n",
            "Train: X=(60000, 28, 28), y=(60000,)\n",
            "Test: X=(10000, 28, 28), y=(10000,)\n"
          ],
          "name": "stdout"
        },
        {
          "output_type": "display_data",
          "data": {
            "image/png": "[encoded data removed]",
            "text/plain": [
              "<Figure size 432x288 with 9 Axes>"
            ]
          },
          "metadata": {
            "tags": [],
            "needs_background": "light"
          }
        }
      ]
    },
    {
      "cell_type": "markdown",
      "metadata": {
        "id": "dpSVZomFvJ5i"
      },
      "source": [
        "### Entrenamos el modelo"
      ]
    },
    {
      "cell_type": "code",
      "metadata": {
        "id": "cf30zYJzvJ5k",
        "colab": {
          "base_uri": "https://localhost:8080/",
          "height": 359
        },
        "outputId": "5046b692-94d3-4511-bd9e-4bf1e29a4851"
      },
      "source": [
        "# Entrenamos el modelo\n",
        "model.fit(\n",
        "  train_X_n,\n",
        "  to_categorical(train_y),\n",
        "  epochs=3,\n",
        "  validation_data=(test_X_n, to_categorical(test_y)),\n",
        ")\n",
        "\n",
        "# Guardar el modelo al disco\n",
        "#model.save_weights('cnn.h5')\n",
        "\n",
        "# Cargar el modelo del disco\n",
        "# model.load_weights('cnn.h5')\n",
        "\n",
        "# Predecir las primeras 5 imágines del test set\n",
        "predicciones = model.predict(test_X_n[:5])\n",
        "\n",
        "# Imprimir las predicciones\n",
        "print(np.argmax(predicciones, axis=1)) # [7, 2, 1, 0, 4]\n",
        "\n",
        "# Chequear que son correctas\n",
        "print(test_y[:5]) # [7, 2, 1, 0, 4]\n",
        "\n",
        "# Plotear esas imágenes\n",
        "for i in range(5):\n",
        "\tpyplot.subplot(330 + 1 + i)\n",
        "\tpyplot.imshow(test_X[i], cmap=pyplot.get_cmap('gray'))\n",
        "pyplot.show()"
      ],
      "execution_count": null,
      "outputs": [
        {
          "output_type": "stream",
          "text": [
            "Epoch 1/3\n",
            "1875/1875 [==============================] - 12s 3ms/step - loss: 7.8578 - accuracy: 0.8169 - val_loss: 0.7758 - val_accuracy: 0.9191\n",
            "Epoch 2/3\n",
            "1875/1875 [==============================] - 5s 2ms/step - loss: 0.5174 - accuracy: 0.9324 - val_loss: 0.3644 - val_accuracy: 0.9376\n",
            "Epoch 3/3\n",
            "1875/1875 [==============================] - 5s 2ms/step - loss: 0.2615 - accuracy: 0.9511 - val_loss: 0.2929 - val_accuracy: 0.9483\n",
            "[7 2 1 0 4]\n",
            "[7 2 1 0 4]\n"
          ],
          "name": "stdout"
        },
        {
          "output_type": "display_data",
          "data": {
            "image/png": "[encoded data removed]",
            "text/plain": [
              "<Figure size 432x288 with 5 Axes>"
            ]
          },
          "metadata": {
            "tags": [],
            "needs_background": "light"
          }
        }
      ]
    },
    {
      "cell_type": "code",
      "metadata": {
        "id": "AifRlFB0vJ5n",
        "colab": {
          "base_uri": "https://localhost:8080/"
        },
        "outputId": "71227546-a8d8-4c9e-b241-f291b06d82d3"
      },
      "source": [
        "print(model.summary())"
      ],
      "execution_count": null,
      "outputs": [
        {
          "output_type": "stream",
          "text": [
            "Model: \"sequential\"\n",
            "_________________________________________________________________\n",
            "Layer (type)                 Output Shape              Param #   \n",
            "=================================================================\n",
            "conv2d (Conv2D)              (None, 26, 26, 8)         80        \n",
            "_________________________________________________________________\n",
            "max_pooling2d (MaxPooling2D) (None, 13, 13, 8)         0         \n",
            "_________________________________________________________________\n",
            "flatten (Flatten)            (None, 1352)              0         \n",
            "_________________________________________________________________\n",
            "dense (Dense)                (None, 10)                13530     \n",
            "=================================================================\n",
            "Total params: 13,610\n",
            "Trainable params: 13,610\n",
            "Non-trainable params: 0\n",
            "_________________________________________________________________\n",
            "None\n"
          ],
          "name": "stdout"
        }
      ]
    },
    {
      "cell_type": "markdown",
      "metadata": {
        "id": "iRQGHvIXxQ_h"
      },
      "source": [
        "### Ejercicio: hacer otra red que tenga:\n",
        "1. Capa convolucional, 8 filtros de 3x3\n",
        "2. Capa max pool\n",
        "3. Capa convolucional, 16 filtros de 3x3\n",
        "4. Capa max pool\n",
        "5. Capa convolucional, 32 filtros de 3x3\n",
        "6. Capa max pool\n",
        "7. Flatten\n",
        "8. Capa densa \n",
        "9. Salida"
      ]
    },
    {
      "cell_type": "code",
      "metadata": {
        "id": "SAHK0wjNvJ5s"
      },
      "source": [
        "# Armar el modelo\n",
        "model = Sequential()\n",
        "model.add(Conv2D(8, 3, input_shape=(28, 28, 1)))\n",
        "model.add(MaxPooling2D(pool_size=2))\n",
        "model.add(Conv2D(16, 3))\n",
        "model.add(MaxPooling2D(pool_size=2))\n",
        "model.add(Conv2D(32, 3))\n",
        "model.add(MaxPooling2D(pool_size=2))\n",
        "model.add(Flatten())\n",
        "model.add(Dense(10, activation='softmax'))  \n",
        "\n",
        "# Compilar el modelo\n",
        "model.compile(\n",
        "  'adam',\n",
        "  loss='categorical_crossentropy',\n",
        "  metrics=['accuracy'],\n",
        ")"
      ],
      "execution_count": null,
      "outputs": []
    },
    {
      "cell_type": "code",
      "metadata": {
        "id": "REiidQvPysr9",
        "colab": {
          "base_uri": "https://localhost:8080/"
        },
        "outputId": "33625810-f6fa-4e98-e5c4-aa06472da7b2"
      },
      "source": [
        "print(model.summary())"
      ],
      "execution_count": null,
      "outputs": [
        {
          "output_type": "stream",
          "text": [
            "Model: \"sequential_1\"\n",
            "_________________________________________________________________\n",
            "Layer (type)                 Output Shape              Param #   \n",
            "=================================================================\n",
            "conv2d_1 (Conv2D)            (None, 26, 26, 8)         80        \n",
            "_________________________________________________________________\n",
            "max_pooling2d_1 (MaxPooling2 (None, 13, 13, 8)         0         \n",
            "_________________________________________________________________\n",
            "conv2d_2 (Conv2D)            (None, 11, 11, 16)        1168      \n",
            "_________________________________________________________________\n",
            "max_pooling2d_2 (MaxPooling2 (None, 5, 5, 16)          0         \n",
            "_________________________________________________________________\n",
            "conv2d_3 (Conv2D)            (None, 3, 3, 32)          4640      \n",
            "_________________________________________________________________\n",
            "max_pooling2d_3 (MaxPooling2 (None, 1, 1, 32)          0         \n",
            "_________________________________________________________________\n",
            "flatten_1 (Flatten)          (None, 32)                0         \n",
            "_________________________________________________________________\n",
            "dense_1 (Dense)              (None, 10)                330       \n",
            "=================================================================\n",
            "Total params: 6,218\n",
            "Trainable params: 6,218\n",
            "Non-trainable params: 0\n",
            "_________________________________________________________________\n",
            "None\n"
          ],
          "name": "stdout"
        }
      ]
    },
    {
      "cell_type": "code",
      "metadata": {
        "id": "X_ialWLjxQcg",
        "colab": {
          "base_uri": "https://localhost:8080/",
          "height": 359
        },
        "outputId": "d3464875-e8fd-455a-da4e-200d588d78d8"
      },
      "source": [
        "# Entrenamos el modelo\n",
        "model.fit(\n",
        "  train_X_n,\n",
        "  to_categorical(train_y),\n",
        "  epochs=3,\n",
        "  validation_data=(test_X_n, to_categorical(test_y)),\n",
        ")\n",
        "\n",
        "# Guardar el modelo al disco\n",
        "#model.save_weights('cnn.h5')\n",
        "\n",
        "# Cargar el modelo del disco\n",
        "# model.load_weights('cnn.h5')\n",
        "\n",
        "# Predecir las primeras 5 imágines del test set\n",
        "predicciones = model.predict(test_X_n[:5])\n",
        "\n",
        "# Imprimir las predicciones\n",
        "print(np.argmax(predicciones, axis=1)) # [7, 2, 1, 0, 4]\n",
        "\n",
        "# Chequear que son correctas\n",
        "print(test_y[:5]) # [7, 2, 1, 0, 4]\n",
        "\n",
        "# Plotear esas imágenes\n",
        "for i in range(5):\n",
        "\tpyplot.subplot(330 + 1 + i)\n",
        "\tpyplot.imshow(test_X[i], cmap=pyplot.get_cmap('gray'))\n",
        "pyplot.show()"
      ],
      "execution_count": null,
      "outputs": [
        {
          "output_type": "stream",
          "text": [
            "Epoch 1/3\n",
            "1875/1875 [==============================] - 6s 3ms/step - loss: 4.9339 - accuracy: 0.7035 - val_loss: 0.2942 - val_accuracy: 0.9212\n",
            "Epoch 2/3\n",
            "1875/1875 [==============================] - 6s 3ms/step - loss: 0.2827 - accuracy: 0.9214 - val_loss: 0.1757 - val_accuracy: 0.9443\n",
            "Epoch 3/3\n",
            "1875/1875 [==============================] - 6s 3ms/step - loss: 0.1778 - accuracy: 0.9465 - val_loss: 0.1435 - val_accuracy: 0.9561\n",
            "[7 2 1 0 4]\n",
            "[7 2 1 0 4]\n"
          ],
          "name": "stdout"
        },
        {
          "output_type": "display_data",
          "data": {
            "image/png": "[encoded data removed]",
            "text/plain": [
              "<Figure size 432x288 with 5 Axes>"
            ]
          },
          "metadata": {
            "tags": [],
            "needs_background": "light"
          }
        }
      ]
    },
    {
      "cell_type": "code",
      "metadata": {
        "id": "U8hRvpI6zCg8"
      },
      "source": [
        "# Ejercicio: visualizar los filtros en las diferentes capas para ver qué features capturan"
      ],
      "execution_count": null,
      "outputs": []
    },
    {
      "cell_type": "code",
      "metadata": {
        "colab": {
          "base_uri": "https://localhost:8080/"
        },
        "id": "WVFCkfRj_GiM",
        "outputId": "12149445-66fc-473a-ff4f-a4708cb424d1"
      },
      "source": [
        "model.summary()"
      ],
      "execution_count": null,
      "outputs": [
        {
          "output_type": "stream",
          "text": [
            "Model: \"sequential_1\"\n",
            "_________________________________________________________________\n",
            "Layer (type)                 Output Shape              Param #   \n",
            "=================================================================\n",
            "conv2d_1 (Conv2D)            (None, 26, 26, 8)         80        \n",
            "_________________________________________________________________\n",
            "max_pooling2d_1 (MaxPooling2 (None, 13, 13, 8)         0         \n",
            "_________________________________________________________________\n",
            "conv2d_2 (Conv2D)            (None, 11, 11, 16)        1168      \n",
            "_________________________________________________________________\n",
            "max_pooling2d_2 (MaxPooling2 (None, 5, 5, 16)          0         \n",
            "_________________________________________________________________\n",
            "conv2d_3 (Conv2D)            (None, 3, 3, 32)          4640      \n",
            "_________________________________________________________________\n",
            "max_pooling2d_3 (MaxPooling2 (None, 1, 1, 32)          0         \n",
            "_________________________________________________________________\n",
            "flatten_1 (Flatten)          (None, 32)                0         \n",
            "_________________________________________________________________\n",
            "dense_1 (Dense)              (None, 10)                330       \n",
            "=================================================================\n",
            "Total params: 6,218\n",
            "Trainable params: 6,218\n",
            "Non-trainable params: 0\n",
            "_________________________________________________________________\n"
          ],
          "name": "stdout"
        }
      ]
    },
    {
      "cell_type": "code",
      "metadata": {
        "colab": {
          "base_uri": "https://localhost:8080/",
          "height": 488
        },
        "id": "cDbvNTpa--Am",
        "outputId": "5b6b3b53-b541-42de-e78d-b6174b9ccfdd"
      },
      "source": [
        "from sklearn import preprocessing\r\n",
        "scaler = preprocessing.MinMaxScaler()\r\n",
        "import matplotlib.pyplot as plt\r\n",
        "w = model.get_weights()\r\n",
        "for i in range(0,5,2):\r\n",
        "  print('Layer {}'.format(i))\r\n",
        "  layer = w[i]\r\n",
        "  _,_,_,channels = w[i].shape\r\n",
        "  print('The layer has {} channels'.format(channels))\r\n",
        "  fig, ax  = plt.subplots(nrows=1,ncols=channels,figsize=(channels*2,4))\r\n",
        "  for c in range(channels):\r\n",
        "    W = scaler.fit_transform(layer[:,:,0,c])\r\n",
        "    ax[c].imshow(W,cmap='Greys')\r\n",
        "    ax[c].set_title('Channel {}'.format(c))\r\n",
        "  plt.show()\r\n"
      ],
      "execution_count": null,
      "outputs": [
        {
          "output_type": "stream",
          "text": [
            "Layer 0\n",
            "The layer has 8 channels\n"
          ],
          "name": "stdout"
        },
        {
          "output_type": "display_data",
          "data": {
            "image/png": "[encoded data removed]",
            "text/plain": [
              "<Figure size 1152x288 with 8 Axes>"
            ]
          },
          "metadata": {
            "tags": [],
            "needs_background": "light"
          }
        },
        {
          "output_type": "stream",
          "text": [
            "Layer 2\n",
            "The layer has 16 channels\n"
          ],
          "name": "stdout"
        },
        {
          "output_type": "display_data",
          "data": {
            "image/png": "[encoded data removed]",
            "text/plain": [
              "<Figure size 2304x288 with 16 Axes>"
            ]
          },
          "metadata": {
            "tags": [],
            "needs_background": "light"
          }
        },
        {
          "output_type": "stream",
          "text": [
            "Layer 4\n",
            "The layer has 32 channels\n"
          ],
          "name": "stdout"
        },
        {
          "output_type": "display_data",
          "data": {
            "image/png": "[encoded data removed]",
            "text/plain": [
              "<Figure size 4608x288 with 32 Axes>"
            ]
          },
          "metadata": {
            "tags": [],
            "needs_background": "light"
          }
        }
      ]
    }
  ]
}
