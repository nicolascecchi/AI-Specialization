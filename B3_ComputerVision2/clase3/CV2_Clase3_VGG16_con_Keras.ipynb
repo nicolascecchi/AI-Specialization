{
  "nbformat": 4,
  "nbformat_minor": 0,
  "metadata": {
    "kernelspec": {
      "display_name": "Python 3",
      "language": "python",
      "name": "python3"
    },
    "language_info": {
      "codemirror_mode": {
        "name": "ipython",
        "version": 3
      },
      "file_extension": ".py",
      "mimetype": "text/x-python",
      "name": "python",
      "nbconvert_exporter": "python",
      "pygments_lexer": "ipython3",
      "version": "3.7.6"
    },
    "colab": {
      "name": "Clase 3 - VGG16_con_Keras.ipynb",
      "provenance": [],
      "collapsed_sections": []
    },
    "accelerator": "GPU"
  },
  "cells": [
    {
      "cell_type": "code",
      "metadata": {
        "id": "ClMhk3rw-aQA",
        "outputId": "b4eb3ba2-61ef-4d41-be7d-9795735a9904",
        "colab": {
          "base_uri": "https://localhost:8080/"
        }
      },
      "source": [
        "!wget --no-check-certificate \\\n",
        "  https://storage.googleapis.com/mledu-datasets/cats_and_dogs_filtered.zip \\\n",
        "  -O cats_and_dogs_filtered.zip"
      ],
      "execution_count": 1,
      "outputs": [
        {
          "output_type": "stream",
          "text": [
            "--2020-11-15 13:44:27--  https://storage.googleapis.com/mledu-datasets/cats_and_dogs_filtered.zip\n",
            "Resolving storage.googleapis.com (storage.googleapis.com)... 142.250.73.208, 172.217.5.240, 172.217.7.240, ...\n",
            "Connecting to storage.googleapis.com (storage.googleapis.com)|142.250.73.208|:443... connected.\n",
            "HTTP request sent, awaiting response... 200 OK\n",
            "Length: 68606236 (65M) [application/zip]\n",
            "Saving to: ‘cats_and_dogs_filtered.zip’\n",
            "\n",
            "cats_and_dogs_filte 100%[===================>]  65.43M  71.9MB/s    in 0.9s    \n",
            "\n",
            "2020-11-15 13:44:28 (71.9 MB/s) - ‘cats_and_dogs_filtered.zip’ saved [68606236/68606236]\n",
            "\n"
          ],
          "name": "stdout"
        }
      ]
    },
    {
      "cell_type": "code",
      "metadata": {
        "id": "dsmSGBQe-aQE"
      },
      "source": [
        "! unzip -q cats_and_dogs_filtered.zip"
      ],
      "execution_count": 2,
      "outputs": []
    },
    {
      "cell_type": "code",
      "metadata": {
        "id": "0UvArfTv-aQI"
      },
      "source": [
        "import os\n",
        "from tensorflow.keras.models import Sequential\n",
        "from tensorflow.keras.layers import Dense, Conv2D, MaxPool2D , Flatten\n",
        "from tensorflow.keras.preprocessing.image import ImageDataGenerator\n",
        "from tensorflow.keras import Input\n",
        "from keras import layers\n",
        "import keras\n",
        "import numpy as np"
      ],
      "execution_count": 3,
      "outputs": []
    },
    {
      "cell_type": "code",
      "metadata": {
        "id": "qCxEvt-Y-aQL",
        "outputId": "3ccf57bd-91fc-4435-f5b1-7be83447a458",
        "colab": {
          "base_uri": "https://localhost:8080/"
        }
      },
      "source": [
        "train_dir = \"cats_and_dogs_filtered/train\"\n",
        "validation_dir = \"cats_and_dogs_filtered/validation\"\n",
        "trdata = ImageDataGenerator()\n",
        "traindata = trdata.flow_from_directory(directory=train_dir,target_size=(224,224))\n",
        "tsdata = ImageDataGenerator()\n",
        "testdata = tsdata.flow_from_directory(directory=validation_dir, target_size=(224,224))"
      ],
      "execution_count": 4,
      "outputs": [
        {
          "output_type": "stream",
          "text": [
            "Found 2000 images belonging to 2 classes.\n",
            "Found 1000 images belonging to 2 classes.\n"
          ],
          "name": "stdout"
        }
      ]
    },
    {
      "cell_type": "markdown",
      "metadata": {
        "id": "mQhkjjRI-aQR"
      },
      "source": [
        "### Reescribir la red utilizando el método funcional y definiendo una función de ayuda."
      ]
    },
    {
      "cell_type": "code",
      "metadata": {
        "id": "hlGI9L4m-aQS"
      },
      "source": [
        "## inputs = Input(shape=(224,224,3)), etc.\n",
        "def create_block(n_filters, n_conv_layers, inputs):\n",
        "    '''\n",
        "    Entradas:\n",
        "     n_filters: numero de filtros del bloque\n",
        "     n_layers: número de capas del bloque\n",
        "     inputs: tensor de entrada\n",
        "    Retorna:\n",
        "     tensor de salida con las capas aplicadas\n",
        "    '''\n",
        "    for i in range(n_conv_layers):\n",
        "      inputs = Conv2D(filters=n_filters,kernel_size=(3,3),padding='same',activation='relu')(inputs)\n",
        "    pool = MaxPool2D(pool_size=(2,2),strides=(2,2))(inputs)\n",
        "    # usar un bucle for para agregar n_layers capas convolucionales\n",
        "    # luego, agregar la capa MaxPool2D y retornarla\n",
        "    return pool\n",
        "    \n"
      ],
      "execution_count": 5,
      "outputs": []
    },
    {
      "cell_type": "markdown",
      "metadata": {
        "id": "8uwvU6cFBz-6"
      },
      "source": [
        "# VGG16 Functional"
      ]
    },
    {
      "cell_type": "code",
      "metadata": {
        "id": "5b5EShQ190z8"
      },
      "source": [
        "inputLayer = layers.Input(shape=(224,224,3))\n",
        "block1 = create_block(n_filters=64,n_conv_layers=2,inputs=inputLayer)\n",
        "block2 = create_block(n_filters=128,n_conv_layers=2,inputs=block1)\n",
        "block3 = create_block(n_filters=256,n_conv_layers=3,inputs=block2)\n",
        "block4 = create_block(n_filters=512,n_conv_layers=3,inputs=block3)\n",
        "block5 = create_block(n_filters=512,n_conv_layers=3,inputs=block4)\n",
        "flattenLayer = layers.Flatten()(block5)\n",
        "dense1 = layers.Dense(units=4096,activation='relu')(flattenLayer)\n",
        "dense2 = layers.Dense(units=4096,activation='relu')(dense1)\n",
        "outputLayer = layers.Dense(units=2,activation='softmax')(dense2)\n"
      ],
      "execution_count": 6,
      "outputs": []
    },
    {
      "cell_type": "code",
      "metadata": {
        "id": "0YjeZAbH_EYP"
      },
      "source": [
        "functional_model = keras.Model(inputs=inputLayer, outputs=outputLayer, name=\"cats_vs_dogs_model\")"
      ],
      "execution_count": 7,
      "outputs": []
    },
    {
      "cell_type": "code",
      "metadata": {
        "id": "ps8GIaMbA1uK",
        "outputId": "8c13fbf6-2e44-42ec-b3d2-06c38c802f33",
        "colab": {
          "base_uri": "https://localhost:8080/"
        }
      },
      "source": [
        "functional_model.summary()"
      ],
      "execution_count": 10,
      "outputs": [
        {
          "output_type": "stream",
          "text": [
            "Model: \"cats_vs_dogs_model\"\n",
            "_________________________________________________________________\n",
            "Layer (type)                 Output Shape              Param #   \n",
            "=================================================================\n",
            "input_1 (InputLayer)         [(None, 224, 224, 3)]     0         \n",
            "_________________________________________________________________\n",
            "conv2d (Conv2D)              (None, 224, 224, 64)      1792      \n",
            "_________________________________________________________________\n",
            "conv2d_1 (Conv2D)            (None, 224, 224, 64)      36928     \n",
            "_________________________________________________________________\n",
            "max_pooling2d (MaxPooling2D) (None, 112, 112, 64)      0         \n",
            "_________________________________________________________________\n",
            "conv2d_2 (Conv2D)            (None, 112, 112, 128)     73856     \n",
            "_________________________________________________________________\n",
            "conv2d_3 (Conv2D)            (None, 112, 112, 128)     147584    \n",
            "_________________________________________________________________\n",
            "max_pooling2d_1 (MaxPooling2 (None, 56, 56, 128)       0         \n",
            "_________________________________________________________________\n",
            "conv2d_4 (Conv2D)            (None, 56, 56, 256)       295168    \n",
            "_________________________________________________________________\n",
            "conv2d_5 (Conv2D)            (None, 56, 56, 256)       590080    \n",
            "_________________________________________________________________\n",
            "conv2d_6 (Conv2D)            (None, 56, 56, 256)       590080    \n",
            "_________________________________________________________________\n",
            "max_pooling2d_2 (MaxPooling2 (None, 28, 28, 256)       0         \n",
            "_________________________________________________________________\n",
            "conv2d_7 (Conv2D)            (None, 28, 28, 512)       1180160   \n",
            "_________________________________________________________________\n",
            "conv2d_8 (Conv2D)            (None, 28, 28, 512)       2359808   \n",
            "_________________________________________________________________\n",
            "conv2d_9 (Conv2D)            (None, 28, 28, 512)       2359808   \n",
            "_________________________________________________________________\n",
            "max_pooling2d_3 (MaxPooling2 (None, 14, 14, 512)       0         \n",
            "_________________________________________________________________\n",
            "conv2d_10 (Conv2D)           (None, 14, 14, 512)       2359808   \n",
            "_________________________________________________________________\n",
            "conv2d_11 (Conv2D)           (None, 14, 14, 512)       2359808   \n",
            "_________________________________________________________________\n",
            "conv2d_12 (Conv2D)           (None, 14, 14, 512)       2359808   \n",
            "_________________________________________________________________\n",
            "max_pooling2d_4 (MaxPooling2 (None, 7, 7, 512)         0         \n",
            "_________________________________________________________________\n",
            "flatten (Flatten)            (None, 25088)             0         \n",
            "_________________________________________________________________\n",
            "dense (Dense)                (None, 4096)              102764544 \n",
            "_________________________________________________________________\n",
            "dense_1 (Dense)              (None, 4096)              16781312  \n",
            "_________________________________________________________________\n",
            "dense_2 (Dense)              (None, 2)                 8194      \n",
            "=================================================================\n",
            "Total params: 134,268,738\n",
            "Trainable params: 134,268,738\n",
            "Non-trainable params: 0\n",
            "_________________________________________________________________\n"
          ],
          "name": "stdout"
        }
      ]
    },
    {
      "cell_type": "code",
      "metadata": {
        "id": "8gW-8muhEW2P"
      },
      "source": [
        "functional_model.compile(optimizer=keras.optimizers.Adam(),loss=keras.losses.categorical_crossentropy)"
      ],
      "execution_count": 8,
      "outputs": []
    },
    {
      "cell_type": "markdown",
      "metadata": {
        "id": "yAzbyfRIBwon"
      },
      "source": [
        "# VGG16 Secuencial"
      ]
    },
    {
      "cell_type": "code",
      "metadata": {
        "id": "U1P3ZX1u8mC1",
        "outputId": "01be1e07-df01-44f2-c92f-0bc1692c68c2",
        "colab": {
          "base_uri": "https://localhost:8080/"
        }
      },
      "source": [
        "# reemplazar los bloques usando la función create_block\n",
        "# inputs = Input(shape=...)\n",
        "# model = tf.keras.Model(inputs, x)\n",
        "# etc.\n",
        "\n",
        "model = Sequential()\n",
        "model.add(Conv2D(input_shape=(224,224,3),filters=64,kernel_size=(3,3),padding=\"same\", activation=\"relu\"))\n",
        "model.add(Conv2D(filters=64,kernel_size=(3,3),padding=\"same\", activation=\"relu\"))\n",
        "model.add(MaxPool2D(pool_size=(2,2),strides=(2,2)))\n",
        "model.add(Conv2D(filters=128, kernel_size=(3,3), padding=\"same\", activation=\"relu\"))\n",
        "model.add(Conv2D(filters=128, kernel_size=(3,3), padding=\"same\", activation=\"relu\"))\n",
        "model.add(MaxPool2D(pool_size=(2,2),strides=(2,2)))\n",
        "model.add(Conv2D(filters=256, kernel_size=(3,3), padding=\"same\", activation=\"relu\"))\n",
        "model.add(Conv2D(filters=256, kernel_size=(3,3), padding=\"same\", activation=\"relu\"))\n",
        "model.add(Conv2D(filters=256, kernel_size=(3,3), padding=\"same\", activation=\"relu\"))\n",
        "model.add(MaxPool2D(pool_size=(2,2),strides=(2,2)))\n",
        "model.add(Conv2D(filters=512, kernel_size=(3,3), padding=\"same\", activation=\"relu\"))\n",
        "model.add(Conv2D(filters=512, kernel_size=(3,3), padding=\"same\", activation=\"relu\"))\n",
        "model.add(Conv2D(filters=512, kernel_size=(3,3), padding=\"same\", activation=\"relu\"))\n",
        "model.add(MaxPool2D(pool_size=(2,2),strides=(2,2)))\n",
        "model.add(Conv2D(filters=512, kernel_size=(3,3), padding=\"same\", activation=\"relu\"))\n",
        "model.add(Conv2D(filters=512, kernel_size=(3,3), padding=\"same\", activation=\"relu\"))\n",
        "model.add(Conv2D(filters=512, kernel_size=(3,3), padding=\"same\", activation=\"relu\"))\n",
        "model.add(MaxPool2D(pool_size=(2,2),strides=(2,2)))\n",
        "model.add(Flatten())\n",
        "model.add(Dense(units=4096,activation=\"relu\"))\n",
        "model.add(Dense(units=4096,activation=\"relu\"))\n",
        "model.add(Dense(units=2, activation=\"softmax\"))\n",
        "from tensorflow.keras.optimizers import Adam\n",
        "from tensorflow.keras.losses import categorical_crossentropy\n",
        "opt = Adam(lr=0.001)\n",
        "model.compile(optimizer=opt, loss=categorical_crossentropy, metrics=['accuracy'])\n",
        "model.summary()"
      ],
      "execution_count": 20,
      "outputs": [
        {
          "output_type": "stream",
          "text": [
            "Model: \"sequential\"\n",
            "_________________________________________________________________\n",
            "Layer (type)                 Output Shape              Param #   \n",
            "=================================================================\n",
            "conv2d_39 (Conv2D)           (None, 224, 224, 64)      1792      \n",
            "_________________________________________________________________\n",
            "conv2d_40 (Conv2D)           (None, 224, 224, 64)      36928     \n",
            "_________________________________________________________________\n",
            "max_pooling2d_15 (MaxPooling (None, 112, 112, 64)      0         \n",
            "_________________________________________________________________\n",
            "conv2d_41 (Conv2D)           (None, 112, 112, 128)     73856     \n",
            "_________________________________________________________________\n",
            "conv2d_42 (Conv2D)           (None, 112, 112, 128)     147584    \n",
            "_________________________________________________________________\n",
            "max_pooling2d_16 (MaxPooling (None, 56, 56, 128)       0         \n",
            "_________________________________________________________________\n",
            "conv2d_43 (Conv2D)           (None, 56, 56, 256)       295168    \n",
            "_________________________________________________________________\n",
            "conv2d_44 (Conv2D)           (None, 56, 56, 256)       590080    \n",
            "_________________________________________________________________\n",
            "conv2d_45 (Conv2D)           (None, 56, 56, 256)       590080    \n",
            "_________________________________________________________________\n",
            "max_pooling2d_17 (MaxPooling (None, 28, 28, 256)       0         \n",
            "_________________________________________________________________\n",
            "conv2d_46 (Conv2D)           (None, 28, 28, 512)       1180160   \n",
            "_________________________________________________________________\n",
            "conv2d_47 (Conv2D)           (None, 28, 28, 512)       2359808   \n",
            "_________________________________________________________________\n",
            "conv2d_48 (Conv2D)           (None, 28, 28, 512)       2359808   \n",
            "_________________________________________________________________\n",
            "max_pooling2d_18 (MaxPooling (None, 14, 14, 512)       0         \n",
            "_________________________________________________________________\n",
            "conv2d_49 (Conv2D)           (None, 14, 14, 512)       2359808   \n",
            "_________________________________________________________________\n",
            "conv2d_50 (Conv2D)           (None, 14, 14, 512)       2359808   \n",
            "_________________________________________________________________\n",
            "conv2d_51 (Conv2D)           (None, 14, 14, 512)       2359808   \n",
            "_________________________________________________________________\n",
            "max_pooling2d_19 (MaxPooling (None, 7, 7, 512)         0         \n",
            "_________________________________________________________________\n",
            "flatten_3 (Flatten)          (None, 25088)             0         \n",
            "_________________________________________________________________\n",
            "dense_9 (Dense)              (None, 4096)              102764544 \n",
            "_________________________________________________________________\n",
            "dense_10 (Dense)             (None, 4096)              16781312  \n",
            "_________________________________________________________________\n",
            "dense_11 (Dense)             (None, 2)                 8194      \n",
            "=================================================================\n",
            "Total params: 134,268,738\n",
            "Trainable params: 134,268,738\n",
            "Non-trainable params: 0\n",
            "_________________________________________________________________\n"
          ],
          "name": "stdout"
        }
      ]
    },
    {
      "cell_type": "markdown",
      "metadata": {
        "id": "FV0Pfpw6B6K1"
      },
      "source": [
        "# Probando performance"
      ]
    },
    {
      "cell_type": "code",
      "metadata": {
        "id": "JpVz7JEJ-aQU"
      },
      "source": [
        "from tensorflow.keras.callbacks import ModelCheckpoint, EarlyStopping\n",
        "checkpoint = ModelCheckpoint(\"vgg16_1.h5\", monitor='val_acc', verbose=1, save_best_only=True, \n",
        "                             save_weights_only=False, mode='auto', save_freq=1000)\n",
        "early = EarlyStopping(monitor='val_loss', min_delta=0, patience=20, verbose=1, mode='auto')\n"
      ],
      "execution_count": 12,
      "outputs": []
    },
    {
      "cell_type": "code",
      "metadata": {
        "id": "Na_8qfq8-aQY",
        "outputId": "6bcdfd90-e569-4165-bac8-17ee126062f1",
        "colab": {
          "base_uri": "https://localhost:8080/"
        }
      },
      "source": [
        "hist = functional_model.fit_generator(steps_per_epoch=20,generator=traindata, validation_data= testdata, \n",
        "                                      validation_steps=10,epochs=10,callbacks=[checkpoint,early])"
      ],
      "execution_count": 13,
      "outputs": [
        {
          "output_type": "stream",
          "text": [
            "Epoch 1/10\n",
            " 2/20 [==>...........................] - ETA: 3s - loss: 0.6927WARNING:tensorflow:Callbacks method `on_train_batch_end` is slow compared to the batch time (batch time: 0.1176s vs `on_train_batch_end` time: 0.2724s). Check your callbacks.\n",
            "20/20 [==============================] - 9s 442ms/step - loss: 0.6924 - val_loss: 0.6925\n",
            "Epoch 2/10\n",
            "20/20 [==============================] - 9s 442ms/step - loss: 0.6945 - val_loss: 0.6934\n",
            "Epoch 3/10\n",
            "20/20 [==============================] - 9s 446ms/step - loss: 0.6932 - val_loss: 0.6935\n",
            "Epoch 4/10\n",
            "20/20 [==============================] - 9s 460ms/step - loss: 0.6936 - val_loss: 0.6931\n",
            "Epoch 5/10\n",
            "20/20 [==============================] - 9s 461ms/step - loss: 0.6933 - val_loss: 0.6931\n",
            "Epoch 6/10\n",
            "20/20 [==============================] - 9s 453ms/step - loss: 0.6932 - val_loss: 0.6932\n",
            "Epoch 7/10\n",
            "20/20 [==============================] - 9s 456ms/step - loss: 0.6932 - val_loss: 0.6931\n",
            "Epoch 8/10\n",
            "20/20 [==============================] - 9s 456ms/step - loss: 0.6932 - val_loss: 0.6932\n",
            "Epoch 9/10\n",
            "20/20 [==============================] - 9s 446ms/step - loss: 0.6932 - val_loss: 0.6929\n",
            "Epoch 10/10\n",
            "20/20 [==============================] - 9s 452ms/step - loss: 0.6933 - val_loss: 0.6931\n"
          ],
          "name": "stdout"
        }
      ]
    },
    {
      "cell_type": "code",
      "metadata": {
        "id": "DqNW34jTN6Pn",
        "outputId": "da653aa1-c7f7-4413-858e-e43000b15f45",
        "colab": {
          "base_uri": "https://localhost:8080/"
        }
      },
      "source": [
        "hist.history"
      ],
      "execution_count": 15,
      "outputs": [
        {
          "output_type": "execute_result",
          "data": {
            "text/plain": [
              "{'loss': [0.692435085773468,\n",
              "  0.6945187449455261,\n",
              "  0.6931992769241333,\n",
              "  0.6935585737228394,\n",
              "  0.6933063864707947,\n",
              "  0.6932218670845032,\n",
              "  0.6932055950164795,\n",
              "  0.693179726600647,\n",
              "  0.6931744813919067,\n",
              "  0.6932865381240845],\n",
              " 'val_loss': [0.6924614906311035,\n",
              "  0.6934202313423157,\n",
              "  0.6934592723846436,\n",
              "  0.693107008934021,\n",
              "  0.6931232213973999,\n",
              "  0.6932119131088257,\n",
              "  0.6931474804878235,\n",
              "  0.6932216882705688,\n",
              "  0.6928948163986206,\n",
              "  0.6931445598602295]}"
            ]
          },
          "metadata": {
            "tags": []
          },
          "execution_count": 15
        }
      ]
    },
    {
      "cell_type": "code",
      "metadata": {
        "id": "kniVmEoL-aQb",
        "outputId": "b1f97a1e-5d0b-47b0-b057-653e4b9e2030",
        "colab": {
          "base_uri": "https://localhost:8080/",
          "height": 295
        }
      },
      "source": [
        "import matplotlib.pyplot as plt\n",
        "#plt.plot(hist.history[\"acc\"])\n",
        "#plt.plot(hist.history['val_acc'])\n",
        "plt.plot(hist.history['loss'])\n",
        "plt.plot(hist.history['val_loss'])\n",
        "plt.title(\"Accuracy del modelo\")\n",
        "plt.ylabel(\"Accuracy\")\n",
        "plt.xlabel(\"Epoch\")\n",
        "plt.legend([\"Accuracy\",\"Validation Accuracy\",\"loss\",\"Validation Loss\"])\n",
        "plt.show()"
      ],
      "execution_count": 16,
      "outputs": [
        {
          "output_type": "display_data",
          "data": {
            "image/png": "[encoded data removed]",
            "text/plain": [
              "<Figure size 432x288 with 1 Axes>"
            ]
          },
          "metadata": {
            "tags": [],
            "needs_background": "light"
          }
        }
      ]
    },
    {
      "cell_type": "code",
      "metadata": {
        "id": "-Jw-Iu7bGh3e"
      },
      "source": [
        ""
      ],
      "execution_count": null,
      "outputs": []
    },
    {
      "cell_type": "code",
      "metadata": {
        "id": "rwwPVVr7CN7S"
      },
      "source": [
        "from tensorflow.keras.preprocessing import image\n",
        "# bajar una imagen de ejemplo de internet\n",
        "img = image.load_img(\"ejemplo.jpeg\",target_size=(224,224))\n",
        "img = np.asarray(img)\n",
        "plt.imshow(img)\n",
        "img = np.expand_dims(img, axis=0)\n",
        "from keras.models import load_model\n",
        "saved_model = load_model(\"vgg16_1.h5\")\n",
        "output = saved_model.predict(img)\n",
        "if output[0][0] > output[0][1]:\n",
        "    print(\"cat\")\n",
        "else:\n",
        "    print('dog')"
      ],
      "execution_count": null,
      "outputs": []
    }
  ]
}
