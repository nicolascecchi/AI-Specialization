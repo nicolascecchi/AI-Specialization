{
  "nbformat": 4,
  "nbformat_minor": 0,
  "metadata": {
    "kernelspec": {
      "display_name": "Python 3",
      "language": "python",
      "name": "python3"
    },
    "language_info": {
      "codemirror_mode": {
        "name": "ipython",
        "version": 3
      },
      "file_extension": ".py",
      "mimetype": "text/x-python",
      "name": "python",
      "nbconvert_exporter": "python",
      "pygments_lexer": "ipython3",
      "version": "3.7.6"
    },
    "colab": {
      "name": "Dataset_y_data_augmentation.ipynb",
      "provenance": [],
      "collapsed_sections": []
    },
    "accelerator": "GPU"
  },
  "cells": [
    {
      "cell_type": "markdown",
      "metadata": {
        "id": "gnz3-c4GTXm9"
      },
      "source": [
        "# Vamos a utilizar un dataset de perros y gatos para explorar técnicas de Data Augmentation"
      ]
    },
    {
      "cell_type": "code",
      "metadata": {
        "id": "AvXs-cneTXm-"
      },
      "source": [
        "import numpy as np\n",
        "import pandas as pd\n",
        "%matplotlib inline\n",
        "import matplotlib as mpl\n",
        "import matplotlib.pyplot as plt\n",
        "import os"
      ],
      "execution_count": 1,
      "outputs": []
    },
    {
      "cell_type": "code",
      "metadata": {
        "id": "PHVTt9_UTXnC"
      },
      "source": [
        "import tensorflow as tf\n",
        "from tensorflow import keras"
      ],
      "execution_count": 2,
      "outputs": []
    },
    {
      "cell_type": "markdown",
      "metadata": {
        "id": "Zk78JBqATXnG"
      },
      "source": [
        "### DATASET:"
      ]
    },
    {
      "cell_type": "markdown",
      "metadata": {
        "id": "PQ0QRvPATXnH"
      },
      "source": [
        "El Dataset contiene 4000 imágenes de gatos y perros (2000 gatos y 2000 perros). Vamos a usar 2000 imágenes para entrenar, 1000 para validación, 1000 para test."
      ]
    },
    {
      "cell_type": "code",
      "metadata": {
        "id": "c3eXgXGWAotM"
      },
      "source": [
        "from google.colab import drive\n",
        "drive.mount('/content/drive')"
      ],
      "execution_count": null,
      "outputs": []
    },
    {
      "cell_type": "code",
      "metadata": {
        "id": "E-DnI3CtwyaC",
        "outputId": "7d1b041f-805a-4bbe-ae1c-2aa08a85362e",
        "colab": {
          "base_uri": "https://localhost:8080/"
        }
      },
      "source": [
        "#subir el archivo perros_y_gatos.zip\n",
        "# está acá: https://drive.google.com/file/d/1WgbH_Xt421hNhD4gcfwsvtVsFheJKefm/view?usp=sharing\\\n",
        "!gdown --id 1WgbH_Xt421hNhD4gcfwsvtVsFheJKefm"
      ],
      "execution_count": 3,
      "outputs": [
        {
          "output_type": "stream",
          "text": [
            "Downloading...\n",
            "From: https://drive.google.com/uc?id=1WgbH_Xt421hNhD4gcfwsvtVsFheJKefm\n",
            "To: /content/perros_y_gatos.zip\n",
            "90.8MB [00:00, 105MB/s] \n"
          ],
          "name": "stdout"
        }
      ]
    },
    {
      "cell_type": "code",
      "metadata": {
        "id": "VBhyd6J6wcjs"
      },
      "source": [
        "!unzip /content/perros_y_gatos.zip > /dev/null"
      ],
      "execution_count": 4,
      "outputs": []
    },
    {
      "cell_type": "code",
      "metadata": {
        "id": "u9zISTEdxYyZ",
        "outputId": "8ecfffc1-20e3-4fd2-b873-606f02d05c5f",
        "colab": {
          "base_uri": "https://localhost:8080/"
        }
      },
      "source": [
        "!ls"
      ],
      "execution_count": 5,
      "outputs": [
        {
          "output_type": "stream",
          "text": [
            "perros_y_gatos.zip  sample_data  test  train  validation\n"
          ],
          "name": "stdout"
        }
      ]
    },
    {
      "cell_type": "code",
      "metadata": {
        "id": "BIYh_FdY0l8U",
        "outputId": "a4645e2f-e805-4db0-83e4-0aaf580b75a1",
        "colab": {
          "base_uri": "https://localhost:8080/"
        }
      },
      "source": [
        "cd /content"
      ],
      "execution_count": 6,
      "outputs": [
        {
          "output_type": "stream",
          "text": [
            "/content\n"
          ],
          "name": "stdout"
        }
      ]
    },
    {
      "cell_type": "code",
      "metadata": {
        "id": "tomzRUadTXnJ"
      },
      "source": [
        "train_dir = './train'\n",
        "validation_dir = './validation'\n",
        "test_dir = './test'"
      ],
      "execution_count": 7,
      "outputs": []
    },
    {
      "cell_type": "markdown",
      "metadata": {
        "id": "KDrroygKTXnM"
      },
      "source": [
        "### Preprocesamiento de los datos"
      ]
    },
    {
      "cell_type": "markdown",
      "metadata": {
        "id": "assnLl85TXnN"
      },
      "source": [
        "* Leer las imágenes\n",
        "* Decodificar los JPEG en imágenes de píxeles RGB\n",
        "* Convertir estas imágenes en tensores de valores en punto flotante\n",
        "* Reescalar los valores de los píxeles al intervalo [0,1]\n"
      ]
    },
    {
      "cell_type": "code",
      "metadata": {
        "id": "HuOLXZOJTXnN"
      },
      "source": [
        "from tensorflow.keras.preprocessing.image import ImageDataGenerator"
      ],
      "execution_count": 10,
      "outputs": []
    },
    {
      "cell_type": "markdown",
      "metadata": {
        "id": "_0bUApO-TXnR"
      },
      "source": [
        "Link : https://keras.io/preprocessing/image/"
      ]
    },
    {
      "cell_type": "code",
      "metadata": {
        "id": "-yyUlq53TXnS",
        "outputId": "9d281e9d-199a-4ece-af66-6e016c193a63",
        "colab": {
          "base_uri": "https://localhost:8080/"
        }
      },
      "source": [
        "# Así generamos batches desde los directorios de imágenes\n",
        "train_datagen = ImageDataGenerator(rescale=1./255)\n",
        "test_datagen = ImageDataGenerator(rescale=1./255)\n",
        "\n",
        "train_generator = train_datagen.flow_from_directory(\n",
        "        train_dir,\n",
        "        target_size=(150, 150),\n",
        "        batch_size=20,\n",
        "        class_mode='binary')\n",
        "\n",
        "validation_generator = test_datagen.flow_from_directory(\n",
        "        validation_dir,\n",
        "        target_size=(150, 150),\n",
        "        batch_size=20,\n",
        "        class_mode='binary')"
      ],
      "execution_count": 14,
      "outputs": [
        {
          "output_type": "stream",
          "text": [
            "Found 2000 images belonging to 2 classes.\n",
            "Found 1000 images belonging to 2 classes.\n"
          ],
          "name": "stdout"
        }
      ]
    },
    {
      "cell_type": "code",
      "metadata": {
        "id": "a3wT7I-yTXnX"
      },
      "source": [
        "# i = 1\n",
        "# for batch in train_datagen.flow(train_generator, batch_size=1,\n",
        "#                           save_to_dir='.', save_prefix='img', save_format='jpeg'):\n",
        "#     i += 1\n",
        "#     if i > 6:\n",
        "#         break\n",
        "\n",
        "# import matplotlib.image as mpimg\n",
        "# import glob\n",
        "# import os\n",
        "\n",
        "# files =glob.glob(\"./*.jpeg\")\n",
        "# plt.figure(figsize=(10,5))\n",
        "# i = 1\n",
        "# for f in files:\n",
        "#     if i > 6:\n",
        "#         break \n",
        "#     plt.subplot(2,3,i)\n",
        "#     image = mpimg.imread(f)\n",
        "#     plt.imshow(image)\n",
        "#     i+=1\n",
        "#     os.remove(f)\n",
        "    \n",
        "# plt.show()"
      ],
      "execution_count": null,
      "outputs": []
    },
    {
      "cell_type": "code",
      "metadata": {
        "id": "jM2FYJIEyEEA",
        "outputId": "0f93ab31-b418-4974-f516-4d93c95a5ad0",
        "colab": {
          "base_uri": "https://localhost:8080/"
        }
      },
      "source": [
        "!ls"
      ],
      "execution_count": null,
      "outputs": [
        {
          "output_type": "stream",
          "text": [
            "perros_y_gatos.zip  sample_data  test  train  validation\n"
          ],
          "name": "stdout"
        }
      ]
    },
    {
      "cell_type": "code",
      "metadata": {
        "id": "27lf0gY6TXnb"
      },
      "source": [
        "from tensorflow.keras import layers\n",
        "from tensorflow.keras import models"
      ],
      "execution_count": 8,
      "outputs": []
    },
    {
      "cell_type": "code",
      "metadata": {
        "id": "4dfXCWT9TXne"
      },
      "source": [
        "model = models.Sequential()\n",
        "model.add(layers.Conv2D(filters=32,kernel_size=(3,3), padding='valid',activation='relu'))\n",
        "model.add(layers.MaxPool2D(pool_size=(2,2),strides=(2,2)))\n",
        "model.add(layers.Conv2D(filters=64,kernel_size=(3,3), activation='relu'))\n",
        "model.add(layers.MaxPool2D(pool_size=(2,2),strides=(2,2)))\n",
        "model.add(layers.Conv2D(filters=128,kernel_size=(3,3), activation='relu'))\n",
        "model.add(layers.MaxPool2D(pool_size=(2,2),strides=(2,2)))\n",
        "model.add(layers.Conv2D(filters=128,kernel_size=(3,3), activation='relu'))\n",
        "model.add(layers.MaxPool2D(pool_size=(2,2),strides=(2,2)))\n",
        "model.add(layers.Flatten())\n",
        "model.add(layers.Dense(units=512,activation='relu'))\n",
        "model.add(layers.Dense(units=1,activation='relu'))\n",
        "\n",
        "\n",
        "#### COMPLETAR #####\n",
        "# agregar las siguientes capas:\n",
        "# convolucional f=(3,3), # de filtros: 32, activación relu\n",
        "# max pooling f=2, s=2\n",
        "# convolucional f=(3,3), # de filtros: 64, activación relu\n",
        "# max pooling f=2, s=2\n",
        "# convolucional f=(3,3), # de filtros: 128, activación relu\n",
        "# max pooling f=2, s=2\n",
        "# convolucional f=(3,3), # de filtros: 128, activación relu\n",
        "# max pooling f=2, s=2\n",
        "# capa flatten\n",
        "# capa densa de 512 elementos activación relu\n",
        "# capa densa con un output de 1 elemento con activación sigmoidea\n"
      ],
      "execution_count": null,
      "outputs": []
    },
    {
      "cell_type": "code",
      "metadata": {
        "id": "9og43DJ9hTku",
        "outputId": "964ad181-a8fb-4e27-91f8-a88e08fa7d2f",
        "colab": {
          "base_uri": "https://localhost:8080/",
          "height": 303
        }
      },
      "source": [
        "model.summary()"
      ],
      "execution_count": null,
      "outputs": [
        {
          "output_type": "error",
          "ename": "ValueError",
          "evalue": "ignored",
          "traceback": [
            "\u001b[0;31m---------------------------------------------------------------------------\u001b[0m",
            "\u001b[0;31mValueError\u001b[0m                                Traceback (most recent call last)",
            "\u001b[0;32m<ipython-input-14-5f15418b3570>\u001b[0m in \u001b[0;36m<module>\u001b[0;34m()\u001b[0m\n\u001b[0;32m----> 1\u001b[0;31m \u001b[0mmodel\u001b[0m\u001b[0;34m.\u001b[0m\u001b[0msummary\u001b[0m\u001b[0;34m(\u001b[0m\u001b[0;34m)\u001b[0m\u001b[0;34m\u001b[0m\u001b[0;34m\u001b[0m\u001b[0m\n\u001b[0m",
            "\u001b[0;32m/usr/local/lib/python3.6/dist-packages/tensorflow/python/keras/engine/training.py\u001b[0m in \u001b[0;36msummary\u001b[0;34m(self, line_length, positions, print_fn)\u001b[0m\n\u001b[1;32m   2349\u001b[0m     \"\"\"\n\u001b[1;32m   2350\u001b[0m     \u001b[0;32mif\u001b[0m \u001b[0;32mnot\u001b[0m \u001b[0mself\u001b[0m\u001b[0;34m.\u001b[0m\u001b[0mbuilt\u001b[0m\u001b[0;34m:\u001b[0m\u001b[0;34m\u001b[0m\u001b[0;34m\u001b[0m\u001b[0m\n\u001b[0;32m-> 2351\u001b[0;31m       raise ValueError('This model has not yet been built. '\n\u001b[0m\u001b[1;32m   2352\u001b[0m                        \u001b[0;34m'Build the model first by calling `build()` or calling '\u001b[0m\u001b[0;34m\u001b[0m\u001b[0;34m\u001b[0m\u001b[0m\n\u001b[1;32m   2353\u001b[0m                        \u001b[0;34m'`fit()` with some data, or specify '\u001b[0m\u001b[0;34m\u001b[0m\u001b[0;34m\u001b[0m\u001b[0m\n",
            "\u001b[0;31mValueError\u001b[0m: This model has not yet been built. Build the model first by calling `build()` or calling `fit()` with some data, or specify an `input_shape` argument in the first layer(s) for automatic build."
          ]
        }
      ]
    },
    {
      "cell_type": "code",
      "metadata": {
        "id": "0cp9q94YTXng",
        "outputId": "74f5b8bb-e4bb-4be2-e9af-b128df8ac147"
      },
      "source": [
        "model.summary()"
      ],
      "execution_count": null,
      "outputs": [
        {
          "output_type": "stream",
          "text": [
            "Model: \"sequential\"\n",
            "_________________________________________________________________\n",
            "Layer (type)                 Output Shape              Param #   \n",
            "=================================================================\n",
            "conv2d (Conv2D)              (None, 148, 148, 32)      896       \n",
            "_________________________________________________________________\n",
            "max_pooling2d (MaxPooling2D) (None, 74, 74, 32)        0         \n",
            "_________________________________________________________________\n",
            "conv2d_1 (Conv2D)            (None, 72, 72, 64)        18496     \n",
            "_________________________________________________________________\n",
            "max_pooling2d_1 (MaxPooling2 (None, 36, 36, 64)        0         \n",
            "_________________________________________________________________\n",
            "conv2d_2 (Conv2D)            (None, 34, 34, 128)       73856     \n",
            "_________________________________________________________________\n",
            "max_pooling2d_2 (MaxPooling2 (None, 17, 17, 128)       0         \n",
            "_________________________________________________________________\n",
            "conv2d_3 (Conv2D)            (None, 15, 15, 128)       147584    \n",
            "_________________________________________________________________\n",
            "max_pooling2d_3 (MaxPooling2 (None, 7, 7, 128)         0         \n",
            "_________________________________________________________________\n",
            "flatten (Flatten)            (None, 6272)              0         \n",
            "_________________________________________________________________\n",
            "dense (Dense)                (None, 512)               3211776   \n",
            "_________________________________________________________________\n",
            "dense_1 (Dense)              (None, 1)                 513       \n",
            "=================================================================\n",
            "Total params: 3,453,121\n",
            "Trainable params: 3,453,121\n",
            "Non-trainable params: 0\n",
            "_________________________________________________________________\n"
          ],
          "name": "stdout"
        }
      ]
    },
    {
      "cell_type": "code",
      "metadata": {
        "id": "__ppSmEsTXnj"
      },
      "source": [
        "from tensorflow.keras import optimizers\n",
        "\n",
        "# compilar el modelo con binary_crossentropy y optimizador RMSprop con\n",
        "# learning rate 1e-4, la métrica a usar es la accuracy (acc)\n",
        "\n",
        "model.compile(loss='binary_crossentropy',\n",
        "              optimizer=optimizers.RMSprop(lr=1e-4),\n",
        "              metrics=['acc'])"
      ],
      "execution_count": null,
      "outputs": []
    },
    {
      "cell_type": "code",
      "metadata": {
        "id": "VCXq57TfTXnn",
        "outputId": "aaf6db86-e587-49dd-b136-a93e7164cf35",
        "colab": {
          "base_uri": "https://localhost:8080/"
        }
      },
      "source": [
        "# utilizar model.fit_generator para entrenar\n",
        "history = model.fit_generator(\n",
        "      train_generator,\n",
        "      steps_per_epoch=100,\n",
        "      epochs=5,\n",
        "      validation_data=validation_generator,\n",
        "      validation_steps=50)"
      ],
      "execution_count": null,
      "outputs": [
        {
          "output_type": "stream",
          "text": [
            "WARNING:tensorflow:From <ipython-input-15-e7af3f964552>:7: Model.fit_generator (from tensorflow.python.keras.engine.training) is deprecated and will be removed in a future version.\n",
            "Instructions for updating:\n",
            "Please use Model.fit, which supports generators.\n",
            "Epoch 1/5\n",
            "100/100 [==============================] - 93s 931ms/step - loss: 0.7911 - acc: 0.5460 - val_loss: 0.6635 - val_acc: 0.6010\n",
            "Epoch 2/5\n",
            "100/100 [==============================] - 93s 928ms/step - loss: 0.6646 - acc: 0.6125 - val_loss: 0.6208 - val_acc: 0.6660\n",
            "Epoch 3/5\n",
            "100/100 [==============================] - 93s 929ms/step - loss: 0.6303 - acc: 0.6755 - val_loss: 1.5441 - val_acc: 0.5210\n",
            "Epoch 4/5\n",
            "100/100 [==============================] - 93s 927ms/step - loss: 0.5784 - acc: 0.7065 - val_loss: 0.6084 - val_acc: 0.6900\n",
            "Epoch 5/5\n",
            "100/100 [==============================] - 93s 927ms/step - loss: 0.5529 - acc: 0.7345 - val_loss: 0.6547 - val_acc: 0.6560\n"
          ],
          "name": "stdout"
        }
      ]
    },
    {
      "cell_type": "code",
      "metadata": {
        "id": "Cl1_o5PlTXnq",
        "outputId": "1d586ea1-0783-40a8-95fd-7b37f8798cd5",
        "colab": {
          "base_uri": "https://localhost:8080/"
        }
      },
      "source": [
        "pd.DataFrame(history.history).plot(figsize=(8, 5))\n",
        "plt.grid(True)\n",
        "plt.gca().set_ylim(0, 1)\n",
        "plt.show()"
      ],
      "execution_count": null,
      "outputs": [
        {
          "output_type": "display_data",
          "data": {
            "image/png": "[encoded data removed]",
            "text/plain": [
              "<Figure size 576x360 with 1 Axes>"
            ]
          },
          "metadata": {
            "tags": [],
            "needs_background": "light"
          }
        }
      ]
    },
    {
      "cell_type": "code",
      "metadata": {
        "id": "wBcVvX-HTXns"
      },
      "source": [
        "from tensorflow.keras import backend as K \n",
        "\n",
        "K.clear_session()\n",
        "del model"
      ],
      "execution_count": null,
      "outputs": []
    },
    {
      "cell_type": "markdown",
      "metadata": {
        "id": "0lNZqKvXTXnv"
      },
      "source": [
        "### DATA AUGMENTATION"
      ]
    },
    {
      "cell_type": "markdown",
      "metadata": {
        "id": "O4YwS2n2TXnw"
      },
      "source": [
        "Distorsión, Rotación, Crop, Flip horizontal: \n",
        "![image.png](attachment:image.png)"
      ]
    },
    {
      "cell_type": "markdown",
      "metadata": {
        "id": "idlLIwPuTXnw"
      },
      "source": [
        "Vamos a distorsionar (estirando y escalando), rotar las imágenes, invertirlas horizontalmente, hacer zoom en una región, esto va a ser aleatorio dentro de un cierto rango, utilizar ImageDataGenerator con parámetros para que esto ocurra.\n",
        "\n",
        "https://keras.io/api/preprocessing/image/\n",
        "\n",
        "https://github.com/keras-team/keras-preprocessing/blob/master/keras_preprocessing/image/image_data_generator.py\n",
        "\n",
        "https://github.com/keras-team/keras-preprocessing/blob/master/keras_preprocessing/image/affine_transformations.py\n",
        "\n",
        "usar:\n",
        "\n",
        "- rotation_range -> rango aleatorio de angulo de rotacions\n",
        "- width_shift_range -> rango aleatorio de desplazamiento en x expresado como proporcion de la imagen [0,1]\n",
        "- height_shift_range -> rango aleatorio de desplazamiento en y expresado como proporcion de la imagen [0,1]\n",
        "- shear_range -> rango aleatorio de 'shear' o cillamiento https://en.wikipedia.org/wiki/Shear_mapping [0,1]\n",
        "- zoom_range -> rango aleatorio de zoom de la imagen [0,1]\n",
        "- horizontal_flip -> boolean (si se flipea aleatoriamente la imagen en la dirección horizontal)"
      ]
    },
    {
      "cell_type": "code",
      "metadata": {
        "id": "_4AfTtUYTXnx",
        "outputId": "e61ddce7-ae73-4bbc-cb05-95ad7bec8ab1",
        "colab": {
          "base_uri": "https://localhost:8080/"
        }
      },
      "source": [
        "train_datagen = ImageDataGenerator(\n",
        "    rescale=1./255\n",
        "    )\n",
        "\n",
        "test_datagen = ImageDataGenerator(rescale=1./255)\n",
        "\n",
        "train_generator = train_datagen.flow_from_directory(\n",
        "        train_dir,\n",
        "        target_size=(150, 150),\n",
        "        batch_size=128,\n",
        "        class_mode='binary')\n",
        "\n",
        "validation_generator = test_datagen.flow_from_directory(\n",
        "        validation_dir,\n",
        "        target_size=(150, 150),\n",
        "        batch_size=64,\n",
        "        class_mode='binary')\n"
      ],
      "execution_count": 11,
      "outputs": [
        {
          "output_type": "stream",
          "text": [
            "Found 2000 images belonging to 2 classes.\n",
            "Found 1000 images belonging to 2 classes.\n"
          ],
          "name": "stdout"
        }
      ]
    },
    {
      "cell_type": "markdown",
      "metadata": {
        "id": "tyBxlQH-TXnz"
      },
      "source": [
        "### Veamos algunas imágenes"
      ]
    },
    {
      "cell_type": "code",
      "metadata": {
        "id": "Gy6UlyMqTXnz",
        "outputId": "036ee318-556d-43e3-bdb6-ebd81eac4e76"
      },
      "source": [
        "# i = 1\n",
        "# for batch in train_datagen.flow(train_generator, batch_size=1,\n",
        "#                           save_to_dir='.', save_prefix='img', save_format='jpeg'):\n",
        "#     i += 1\n",
        "#     if i > 6:\n",
        "#         break\n",
        "\n",
        "# import matplotlib.image as mpimg\n",
        "# import glob\n",
        "# import os\n",
        "\n",
        "# files =glob.glob(\".\\*.jpeg\")\n",
        "# plt.figure(figsize=(10,5))\n",
        "# i = 1\n",
        "# for f in files:\n",
        "#     if i > 6:\n",
        "#         break \n",
        "#     plt.subplot(2,3,i)\n",
        "#     image = mpimg.imread(f)\n",
        "#     plt.imshow(image)\n",
        "#     i+=1\n",
        "#     os.remove(f)\n",
        "    \n",
        "# plt.show()"
      ],
      "execution_count": null,
      "outputs": [
        {
          "output_type": "display_data",
          "data": {
            "image/png": "[encoded data removed]",
            "text/plain": [
              "<Figure size 720x360 with 6 Axes>"
            ]
          },
          "metadata": {
            "tags": [],
            "needs_background": "light"
          }
        }
      ]
    },
    {
      "cell_type": "code",
      "metadata": {
        "id": "7EIKRxpHTXn2"
      },
      "source": [
        "model = models.Sequential()\n",
        "\n",
        "model.add(layers.Conv2D(filters=32,kernel_size=(3,3), padding='valid',activation='relu'))\n",
        "model.add(layers.MaxPool2D(pool_size=(2,2),strides=(2,2)))\n",
        "\n",
        "model.add(layers.Conv2D(filters=64,kernel_size=(3,3), activation='relu'))\n",
        "model.add(layers.MaxPool2D(pool_size=(2,2),strides=(2,2)))\n",
        "\n",
        "model.add(layers.Conv2D(filters=128,kernel_size=(3,3), activation='relu'))\n",
        "model.add(layers.MaxPool2D(pool_size=(2,2),strides=(2,2)))\n",
        "\n",
        "model.add(layers.Conv2D(filters=128,kernel_size=(3,3), activation='relu'))\n",
        "model.add(layers.MaxPool2D(pool_size=(2,2),strides=(2,2)))\n",
        "\n",
        "model.add(layers.Flatten())\n",
        "model.add(layers.Dense(units=512,activation='relu'))\n",
        "model.add(layers.Dense(units=1,activation='relu'))\n",
        "\n",
        "#### COMPLETAR #####\n",
        "### usar el mismo modelo de antes\n",
        "\n",
        "# agregar las siguientes capas:\n",
        "# convolucional f=(3,3), # de filtros: 32, activación relu\n",
        "# max pooling f=2, s=2\n",
        "# convolucional f=(3,3), # de filtros: 64, activación relu\n",
        "# max pooling f=2, s=2\n",
        "# convolucional f=(3,3), # de filtros: 128, activación relu\n",
        "# max pooling f=2, s=2\n",
        "# convolucional f=(3,3), # de filtros: 128, activación relu\n",
        "# max pooling f=2, s=2\n",
        "# capa flatten\n",
        "# capa densa de 512 elementos activación relu\n",
        "# capa densa con un output de 1 elemento con activación sigmoidea\n",
        "\n",
        "model.compile(loss='binary_crossentropy',\n",
        "              optimizer=optimizers.RMSprop(lr=1e-4),\n",
        "              metrics=['acc'])"
      ],
      "execution_count": null,
      "outputs": []
    },
    {
      "cell_type": "code",
      "metadata": {
        "id": "zw0xmIUuTXn4"
      },
      "source": [
        "history = model.fit_generator(\n",
        "      train_generator,\n",
        "      steps_per_epoch=100,\n",
        "      epochs=5,\n",
        "      validation_data=validation_generator,\n",
        "      validation_steps=50)"
      ],
      "execution_count": null,
      "outputs": []
    },
    {
      "cell_type": "code",
      "metadata": {
        "id": "jn93iMM7TXn8"
      },
      "source": [
        "pd.DataFrame(history.history).plot(figsize=(8, 5))\n",
        "plt.grid(True)\n",
        "plt.gca().set_ylim(0, 1)\n",
        "plt.show()"
      ],
      "execution_count": null,
      "outputs": []
    },
    {
      "cell_type": "code",
      "metadata": {
        "id": "7fD_0v5BTXn_"
      },
      "source": [
        "keras.backend.clear_session\n",
        "del model"
      ],
      "execution_count": null,
      "outputs": []
    },
    {
      "cell_type": "markdown",
      "metadata": {
        "id": "E5_LjQgwEyGK"
      },
      "source": [
        "# Buscando Accuracy para Perros y Gatos"
      ]
    },
    {
      "cell_type": "markdown",
      "metadata": {
        "id": "QaFCTWfExWy-"
      },
      "source": [
        "Las redes entrenadas no obtienen buenos resultados. Nunca supera en Validation el 70% mientras que puede verse que el train está overfitteado, obteniendo accuracies de 1. \n",
        "\n",
        "Debe explorarse un poco más con la arquitectura de la red y data augmentation."
      ]
    },
    {
      "cell_type": "code",
      "metadata": {
        "id": "rqQ6JhggFYH8"
      },
      "source": [
        "from keras import layers, losses, optimizers"
      ],
      "execution_count": 12,
      "outputs": []
    },
    {
      "cell_type": "code",
      "metadata": {
        "id": "K4h4AS8SEyNy"
      },
      "source": [
        "input = layers.Input(shape=(150,150,3),name = 'InputLayer')"
      ],
      "execution_count": 13,
      "outputs": []
    },
    {
      "cell_type": "code",
      "metadata": {
        "id": "joBAY_XBEyVs"
      },
      "source": [
        "cv1 = layers.Conv2D(filters=8,kernel_size=(3,3),strides=1,padding='valid',activation='relu',name='conv1')(input) # output (144,144,8)\n",
        "pool1 = layers.AvgPool2D(pool_size=(2,2),strides=1,name='pool1')(cv1) # output (72,72,8)"
      ],
      "execution_count": 14,
      "outputs": []
    },
    {
      "cell_type": "code",
      "metadata": {
        "id": "xhdZaKaWEydM"
      },
      "source": [
        "cv2 = layers.Conv2D(filters=16,kernel_size=(5,5),strides=1,padding='valid',activation='relu',name='conv2')(pool1) # output (68,68,128)\n",
        "pool2 = layers.AvgPool2D(pool_size=(2,2),strides=1,name='pool2')(cv2) # output (34,34,128)"
      ],
      "execution_count": 15,
      "outputs": []
    },
    {
      "cell_type": "code",
      "metadata": {
        "id": "IZI9A9UvGsGZ"
      },
      "source": [
        "cv3 = layers.Conv2D(filters=32,kernel_size=(3,3),strides=(2,2),padding='valid',activation='relu',name='conv3')(pool2) # output (16,16,576)\n",
        "pool3 = layers.AvgPool2D(pool_size=(4,4),strides=(4,4),name='pool3')(cv3) # output (4,4,576)"
      ],
      "execution_count": 16,
      "outputs": []
    },
    {
      "cell_type": "code",
      "metadata": {
        "id": "db01rYBFGr-7"
      },
      "source": [
        "flatten = layers.Flatten(name='FlattenLayer')(pool3)"
      ],
      "execution_count": 17,
      "outputs": []
    },
    {
      "cell_type": "code",
      "metadata": {
        "id": "ZUX9l0oYGr2k"
      },
      "source": [
        "fc1 = layers.Dense(units=500,activation='relu',name='FirstDense')(flatten)"
      ],
      "execution_count": 18,
      "outputs": []
    },
    {
      "cell_type": "code",
      "metadata": {
        "id": "sQLftpaGI7Gp"
      },
      "source": [
        "#dropout = layers.Dropout(rate=0.5,seed=12,name='dropout')(fc1)"
      ],
      "execution_count": 19,
      "outputs": []
    },
    {
      "cell_type": "code",
      "metadata": {
        "id": "9f3UGiTbI6-0"
      },
      "source": [
        "fc2 = layers.Dense(units=100,activation='relu',name='SecondDense')(fc1)"
      ],
      "execution_count": 20,
      "outputs": []
    },
    {
      "cell_type": "code",
      "metadata": {
        "id": "31LjVmwFI615"
      },
      "source": [
        "outputlayer = layers.Dense(units=1,activation='sigmoid',name='prediction')(fc2)"
      ],
      "execution_count": 21,
      "outputs": []
    },
    {
      "cell_type": "code",
      "metadata": {
        "id": "2aGw2T3PI6uW"
      },
      "source": [
        "model = keras.models.Model(inputs=input,outputs=outputlayer)"
      ],
      "execution_count": 22,
      "outputs": []
    },
    {
      "cell_type": "code",
      "metadata": {
        "id": "LpI2h4aCI6YE",
        "outputId": "bd12bc92-bd68-4e05-b5ad-b3c8f3633591",
        "colab": {
          "base_uri": "https://localhost:8080/",
          "height": 74
        }
      },
      "source": [
        "keras.utils.plot_model(model=model,rankdir='LR',dpi=65,show_shapes=True)"
      ],
      "execution_count": 23,
      "outputs": [
        {
          "output_type": "execute_result",
          "data": {
            "image/png": "[encoded data removed]",
            "text/plain": [
              "<IPython.core.display.Image object>"
            ]
          },
          "metadata": {
            "tags": []
          },
          "execution_count": 23
        }
      ]
    },
    {
      "cell_type": "code",
      "metadata": {
        "id": "uPFPfB-QJoLf"
      },
      "source": [
        "model.compile(optimizer=optimizers.Adam(learning_rate=0.0005),loss=losses.BinaryCrossentropy(),metrics=['accuracy'])"
      ],
      "execution_count": 24,
      "outputs": []
    },
    {
      "cell_type": "code",
      "metadata": {
        "id": "Q8Pvy66JuKOk",
        "outputId": "07186823-5456-495f-ec3e-1e5e08716625",
        "colab": {
          "base_uri": "https://localhost:8080/",
          "height": 1000
        }
      },
      "source": [
        "history2= model.fit_generator(\n",
        "      train_generator,\n",
        "      steps_per_epoch=10,\n",
        "      epochs=250,\n",
        "      validation_data=validation_generator,\n",
        "      validation_steps=1)"
      ],
      "execution_count": 25,
      "outputs": [
        {
          "output_type": "stream",
          "text": [
            "WARNING:tensorflow:From <ipython-input-25-d17c2b1341e2>:6: Model.fit_generator (from tensorflow.python.keras.engine.training) is deprecated and will be removed in a future version.\n",
            "Instructions for updating:\n",
            "Please use Model.fit, which supports generators.\n",
            "Epoch 1/250\n",
            "10/10 [==============================] - 4s 424ms/step - loss: 0.7129 - accuracy: 0.4968 - val_loss: 0.6986 - val_accuracy: 0.4219\n",
            "Epoch 2/250\n",
            "10/10 [==============================] - 4s 398ms/step - loss: 0.6890 - accuracy: 0.5398 - val_loss: 0.6883 - val_accuracy: 0.5312\n",
            "Epoch 3/250\n",
            "10/10 [==============================] - 4s 414ms/step - loss: 0.6825 - accuracy: 0.5516 - val_loss: 0.6787 - val_accuracy: 0.5469\n",
            "Epoch 4/250\n",
            "10/10 [==============================] - 4s 399ms/step - loss: 0.6725 - accuracy: 0.5950 - val_loss: 0.6507 - val_accuracy: 0.6406\n",
            "Epoch 5/250\n",
            "10/10 [==============================] - 4s 414ms/step - loss: 0.6579 - accuracy: 0.6016 - val_loss: 0.6706 - val_accuracy: 0.5781\n",
            "Epoch 6/250\n",
            "10/10 [==============================] - 4s 412ms/step - loss: 0.6481 - accuracy: 0.6164 - val_loss: 0.6498 - val_accuracy: 0.5938\n",
            "Epoch 7/250\n",
            "10/10 [==============================] - 4s 410ms/step - loss: 0.6382 - accuracy: 0.6328 - val_loss: 0.7595 - val_accuracy: 0.5000\n",
            "Epoch 8/250\n",
            "10/10 [==============================] - 4s 411ms/step - loss: 0.6244 - accuracy: 0.6575 - val_loss: 0.6612 - val_accuracy: 0.6562\n",
            "Epoch 9/250\n",
            "10/10 [==============================] - 4s 413ms/step - loss: 0.5992 - accuracy: 0.7143 - val_loss: 0.5664 - val_accuracy: 0.7031\n",
            "Epoch 10/250\n",
            "10/10 [==============================] - 4s 408ms/step - loss: 0.5780 - accuracy: 0.7102 - val_loss: 0.6453 - val_accuracy: 0.6094\n",
            "Epoch 11/250\n",
            "10/10 [==============================] - 4s 397ms/step - loss: 0.5675 - accuracy: 0.7151 - val_loss: 0.6721 - val_accuracy: 0.6094\n",
            "Epoch 12/250\n",
            "10/10 [==============================] - 4s 398ms/step - loss: 0.5478 - accuracy: 0.7422 - val_loss: 0.6633 - val_accuracy: 0.5781\n",
            "Epoch 13/250\n",
            "10/10 [==============================] - 4s 402ms/step - loss: 0.5359 - accuracy: 0.7406 - val_loss: 0.6136 - val_accuracy: 0.6875\n",
            "Epoch 14/250\n",
            "10/10 [==============================] - 4s 404ms/step - loss: 0.5377 - accuracy: 0.7242 - val_loss: 0.5397 - val_accuracy: 0.7344\n",
            "Epoch 15/250\n",
            "10/10 [==============================] - 4s 392ms/step - loss: 0.5163 - accuracy: 0.7516 - val_loss: 0.6316 - val_accuracy: 0.6406\n",
            "Epoch 16/250\n",
            "10/10 [==============================] - 4s 391ms/step - loss: 0.4877 - accuracy: 0.7679 - val_loss: 0.5668 - val_accuracy: 0.6719\n",
            "Epoch 17/250\n",
            "10/10 [==============================] - 4s 397ms/step - loss: 0.4561 - accuracy: 0.7938 - val_loss: 0.4874 - val_accuracy: 0.7812\n",
            "Epoch 18/250\n",
            "10/10 [==============================] - 4s 384ms/step - loss: 0.4510 - accuracy: 0.7946 - val_loss: 0.6561 - val_accuracy: 0.6875\n",
            "Epoch 19/250\n",
            "10/10 [==============================] - 4s 391ms/step - loss: 0.4374 - accuracy: 0.8003 - val_loss: 0.7055 - val_accuracy: 0.6250\n",
            "Epoch 20/250\n",
            "10/10 [==============================] - 4s 390ms/step - loss: 0.4231 - accuracy: 0.8117 - val_loss: 0.5356 - val_accuracy: 0.7344\n",
            "Epoch 21/250\n",
            "10/10 [==============================] - 4s 386ms/step - loss: 0.3950 - accuracy: 0.8255 - val_loss: 0.5841 - val_accuracy: 0.7031\n",
            "Epoch 22/250\n",
            "10/10 [==============================] - 4s 380ms/step - loss: 0.3602 - accuracy: 0.8474 - val_loss: 0.5970 - val_accuracy: 0.7188\n",
            "Epoch 23/250\n",
            "10/10 [==============================] - 4s 379ms/step - loss: 0.3494 - accuracy: 0.8596 - val_loss: 0.4783 - val_accuracy: 0.7500\n",
            "Epoch 24/250\n",
            "10/10 [==============================] - 4s 388ms/step - loss: 0.3249 - accuracy: 0.8687 - val_loss: 0.5276 - val_accuracy: 0.7344\n",
            "Epoch 25/250\n",
            "10/10 [==============================] - 4s 388ms/step - loss: 0.3126 - accuracy: 0.8633 - val_loss: 0.6814 - val_accuracy: 0.6562\n",
            "Epoch 26/250\n",
            "10/10 [==============================] - 4s 378ms/step - loss: 0.2879 - accuracy: 0.8831 - val_loss: 0.7621 - val_accuracy: 0.6406\n",
            "Epoch 27/250\n",
            "10/10 [==============================] - 4s 380ms/step - loss: 0.2755 - accuracy: 0.8888 - val_loss: 0.8380 - val_accuracy: 0.5938\n",
            "Epoch 28/250\n",
            "10/10 [==============================] - 4s 384ms/step - loss: 0.3113 - accuracy: 0.8539 - val_loss: 0.6878 - val_accuracy: 0.6406\n",
            "Epoch 29/250\n",
            "10/10 [==============================] - 4s 395ms/step - loss: 0.2832 - accuracy: 0.8703 - val_loss: 0.9303 - val_accuracy: 0.6094\n",
            "Epoch 30/250\n",
            "10/10 [==============================] - 4s 384ms/step - loss: 0.2325 - accuracy: 0.9123 - val_loss: 0.8019 - val_accuracy: 0.6250\n",
            "Epoch 31/250\n",
            "10/10 [==============================] - 4s 397ms/step - loss: 0.2057 - accuracy: 0.9320 - val_loss: 0.6538 - val_accuracy: 0.7188\n",
            "Epoch 32/250\n",
            "10/10 [==============================] - 4s 383ms/step - loss: 0.1769 - accuracy: 0.9399 - val_loss: 0.6585 - val_accuracy: 0.7031\n",
            "Epoch 33/250\n",
            "10/10 [==============================] - 4s 381ms/step - loss: 0.1515 - accuracy: 0.9472 - val_loss: 1.0262 - val_accuracy: 0.6562\n",
            "Epoch 34/250\n",
            "10/10 [==============================] - 4s 386ms/step - loss: 0.1544 - accuracy: 0.9456 - val_loss: 0.6801 - val_accuracy: 0.7812\n",
            "Epoch 35/250\n",
            "10/10 [==============================] - 4s 385ms/step - loss: 0.1374 - accuracy: 0.9489 - val_loss: 1.0260 - val_accuracy: 0.6719\n",
            "Epoch 36/250\n",
            "10/10 [==============================] - 4s 396ms/step - loss: 0.1050 - accuracy: 0.9711 - val_loss: 1.3001 - val_accuracy: 0.5938\n",
            "Epoch 37/250\n",
            "10/10 [==============================] - 4s 392ms/step - loss: 0.0921 - accuracy: 0.9688 - val_loss: 1.0601 - val_accuracy: 0.7188\n",
            "Epoch 38/250\n",
            "10/10 [==============================] - 4s 390ms/step - loss: 0.0865 - accuracy: 0.9742 - val_loss: 1.1397 - val_accuracy: 0.6406\n",
            "Epoch 39/250\n",
            "10/10 [==============================] - 4s 392ms/step - loss: 0.0661 - accuracy: 0.9852 - val_loss: 1.0481 - val_accuracy: 0.6719\n",
            "Epoch 40/250\n",
            "10/10 [==============================] - 4s 378ms/step - loss: 0.0643 - accuracy: 0.9878 - val_loss: 0.9270 - val_accuracy: 0.7500\n",
            "Epoch 41/250\n",
            "10/10 [==============================] - 4s 378ms/step - loss: 0.0460 - accuracy: 0.9927 - val_loss: 0.9115 - val_accuracy: 0.8281\n",
            "Epoch 42/250\n",
            "10/10 [==============================] - 4s 382ms/step - loss: 0.0386 - accuracy: 0.9943 - val_loss: 1.3811 - val_accuracy: 0.5781\n",
            "Epoch 43/250\n",
            "10/10 [==============================] - 4s 376ms/step - loss: 0.0300 - accuracy: 0.9959 - val_loss: 1.4715 - val_accuracy: 0.5781\n",
            "Epoch 44/250\n",
            "10/10 [==============================] - 4s 382ms/step - loss: 0.0215 - accuracy: 0.9992 - val_loss: 0.8975 - val_accuracy: 0.7500\n",
            "Epoch 45/250\n",
            "10/10 [==============================] - 4s 379ms/step - loss: 0.0214 - accuracy: 1.0000 - val_loss: 1.1992 - val_accuracy: 0.7031\n",
            "Epoch 46/250\n",
            "10/10 [==============================] - 4s 378ms/step - loss: 0.0219 - accuracy: 0.9976 - val_loss: 1.0481 - val_accuracy: 0.7344\n",
            "Epoch 47/250\n",
            "10/10 [==============================] - 4s 376ms/step - loss: 0.0137 - accuracy: 0.9992 - val_loss: 1.8515 - val_accuracy: 0.5625\n",
            "Epoch 48/250\n",
            "10/10 [==============================] - 4s 379ms/step - loss: 0.0112 - accuracy: 1.0000 - val_loss: 2.0438 - val_accuracy: 0.5938\n",
            "Epoch 49/250\n",
            "10/10 [==============================] - 4s 389ms/step - loss: 0.0149 - accuracy: 0.9977 - val_loss: 1.6132 - val_accuracy: 0.7031\n",
            "Epoch 50/250\n",
            "10/10 [==============================] - 4s 377ms/step - loss: 0.0119 - accuracy: 1.0000 - val_loss: 0.9737 - val_accuracy: 0.7969\n",
            "Epoch 51/250\n",
            "10/10 [==============================] - 4s 387ms/step - loss: 0.0089 - accuracy: 1.0000 - val_loss: 1.1074 - val_accuracy: 0.7969\n",
            "Epoch 52/250\n",
            "10/10 [==============================] - 4s 386ms/step - loss: 0.0063 - accuracy: 1.0000 - val_loss: 1.4770 - val_accuracy: 0.7500\n",
            "Epoch 53/250\n",
            "10/10 [==============================] - 4s 376ms/step - loss: 0.0050 - accuracy: 1.0000 - val_loss: 0.9404 - val_accuracy: 0.7656\n",
            "Epoch 54/250\n",
            "10/10 [==============================] - 4s 377ms/step - loss: 0.0044 - accuracy: 1.0000 - val_loss: 1.4381 - val_accuracy: 0.6875\n",
            "Epoch 55/250\n",
            "10/10 [==============================] - 4s 375ms/step - loss: 0.0032 - accuracy: 1.0000 - val_loss: 1.8984 - val_accuracy: 0.5781\n",
            "Epoch 56/250\n",
            "10/10 [==============================] - 4s 378ms/step - loss: 0.0026 - accuracy: 1.0000 - val_loss: 1.6476 - val_accuracy: 0.6875\n",
            "Epoch 57/250\n",
            "10/10 [==============================] - 4s 393ms/step - loss: 0.0023 - accuracy: 1.0000 - val_loss: 1.4520 - val_accuracy: 0.7344\n",
            "Epoch 58/250\n",
            "10/10 [==============================] - 4s 390ms/step - loss: 0.0024 - accuracy: 1.0000 - val_loss: 2.0981 - val_accuracy: 0.6094\n",
            "Epoch 59/250\n",
            "10/10 [==============================] - 4s 380ms/step - loss: 0.0022 - accuracy: 1.0000 - val_loss: 1.6300 - val_accuracy: 0.6250\n",
            "Epoch 60/250\n",
            "10/10 [==============================] - 4s 374ms/step - loss: 0.0017 - accuracy: 1.0000 - val_loss: 2.5476 - val_accuracy: 0.5938\n",
            "Epoch 61/250\n",
            "10/10 [==============================] - 4s 393ms/step - loss: 0.0016 - accuracy: 1.0000 - val_loss: 1.9915 - val_accuracy: 0.6250\n",
            "Epoch 62/250\n",
            "10/10 [==============================] - 4s 382ms/step - loss: 0.0016 - accuracy: 1.0000 - val_loss: 1.3228 - val_accuracy: 0.7969\n",
            "Epoch 63/250\n",
            "10/10 [==============================] - 4s 400ms/step - loss: 0.0014 - accuracy: 1.0000 - val_loss: 2.6698 - val_accuracy: 0.6094\n",
            "Epoch 64/250\n",
            "10/10 [==============================] - 4s 375ms/step - loss: 0.0012 - accuracy: 1.0000 - val_loss: 1.5927 - val_accuracy: 0.7500\n",
            "Epoch 65/250\n",
            "10/10 [==============================] - 4s 385ms/step - loss: 0.0011 - accuracy: 1.0000 - val_loss: 2.1814 - val_accuracy: 0.6250\n",
            "Epoch 66/250\n",
            "10/10 [==============================] - 4s 372ms/step - loss: 0.0011 - accuracy: 1.0000 - val_loss: 1.9874 - val_accuracy: 0.6719\n",
            "Epoch 67/250\n",
            "10/10 [==============================] - 4s 370ms/step - loss: 0.0010 - accuracy: 1.0000 - val_loss: 1.4203 - val_accuracy: 0.6562\n",
            "Epoch 68/250\n",
            "10/10 [==============================] - 4s 388ms/step - loss: 0.0010 - accuracy: 1.0000 - val_loss: 1.7555 - val_accuracy: 0.7031\n",
            "Epoch 69/250\n",
            "10/10 [==============================] - 4s 381ms/step - loss: 9.8605e-04 - accuracy: 1.0000 - val_loss: 2.3792 - val_accuracy: 0.6562\n",
            "Epoch 70/250\n",
            "10/10 [==============================] - 4s 380ms/step - loss: 8.3903e-04 - accuracy: 1.0000 - val_loss: 1.6437 - val_accuracy: 0.6562\n",
            "Epoch 71/250\n",
            "10/10 [==============================] - 4s 382ms/step - loss: 8.7318e-04 - accuracy: 1.0000 - val_loss: 2.0671 - val_accuracy: 0.7031\n",
            "Epoch 72/250\n",
            "10/10 [==============================] - 4s 375ms/step - loss: 8.1293e-04 - accuracy: 1.0000 - val_loss: 2.4762 - val_accuracy: 0.5781\n",
            "Epoch 73/250\n",
            "10/10 [==============================] - 4s 371ms/step - loss: 7.2913e-04 - accuracy: 1.0000 - val_loss: 2.6244 - val_accuracy: 0.5625\n",
            "Epoch 74/250\n",
            "10/10 [==============================] - 4s 371ms/step - loss: 7.5457e-04 - accuracy: 1.0000 - val_loss: 1.8951 - val_accuracy: 0.6719\n",
            "Epoch 75/250\n",
            "10/10 [==============================] - 4s 388ms/step - loss: 7.1006e-04 - accuracy: 1.0000 - val_loss: 2.8638 - val_accuracy: 0.5938\n",
            "Epoch 76/250\n",
            "10/10 [==============================] - 4s 375ms/step - loss: 6.8682e-04 - accuracy: 1.0000 - val_loss: 1.9440 - val_accuracy: 0.5938\n",
            "Epoch 77/250\n",
            "10/10 [==============================] - 4s 373ms/step - loss: 6.0394e-04 - accuracy: 1.0000 - val_loss: 1.3210 - val_accuracy: 0.7812\n",
            "Epoch 78/250\n",
            "10/10 [==============================] - 4s 370ms/step - loss: 5.9242e-04 - accuracy: 1.0000 - val_loss: 1.3768 - val_accuracy: 0.7344\n",
            "Epoch 79/250\n",
            "10/10 [==============================] - 4s 368ms/step - loss: 6.0352e-04 - accuracy: 1.0000 - val_loss: 1.6677 - val_accuracy: 0.7500\n",
            "Epoch 80/250\n",
            "10/10 [==============================] - 4s 371ms/step - loss: 6.0071e-04 - accuracy: 1.0000 - val_loss: 2.3482 - val_accuracy: 0.7188\n",
            "Epoch 81/250\n",
            "10/10 [==============================] - 4s 366ms/step - loss: 5.3250e-04 - accuracy: 1.0000 - val_loss: 1.9822 - val_accuracy: 0.6719\n",
            "Epoch 82/250\n",
            "10/10 [==============================] - 4s 381ms/step - loss: 5.2293e-04 - accuracy: 1.0000 - val_loss: 2.2306 - val_accuracy: 0.6719\n",
            "Epoch 83/250\n",
            "10/10 [==============================] - 4s 362ms/step - loss: 4.7945e-04 - accuracy: 1.0000 - val_loss: 2.6689 - val_accuracy: 0.7031\n",
            "Epoch 84/250\n",
            "10/10 [==============================] - 4s 367ms/step - loss: 4.6935e-04 - accuracy: 1.0000 - val_loss: 3.2076 - val_accuracy: 0.5625\n",
            "Epoch 85/250\n",
            "10/10 [==============================] - 4s 378ms/step - loss: 4.3610e-04 - accuracy: 1.0000 - val_loss: 3.4294 - val_accuracy: 0.5312\n",
            "Epoch 86/250\n",
            "10/10 [==============================] - 4s 375ms/step - loss: 4.3344e-04 - accuracy: 1.0000 - val_loss: 1.8577 - val_accuracy: 0.6875\n",
            "Epoch 87/250\n",
            "10/10 [==============================] - 4s 368ms/step - loss: 3.9213e-04 - accuracy: 1.0000 - val_loss: 1.6765 - val_accuracy: 0.7188\n",
            "Epoch 88/250\n",
            "10/10 [==============================] - 4s 365ms/step - loss: 4.1571e-04 - accuracy: 1.0000 - val_loss: 2.5468 - val_accuracy: 0.6250\n",
            "Epoch 89/250\n",
            "10/10 [==============================] - 4s 372ms/step - loss: 3.9726e-04 - accuracy: 1.0000 - val_loss: 1.7697 - val_accuracy: 0.7344\n",
            "Epoch 90/250\n",
            "10/10 [==============================] - 4s 372ms/step - loss: 3.9807e-04 - accuracy: 1.0000 - val_loss: 1.3572 - val_accuracy: 0.7500\n",
            "Epoch 91/250\n",
            "10/10 [==============================] - 4s 365ms/step - loss: 3.5429e-04 - accuracy: 1.0000 - val_loss: 1.6163 - val_accuracy: 0.7188\n",
            "Epoch 92/250\n",
            "10/10 [==============================] - 4s 372ms/step - loss: 3.5042e-04 - accuracy: 1.0000 - val_loss: 2.6156 - val_accuracy: 0.6875\n",
            "Epoch 93/250\n",
            "10/10 [==============================] - 4s 384ms/step - loss: 3.5887e-04 - accuracy: 1.0000 - val_loss: 3.1464 - val_accuracy: 0.6719\n",
            "Epoch 94/250\n",
            "10/10 [==============================] - 4s 383ms/step - loss: 3.3935e-04 - accuracy: 1.0000 - val_loss: 2.1313 - val_accuracy: 0.7188\n",
            "Epoch 95/250\n",
            "10/10 [==============================] - 4s 366ms/step - loss: 3.0852e-04 - accuracy: 1.0000 - val_loss: 2.1932 - val_accuracy: 0.6719\n",
            "Epoch 96/250\n",
            "10/10 [==============================] - 4s 364ms/step - loss: 2.9496e-04 - accuracy: 1.0000 - val_loss: 1.9779 - val_accuracy: 0.7188\n",
            "Epoch 97/250\n",
            "10/10 [==============================] - 4s 365ms/step - loss: 2.9126e-04 - accuracy: 1.0000 - val_loss: 2.7725 - val_accuracy: 0.6719\n",
            "Epoch 98/250\n",
            "10/10 [==============================] - 4s 367ms/step - loss: 2.9720e-04 - accuracy: 1.0000 - val_loss: 1.9120 - val_accuracy: 0.7188\n",
            "Epoch 99/250\n",
            "10/10 [==============================] - 4s 382ms/step - loss: 2.7881e-04 - accuracy: 1.0000 - val_loss: 2.4021 - val_accuracy: 0.6250\n",
            "Epoch 100/250\n",
            "10/10 [==============================] - 4s 375ms/step - loss: 2.8045e-04 - accuracy: 1.0000 - val_loss: 2.3251 - val_accuracy: 0.6719\n",
            "Epoch 101/250\n",
            "10/10 [==============================] - 4s 373ms/step - loss: 2.6075e-04 - accuracy: 1.0000 - val_loss: 3.0068 - val_accuracy: 0.6406\n",
            "Epoch 102/250\n",
            "10/10 [==============================] - 4s 376ms/step - loss: 2.6380e-04 - accuracy: 1.0000 - val_loss: 1.7543 - val_accuracy: 0.7812\n",
            "Epoch 103/250\n",
            "10/10 [==============================] - 4s 366ms/step - loss: 2.4511e-04 - accuracy: 1.0000 - val_loss: 2.6373 - val_accuracy: 0.6719\n",
            "Epoch 104/250\n",
            "10/10 [==============================] - 4s 372ms/step - loss: 2.4715e-04 - accuracy: 1.0000 - val_loss: 2.0975 - val_accuracy: 0.6406\n",
            "Epoch 105/250\n",
            "10/10 [==============================] - 4s 383ms/step - loss: 2.4293e-04 - accuracy: 1.0000 - val_loss: 3.3464 - val_accuracy: 0.5781\n",
            "Epoch 106/250\n",
            "10/10 [==============================] - 4s 375ms/step - loss: 2.2984e-04 - accuracy: 1.0000 - val_loss: 2.6052 - val_accuracy: 0.6406\n",
            "Epoch 107/250\n",
            "10/10 [==============================] - 4s 375ms/step - loss: 2.2557e-04 - accuracy: 1.0000 - val_loss: 1.9073 - val_accuracy: 0.7344\n",
            "Epoch 108/250\n",
            "10/10 [==============================] - 4s 379ms/step - loss: 2.2856e-04 - accuracy: 1.0000 - val_loss: 3.3797 - val_accuracy: 0.6406\n",
            "Epoch 109/250\n",
            "10/10 [==============================] - 4s 370ms/step - loss: 2.1060e-04 - accuracy: 1.0000 - val_loss: 1.8617 - val_accuracy: 0.6406\n",
            "Epoch 110/250\n",
            "10/10 [==============================] - 4s 378ms/step - loss: 2.0668e-04 - accuracy: 1.0000 - val_loss: 2.9732 - val_accuracy: 0.5938\n",
            "Epoch 111/250\n",
            "10/10 [==============================] - 4s 378ms/step - loss: 1.9836e-04 - accuracy: 1.0000 - val_loss: 2.3131 - val_accuracy: 0.6719\n",
            "Epoch 112/250\n",
            "10/10 [==============================] - 4s 367ms/step - loss: 2.0427e-04 - accuracy: 1.0000 - val_loss: 2.8684 - val_accuracy: 0.6562\n",
            "Epoch 113/250\n",
            "10/10 [==============================] - 4s 381ms/step - loss: 1.9082e-04 - accuracy: 1.0000 - val_loss: 3.2217 - val_accuracy: 0.5938\n",
            "Epoch 114/250\n",
            "10/10 [==============================] - 4s 368ms/step - loss: 1.9090e-04 - accuracy: 1.0000 - val_loss: 1.6959 - val_accuracy: 0.6875\n",
            "Epoch 115/250\n",
            "10/10 [==============================] - 4s 376ms/step - loss: 1.7627e-04 - accuracy: 1.0000 - val_loss: 3.2343 - val_accuracy: 0.5156\n",
            "Epoch 116/250\n",
            "10/10 [==============================] - 4s 365ms/step - loss: 1.8077e-04 - accuracy: 1.0000 - val_loss: 3.4949 - val_accuracy: 0.5938\n",
            "Epoch 117/250\n",
            "10/10 [==============================] - 4s 379ms/step - loss: 1.7213e-04 - accuracy: 1.0000 - val_loss: 2.1355 - val_accuracy: 0.6875\n",
            "Epoch 118/250\n",
            "10/10 [==============================] - 4s 361ms/step - loss: 1.6155e-04 - accuracy: 1.0000 - val_loss: 2.3822 - val_accuracy: 0.6875\n",
            "Epoch 119/250\n",
            "10/10 [==============================] - 4s 363ms/step - loss: 1.6921e-04 - accuracy: 1.0000 - val_loss: 1.3578 - val_accuracy: 0.7031\n",
            "Epoch 120/250\n",
            "10/10 [==============================] - 4s 365ms/step - loss: 1.6973e-04 - accuracy: 1.0000 - val_loss: 1.7030 - val_accuracy: 0.7969\n",
            "Epoch 121/250\n",
            "10/10 [==============================] - 4s 365ms/step - loss: 1.6100e-04 - accuracy: 1.0000 - val_loss: 1.4675 - val_accuracy: 0.7188\n",
            "Epoch 122/250\n",
            "10/10 [==============================] - 4s 364ms/step - loss: 1.6381e-04 - accuracy: 1.0000 - val_loss: 3.8613 - val_accuracy: 0.5938\n",
            "Epoch 123/250\n",
            "10/10 [==============================] - 4s 362ms/step - loss: 1.5540e-04 - accuracy: 1.0000 - val_loss: 1.9424 - val_accuracy: 0.7344\n",
            "Epoch 124/250\n",
            "10/10 [==============================] - 4s 373ms/step - loss: 1.4583e-04 - accuracy: 1.0000 - val_loss: 2.3567 - val_accuracy: 0.7031\n",
            "Epoch 125/250\n",
            "10/10 [==============================] - 4s 366ms/step - loss: 1.4543e-04 - accuracy: 1.0000 - val_loss: 2.7248 - val_accuracy: 0.6094\n",
            "Epoch 126/250\n",
            "10/10 [==============================] - 4s 374ms/step - loss: 1.3683e-04 - accuracy: 1.0000 - val_loss: 2.2275 - val_accuracy: 0.7500\n",
            "Epoch 127/250\n",
            "10/10 [==============================] - 4s 361ms/step - loss: 1.4835e-04 - accuracy: 1.0000 - val_loss: 1.8200 - val_accuracy: 0.7031\n",
            "Epoch 128/250\n",
            "10/10 [==============================] - 4s 363ms/step - loss: 1.2993e-04 - accuracy: 1.0000 - val_loss: 2.8061 - val_accuracy: 0.5156\n",
            "Epoch 129/250\n",
            "10/10 [==============================] - 4s 364ms/step - loss: 1.3005e-04 - accuracy: 1.0000 - val_loss: 2.4790 - val_accuracy: 0.7344\n",
            "Epoch 130/250\n",
            "10/10 [==============================] - 4s 356ms/step - loss: 1.1983e-04 - accuracy: 1.0000 - val_loss: 3.0356 - val_accuracy: 0.6562\n",
            "Epoch 131/250\n",
            "10/10 [==============================] - 4s 364ms/step - loss: 1.3075e-04 - accuracy: 1.0000 - val_loss: 2.5732 - val_accuracy: 0.6250\n",
            "Epoch 132/250\n",
            "10/10 [==============================] - 4s 378ms/step - loss: 1.3006e-04 - accuracy: 1.0000 - val_loss: 3.0693 - val_accuracy: 0.6094\n",
            "Epoch 133/250\n",
            "10/10 [==============================] - 4s 376ms/step - loss: 1.0982e-04 - accuracy: 1.0000 - val_loss: 2.3242 - val_accuracy: 0.7344\n",
            "Epoch 134/250\n",
            "10/10 [==============================] - 4s 366ms/step - loss: 1.1340e-04 - accuracy: 1.0000 - val_loss: 2.9229 - val_accuracy: 0.6719\n",
            "Epoch 135/250\n",
            "10/10 [==============================] - 4s 376ms/step - loss: 1.1572e-04 - accuracy: 1.0000 - val_loss: 1.9153 - val_accuracy: 0.7500\n",
            "Epoch 136/250\n",
            "10/10 [==============================] - 4s 370ms/step - loss: 1.0888e-04 - accuracy: 1.0000 - val_loss: 1.8859 - val_accuracy: 0.7656\n",
            "Epoch 137/250\n",
            "10/10 [==============================] - 4s 381ms/step - loss: 1.0678e-04 - accuracy: 1.0000 - val_loss: 2.8200 - val_accuracy: 0.6719\n",
            "Epoch 138/250\n",
            "10/10 [==============================] - 4s 366ms/step - loss: 1.1315e-04 - accuracy: 1.0000 - val_loss: 3.1447 - val_accuracy: 0.6562\n",
            "Epoch 139/250\n",
            "10/10 [==============================] - 4s 384ms/step - loss: 1.0641e-04 - accuracy: 1.0000 - val_loss: 2.3635 - val_accuracy: 0.6562\n",
            "Epoch 140/250\n",
            "10/10 [==============================] - 4s 373ms/step - loss: 9.8249e-05 - accuracy: 1.0000 - val_loss: 2.1294 - val_accuracy: 0.7031\n",
            "Epoch 141/250\n",
            "10/10 [==============================] - 4s 365ms/step - loss: 1.0321e-04 - accuracy: 1.0000 - val_loss: 2.6731 - val_accuracy: 0.6562\n",
            "Epoch 142/250\n",
            "10/10 [==============================] - 4s 374ms/step - loss: 9.7420e-05 - accuracy: 1.0000 - val_loss: 2.7205 - val_accuracy: 0.7031\n",
            "Epoch 143/250\n",
            "10/10 [==============================] - 4s 365ms/step - loss: 9.9430e-05 - accuracy: 1.0000 - val_loss: 3.3670 - val_accuracy: 0.6250\n",
            "Epoch 144/250\n",
            "10/10 [==============================] - 4s 363ms/step - loss: 9.1812e-05 - accuracy: 1.0000 - val_loss: 1.8867 - val_accuracy: 0.6562\n",
            "Epoch 145/250\n",
            "10/10 [==============================] - 4s 361ms/step - loss: 9.7989e-05 - accuracy: 1.0000 - val_loss: 1.2649 - val_accuracy: 0.8281\n",
            "Epoch 146/250\n",
            "10/10 [==============================] - 4s 376ms/step - loss: 9.5856e-05 - accuracy: 1.0000 - val_loss: 2.5650 - val_accuracy: 0.6562\n",
            "Epoch 147/250\n",
            "10/10 [==============================] - 4s 374ms/step - loss: 9.1142e-05 - accuracy: 1.0000 - val_loss: 2.4625 - val_accuracy: 0.7188\n",
            "Epoch 148/250\n",
            "10/10 [==============================] - 4s 360ms/step - loss: 9.3980e-05 - accuracy: 1.0000 - val_loss: 2.9343 - val_accuracy: 0.6719\n",
            "Epoch 149/250\n",
            "10/10 [==============================] - 4s 371ms/step - loss: 8.8135e-05 - accuracy: 1.0000 - val_loss: 2.4316 - val_accuracy: 0.6406\n",
            "Epoch 150/250\n",
            "10/10 [==============================] - 4s 375ms/step - loss: 9.2862e-05 - accuracy: 1.0000 - val_loss: 1.7643 - val_accuracy: 0.7344\n",
            "Epoch 151/250\n",
            "10/10 [==============================] - 4s 378ms/step - loss: 7.6395e-05 - accuracy: 1.0000 - val_loss: 3.4776 - val_accuracy: 0.6719\n",
            "Epoch 152/250\n",
            "10/10 [==============================] - 4s 378ms/step - loss: 8.2728e-05 - accuracy: 1.0000 - val_loss: 1.9246 - val_accuracy: 0.7188\n",
            "Epoch 153/250\n",
            "10/10 [==============================] - 4s 361ms/step - loss: 7.8509e-05 - accuracy: 1.0000 - val_loss: 2.9823 - val_accuracy: 0.6250\n",
            "Epoch 154/250\n",
            "10/10 [==============================] - 4s 374ms/step - loss: 7.3197e-05 - accuracy: 1.0000 - val_loss: 3.0068 - val_accuracy: 0.6562\n",
            "Epoch 155/250\n",
            "10/10 [==============================] - 4s 361ms/step - loss: 7.8695e-05 - accuracy: 1.0000 - val_loss: 2.0136 - val_accuracy: 0.6406\n",
            "Epoch 156/250\n",
            "10/10 [==============================] - 4s 362ms/step - loss: 7.3960e-05 - accuracy: 1.0000 - val_loss: 3.5174 - val_accuracy: 0.6250\n",
            "Epoch 157/250\n",
            "10/10 [==============================] - 4s 365ms/step - loss: 7.0191e-05 - accuracy: 1.0000 - val_loss: 3.4577 - val_accuracy: 0.5938\n",
            "Epoch 158/250\n",
            "10/10 [==============================] - 4s 370ms/step - loss: 7.3072e-05 - accuracy: 1.0000 - val_loss: 2.8540 - val_accuracy: 0.6406\n",
            "Epoch 159/250\n",
            "10/10 [==============================] - 4s 365ms/step - loss: 7.1457e-05 - accuracy: 1.0000 - val_loss: 2.3021 - val_accuracy: 0.6719\n",
            "Epoch 160/250\n",
            "10/10 [==============================] - 4s 372ms/step - loss: 7.0823e-05 - accuracy: 1.0000 - val_loss: 1.9079 - val_accuracy: 0.6719\n",
            "Epoch 161/250\n",
            "10/10 [==============================] - 4s 375ms/step - loss: 7.4952e-05 - accuracy: 1.0000 - val_loss: 2.7197 - val_accuracy: 0.6562\n",
            "Epoch 162/250\n",
            "10/10 [==============================] - 4s 373ms/step - loss: 6.6009e-05 - accuracy: 1.0000 - val_loss: 2.4100 - val_accuracy: 0.6562\n",
            "Epoch 163/250\n",
            "10/10 [==============================] - 4s 362ms/step - loss: 6.3841e-05 - accuracy: 1.0000 - val_loss: 2.8537 - val_accuracy: 0.7188\n",
            "Epoch 164/250\n",
            "10/10 [==============================] - 4s 372ms/step - loss: 6.9581e-05 - accuracy: 1.0000 - val_loss: 2.3997 - val_accuracy: 0.6875\n",
            "Epoch 165/250\n",
            "10/10 [==============================] - 4s 362ms/step - loss: 6.4479e-05 - accuracy: 1.0000 - val_loss: 1.9647 - val_accuracy: 0.7500\n",
            "Epoch 166/250\n",
            "10/10 [==============================] - 4s 374ms/step - loss: 6.5533e-05 - accuracy: 1.0000 - val_loss: 2.5039 - val_accuracy: 0.7188\n",
            "Epoch 167/250\n",
            "10/10 [==============================] - 4s 372ms/step - loss: 6.3897e-05 - accuracy: 1.0000 - val_loss: 3.8983 - val_accuracy: 0.6406\n",
            "Epoch 168/250\n",
            "10/10 [==============================] - 4s 361ms/step - loss: 6.2502e-05 - accuracy: 1.0000 - val_loss: 2.6433 - val_accuracy: 0.6719\n",
            "Epoch 169/250\n",
            "10/10 [==============================] - 4s 369ms/step - loss: 5.9374e-05 - accuracy: 1.0000 - val_loss: 1.8777 - val_accuracy: 0.6875\n",
            "Epoch 170/250\n",
            "10/10 [==============================] - 4s 373ms/step - loss: 6.0302e-05 - accuracy: 1.0000 - val_loss: 4.1593 - val_accuracy: 0.5469\n",
            "Epoch 171/250\n",
            "10/10 [==============================] - 4s 363ms/step - loss: 5.5242e-05 - accuracy: 1.0000 - val_loss: 2.9610 - val_accuracy: 0.6719\n",
            "Epoch 172/250\n",
            "10/10 [==============================] - 4s 371ms/step - loss: 5.7783e-05 - accuracy: 1.0000 - val_loss: 2.4154 - val_accuracy: 0.6719\n",
            "Epoch 173/250\n",
            "10/10 [==============================] - 4s 367ms/step - loss: 6.0404e-05 - accuracy: 1.0000 - val_loss: 2.1310 - val_accuracy: 0.7188\n",
            "Epoch 174/250\n",
            "10/10 [==============================] - 4s 361ms/step - loss: 5.3595e-05 - accuracy: 1.0000 - val_loss: 2.8877 - val_accuracy: 0.7344\n",
            "Epoch 175/250\n",
            "10/10 [==============================] - 4s 362ms/step - loss: 5.8163e-05 - accuracy: 1.0000 - val_loss: 2.7016 - val_accuracy: 0.6719\n",
            "Epoch 176/250\n",
            "10/10 [==============================] - 4s 362ms/step - loss: 5.3979e-05 - accuracy: 1.0000 - val_loss: 3.1509 - val_accuracy: 0.6719\n",
            "Epoch 177/250\n",
            "10/10 [==============================] - 4s 356ms/step - loss: 5.5259e-05 - accuracy: 1.0000 - val_loss: 1.4251 - val_accuracy: 0.7344\n",
            "Epoch 178/250\n",
            "10/10 [==============================] - 4s 373ms/step - loss: 5.2638e-05 - accuracy: 1.0000 - val_loss: 2.8154 - val_accuracy: 0.6875\n",
            "Epoch 179/250\n",
            "10/10 [==============================] - 4s 375ms/step - loss: 5.1561e-05 - accuracy: 1.0000 - val_loss: 1.9504 - val_accuracy: 0.7969\n",
            "Epoch 180/250\n",
            "10/10 [==============================] - 4s 365ms/step - loss: 5.0445e-05 - accuracy: 1.0000 - val_loss: 3.0484 - val_accuracy: 0.6719\n",
            "Epoch 181/250\n",
            "10/10 [==============================] - 4s 364ms/step - loss: 4.8287e-05 - accuracy: 1.0000 - val_loss: 3.7352 - val_accuracy: 0.6094\n",
            "Epoch 182/250\n",
            "10/10 [==============================] - 4s 376ms/step - loss: 4.7948e-05 - accuracy: 1.0000 - val_loss: 2.4953 - val_accuracy: 0.6875\n",
            "Epoch 183/250\n",
            "10/10 [==============================] - 4s 361ms/step - loss: 4.6131e-05 - accuracy: 1.0000 - val_loss: 3.9439 - val_accuracy: 0.6250\n",
            "Epoch 184/250\n",
            "10/10 [==============================] - 4s 372ms/step - loss: 4.8402e-05 - accuracy: 1.0000 - val_loss: 3.1081 - val_accuracy: 0.6875\n",
            "Epoch 185/250\n",
            "10/10 [==============================] - 4s 361ms/step - loss: 4.7304e-05 - accuracy: 1.0000 - val_loss: 1.4299 - val_accuracy: 0.7188\n",
            "Epoch 186/250\n",
            "10/10 [==============================] - 4s 369ms/step - loss: 4.5155e-05 - accuracy: 1.0000 - val_loss: 2.2874 - val_accuracy: 0.6406\n",
            "Epoch 187/250\n",
            "10/10 [==============================] - 4s 364ms/step - loss: 4.8145e-05 - accuracy: 1.0000 - val_loss: 2.9698 - val_accuracy: 0.6562\n",
            "Epoch 188/250\n",
            "10/10 [==============================] - 4s 362ms/step - loss: 4.3155e-05 - accuracy: 1.0000 - val_loss: 3.7025 - val_accuracy: 0.6719\n",
            "Epoch 189/250\n",
            "10/10 [==============================] - 4s 366ms/step - loss: 4.4991e-05 - accuracy: 1.0000 - val_loss: 2.1625 - val_accuracy: 0.6250\n",
            "Epoch 190/250\n",
            "10/10 [==============================] - 4s 358ms/step - loss: 4.6111e-05 - accuracy: 1.0000 - val_loss: 2.4415 - val_accuracy: 0.6719\n",
            "Epoch 191/250\n",
            "10/10 [==============================] - 4s 370ms/step - loss: 4.3418e-05 - accuracy: 1.0000 - val_loss: 1.6369 - val_accuracy: 0.7031\n",
            "Epoch 192/250\n",
            "10/10 [==============================] - 4s 374ms/step - loss: 4.4255e-05 - accuracy: 1.0000 - val_loss: 2.5402 - val_accuracy: 0.6406\n",
            "Epoch 193/250\n",
            "10/10 [==============================] - 4s 367ms/step - loss: 4.1930e-05 - accuracy: 1.0000 - val_loss: 2.4564 - val_accuracy: 0.7188\n"
          ],
          "name": "stdout"
        },
        {
          "output_type": "error",
          "ename": "KeyboardInterrupt",
          "evalue": "ignored",
          "traceback": [
            "\u001b[0;31m---------------------------------------------------------------------------\u001b[0m",
            "\u001b[0;31mKeyboardInterrupt\u001b[0m                         Traceback (most recent call last)",
            "\u001b[0;32m<ipython-input-25-d17c2b1341e2>\u001b[0m in \u001b[0;36m<module>\u001b[0;34m()\u001b[0m\n\u001b[1;32m      4\u001b[0m       \u001b[0mepochs\u001b[0m\u001b[0;34m=\u001b[0m\u001b[0;36m250\u001b[0m\u001b[0;34m,\u001b[0m\u001b[0;34m\u001b[0m\u001b[0;34m\u001b[0m\u001b[0m\n\u001b[1;32m      5\u001b[0m       \u001b[0mvalidation_data\u001b[0m\u001b[0;34m=\u001b[0m\u001b[0mvalidation_generator\u001b[0m\u001b[0;34m,\u001b[0m\u001b[0;34m\u001b[0m\u001b[0;34m\u001b[0m\u001b[0m\n\u001b[0;32m----> 6\u001b[0;31m       validation_steps=1)\n\u001b[0m",
            "\u001b[0;32m/usr/local/lib/python3.6/dist-packages/tensorflow/python/util/deprecation.py\u001b[0m in \u001b[0;36mnew_func\u001b[0;34m(*args, **kwargs)\u001b[0m\n\u001b[1;32m    322\u001b[0m               \u001b[0;34m'in a future version'\u001b[0m \u001b[0;32mif\u001b[0m \u001b[0mdate\u001b[0m \u001b[0;32mis\u001b[0m \u001b[0;32mNone\u001b[0m \u001b[0;32melse\u001b[0m \u001b[0;34m(\u001b[0m\u001b[0;34m'after %s'\u001b[0m \u001b[0;34m%\u001b[0m \u001b[0mdate\u001b[0m\u001b[0;34m)\u001b[0m\u001b[0;34m,\u001b[0m\u001b[0;34m\u001b[0m\u001b[0;34m\u001b[0m\u001b[0m\n\u001b[1;32m    323\u001b[0m               instructions)\n\u001b[0;32m--> 324\u001b[0;31m       \u001b[0;32mreturn\u001b[0m \u001b[0mfunc\u001b[0m\u001b[0;34m(\u001b[0m\u001b[0;34m*\u001b[0m\u001b[0margs\u001b[0m\u001b[0;34m,\u001b[0m \u001b[0;34m**\u001b[0m\u001b[0mkwargs\u001b[0m\u001b[0;34m)\u001b[0m\u001b[0;34m\u001b[0m\u001b[0;34m\u001b[0m\u001b[0m\n\u001b[0m\u001b[1;32m    325\u001b[0m     return tf_decorator.make_decorator(\n\u001b[1;32m    326\u001b[0m         \u001b[0mfunc\u001b[0m\u001b[0;34m,\u001b[0m \u001b[0mnew_func\u001b[0m\u001b[0;34m,\u001b[0m \u001b[0;34m'deprecated'\u001b[0m\u001b[0;34m,\u001b[0m\u001b[0;34m\u001b[0m\u001b[0;34m\u001b[0m\u001b[0m\n",
            "\u001b[0;32m/usr/local/lib/python3.6/dist-packages/tensorflow/python/keras/engine/training.py\u001b[0m in \u001b[0;36mfit_generator\u001b[0;34m(self, generator, steps_per_epoch, epochs, verbose, callbacks, validation_data, validation_steps, validation_freq, class_weight, max_queue_size, workers, use_multiprocessing, shuffle, initial_epoch)\u001b[0m\n\u001b[1;32m   1827\u001b[0m         \u001b[0muse_multiprocessing\u001b[0m\u001b[0;34m=\u001b[0m\u001b[0muse_multiprocessing\u001b[0m\u001b[0;34m,\u001b[0m\u001b[0;34m\u001b[0m\u001b[0;34m\u001b[0m\u001b[0m\n\u001b[1;32m   1828\u001b[0m         \u001b[0mshuffle\u001b[0m\u001b[0;34m=\u001b[0m\u001b[0mshuffle\u001b[0m\u001b[0;34m,\u001b[0m\u001b[0;34m\u001b[0m\u001b[0;34m\u001b[0m\u001b[0m\n\u001b[0;32m-> 1829\u001b[0;31m         initial_epoch=initial_epoch)\n\u001b[0m\u001b[1;32m   1830\u001b[0m \u001b[0;34m\u001b[0m\u001b[0m\n\u001b[1;32m   1831\u001b[0m   @deprecation.deprecated(\n",
            "\u001b[0;32m/usr/local/lib/python3.6/dist-packages/tensorflow/python/keras/engine/training.py\u001b[0m in \u001b[0;36m_method_wrapper\u001b[0;34m(self, *args, **kwargs)\u001b[0m\n\u001b[1;32m    106\u001b[0m   \u001b[0;32mdef\u001b[0m \u001b[0m_method_wrapper\u001b[0m\u001b[0;34m(\u001b[0m\u001b[0mself\u001b[0m\u001b[0;34m,\u001b[0m \u001b[0;34m*\u001b[0m\u001b[0margs\u001b[0m\u001b[0;34m,\u001b[0m \u001b[0;34m**\u001b[0m\u001b[0mkwargs\u001b[0m\u001b[0;34m)\u001b[0m\u001b[0;34m:\u001b[0m\u001b[0;34m\u001b[0m\u001b[0;34m\u001b[0m\u001b[0m\n\u001b[1;32m    107\u001b[0m     \u001b[0;32mif\u001b[0m \u001b[0;32mnot\u001b[0m \u001b[0mself\u001b[0m\u001b[0;34m.\u001b[0m\u001b[0m_in_multi_worker_mode\u001b[0m\u001b[0;34m(\u001b[0m\u001b[0;34m)\u001b[0m\u001b[0;34m:\u001b[0m  \u001b[0;31m# pylint: disable=protected-access\u001b[0m\u001b[0;34m\u001b[0m\u001b[0;34m\u001b[0m\u001b[0m\n\u001b[0;32m--> 108\u001b[0;31m       \u001b[0;32mreturn\u001b[0m \u001b[0mmethod\u001b[0m\u001b[0;34m(\u001b[0m\u001b[0mself\u001b[0m\u001b[0;34m,\u001b[0m \u001b[0;34m*\u001b[0m\u001b[0margs\u001b[0m\u001b[0;34m,\u001b[0m \u001b[0;34m**\u001b[0m\u001b[0mkwargs\u001b[0m\u001b[0;34m)\u001b[0m\u001b[0;34m\u001b[0m\u001b[0;34m\u001b[0m\u001b[0m\n\u001b[0m\u001b[1;32m    109\u001b[0m \u001b[0;34m\u001b[0m\u001b[0m\n\u001b[1;32m    110\u001b[0m     \u001b[0;31m# Running inside `run_distribute_coordinator` already.\u001b[0m\u001b[0;34m\u001b[0m\u001b[0;34m\u001b[0m\u001b[0;34m\u001b[0m\u001b[0m\n",
            "\u001b[0;32m/usr/local/lib/python3.6/dist-packages/tensorflow/python/keras/engine/training.py\u001b[0m in \u001b[0;36mfit\u001b[0;34m(self, x, y, batch_size, epochs, verbose, callbacks, validation_split, validation_data, shuffle, class_weight, sample_weight, initial_epoch, steps_per_epoch, validation_steps, validation_batch_size, validation_freq, max_queue_size, workers, use_multiprocessing)\u001b[0m\n\u001b[1;32m   1085\u001b[0m           self._maybe_load_initial_epoch_from_ckpt(initial_epoch))\n\u001b[1;32m   1086\u001b[0m       \u001b[0;32mfor\u001b[0m \u001b[0mepoch\u001b[0m\u001b[0;34m,\u001b[0m \u001b[0miterator\u001b[0m \u001b[0;32min\u001b[0m \u001b[0mdata_handler\u001b[0m\u001b[0;34m.\u001b[0m\u001b[0menumerate_epochs\u001b[0m\u001b[0;34m(\u001b[0m\u001b[0;34m)\u001b[0m\u001b[0;34m:\u001b[0m\u001b[0;34m\u001b[0m\u001b[0;34m\u001b[0m\u001b[0m\n\u001b[0;32m-> 1087\u001b[0;31m         \u001b[0mself\u001b[0m\u001b[0;34m.\u001b[0m\u001b[0mreset_metrics\u001b[0m\u001b[0;34m(\u001b[0m\u001b[0;34m)\u001b[0m\u001b[0;34m\u001b[0m\u001b[0;34m\u001b[0m\u001b[0m\n\u001b[0m\u001b[1;32m   1088\u001b[0m         \u001b[0mcallbacks\u001b[0m\u001b[0;34m.\u001b[0m\u001b[0mon_epoch_begin\u001b[0m\u001b[0;34m(\u001b[0m\u001b[0mepoch\u001b[0m\u001b[0;34m)\u001b[0m\u001b[0;34m\u001b[0m\u001b[0;34m\u001b[0m\u001b[0m\n\u001b[1;32m   1089\u001b[0m         \u001b[0;32mwith\u001b[0m \u001b[0mdata_handler\u001b[0m\u001b[0;34m.\u001b[0m\u001b[0mcatch_stop_iteration\u001b[0m\u001b[0;34m(\u001b[0m\u001b[0;34m)\u001b[0m\u001b[0;34m:\u001b[0m\u001b[0;34m\u001b[0m\u001b[0;34m\u001b[0m\u001b[0m\n",
            "\u001b[0;32m/usr/local/lib/python3.6/dist-packages/tensorflow/python/keras/engine/training.py\u001b[0m in \u001b[0;36mreset_metrics\u001b[0;34m(self)\u001b[0m\n\u001b[1;32m   1635\u001b[0m     \"\"\"\n\u001b[1;32m   1636\u001b[0m     \u001b[0;32mfor\u001b[0m \u001b[0mm\u001b[0m \u001b[0;32min\u001b[0m \u001b[0mself\u001b[0m\u001b[0;34m.\u001b[0m\u001b[0mmetrics\u001b[0m\u001b[0;34m:\u001b[0m\u001b[0;34m\u001b[0m\u001b[0;34m\u001b[0m\u001b[0m\n\u001b[0;32m-> 1637\u001b[0;31m       \u001b[0mm\u001b[0m\u001b[0;34m.\u001b[0m\u001b[0mreset_states\u001b[0m\u001b[0;34m(\u001b[0m\u001b[0;34m)\u001b[0m\u001b[0;34m\u001b[0m\u001b[0;34m\u001b[0m\u001b[0m\n\u001b[0m\u001b[1;32m   1638\u001b[0m \u001b[0;34m\u001b[0m\u001b[0m\n\u001b[1;32m   1639\u001b[0m   def train_on_batch(self,\n",
            "\u001b[0;32m/usr/local/lib/python3.6/dist-packages/tensorflow/python/keras/metrics.py\u001b[0m in \u001b[0;36mreset_states\u001b[0;34m(self)\u001b[0m\n\u001b[1;32m    245\u001b[0m     \u001b[0mwhen\u001b[0m \u001b[0ma\u001b[0m \u001b[0mmetric\u001b[0m \u001b[0;32mis\u001b[0m \u001b[0mevaluated\u001b[0m \u001b[0mduring\u001b[0m \u001b[0mtraining\u001b[0m\u001b[0;34m.\u001b[0m\u001b[0;34m\u001b[0m\u001b[0;34m\u001b[0m\u001b[0m\n\u001b[1;32m    246\u001b[0m     \"\"\"\n\u001b[0;32m--> 247\u001b[0;31m     \u001b[0mK\u001b[0m\u001b[0;34m.\u001b[0m\u001b[0mbatch_set_value\u001b[0m\u001b[0;34m(\u001b[0m\u001b[0;34m[\u001b[0m\u001b[0;34m(\u001b[0m\u001b[0mv\u001b[0m\u001b[0;34m,\u001b[0m \u001b[0;36m0\u001b[0m\u001b[0;34m)\u001b[0m \u001b[0;32mfor\u001b[0m \u001b[0mv\u001b[0m \u001b[0;32min\u001b[0m \u001b[0mself\u001b[0m\u001b[0;34m.\u001b[0m\u001b[0mvariables\u001b[0m\u001b[0;34m]\u001b[0m\u001b[0;34m)\u001b[0m\u001b[0;34m\u001b[0m\u001b[0;34m\u001b[0m\u001b[0m\n\u001b[0m\u001b[1;32m    248\u001b[0m \u001b[0;34m\u001b[0m\u001b[0m\n\u001b[1;32m    249\u001b[0m   \u001b[0;34m@\u001b[0m\u001b[0mabc\u001b[0m\u001b[0;34m.\u001b[0m\u001b[0mabstractmethod\u001b[0m\u001b[0;34m\u001b[0m\u001b[0;34m\u001b[0m\u001b[0m\n",
            "\u001b[0;32m/usr/local/lib/python3.6/dist-packages/tensorflow/python/util/dispatch.py\u001b[0m in \u001b[0;36mwrapper\u001b[0;34m(*args, **kwargs)\u001b[0m\n\u001b[1;32m    199\u001b[0m     \u001b[0;34m\"\"\"Call target, and fall back on dispatchers if there is a TypeError.\"\"\"\u001b[0m\u001b[0;34m\u001b[0m\u001b[0;34m\u001b[0m\u001b[0m\n\u001b[1;32m    200\u001b[0m     \u001b[0;32mtry\u001b[0m\u001b[0;34m:\u001b[0m\u001b[0;34m\u001b[0m\u001b[0;34m\u001b[0m\u001b[0m\n\u001b[0;32m--> 201\u001b[0;31m       \u001b[0;32mreturn\u001b[0m \u001b[0mtarget\u001b[0m\u001b[0;34m(\u001b[0m\u001b[0;34m*\u001b[0m\u001b[0margs\u001b[0m\u001b[0;34m,\u001b[0m \u001b[0;34m**\u001b[0m\u001b[0mkwargs\u001b[0m\u001b[0;34m)\u001b[0m\u001b[0;34m\u001b[0m\u001b[0;34m\u001b[0m\u001b[0m\n\u001b[0m\u001b[1;32m    202\u001b[0m     \u001b[0;32mexcept\u001b[0m \u001b[0;34m(\u001b[0m\u001b[0mTypeError\u001b[0m\u001b[0;34m,\u001b[0m \u001b[0mValueError\u001b[0m\u001b[0;34m)\u001b[0m\u001b[0;34m:\u001b[0m\u001b[0;34m\u001b[0m\u001b[0;34m\u001b[0m\u001b[0m\n\u001b[1;32m    203\u001b[0m       \u001b[0;31m# Note: convert_to_eager_tensor currently raises a ValueError, not a\u001b[0m\u001b[0;34m\u001b[0m\u001b[0;34m\u001b[0m\u001b[0;34m\u001b[0m\u001b[0m\n",
            "\u001b[0;32m/usr/local/lib/python3.6/dist-packages/tensorflow/python/keras/backend.py\u001b[0m in \u001b[0;36mbatch_set_value\u001b[0;34m(tuples)\u001b[0m\n\u001b[1;32m   3574\u001b[0m   \u001b[0;32mif\u001b[0m \u001b[0mops\u001b[0m\u001b[0;34m.\u001b[0m\u001b[0mexecuting_eagerly_outside_functions\u001b[0m\u001b[0;34m(\u001b[0m\u001b[0;34m)\u001b[0m\u001b[0;34m:\u001b[0m\u001b[0;34m\u001b[0m\u001b[0;34m\u001b[0m\u001b[0m\n\u001b[1;32m   3575\u001b[0m     \u001b[0;32mfor\u001b[0m \u001b[0mx\u001b[0m\u001b[0;34m,\u001b[0m \u001b[0mvalue\u001b[0m \u001b[0;32min\u001b[0m \u001b[0mtuples\u001b[0m\u001b[0;34m:\u001b[0m\u001b[0;34m\u001b[0m\u001b[0;34m\u001b[0m\u001b[0m\n\u001b[0;32m-> 3576\u001b[0;31m       \u001b[0mx\u001b[0m\u001b[0;34m.\u001b[0m\u001b[0massign\u001b[0m\u001b[0;34m(\u001b[0m\u001b[0mnp\u001b[0m\u001b[0;34m.\u001b[0m\u001b[0masarray\u001b[0m\u001b[0;34m(\u001b[0m\u001b[0mvalue\u001b[0m\u001b[0;34m,\u001b[0m \u001b[0mdtype\u001b[0m\u001b[0;34m=\u001b[0m\u001b[0mdtype\u001b[0m\u001b[0;34m(\u001b[0m\u001b[0mx\u001b[0m\u001b[0;34m)\u001b[0m\u001b[0;34m)\u001b[0m\u001b[0;34m)\u001b[0m\u001b[0;34m\u001b[0m\u001b[0;34m\u001b[0m\u001b[0m\n\u001b[0m\u001b[1;32m   3577\u001b[0m   \u001b[0;32melse\u001b[0m\u001b[0;34m:\u001b[0m\u001b[0;34m\u001b[0m\u001b[0;34m\u001b[0m\u001b[0m\n\u001b[1;32m   3578\u001b[0m     \u001b[0;32mwith\u001b[0m \u001b[0mget_graph\u001b[0m\u001b[0;34m(\u001b[0m\u001b[0;34m)\u001b[0m\u001b[0;34m.\u001b[0m\u001b[0mas_default\u001b[0m\u001b[0;34m(\u001b[0m\u001b[0;34m)\u001b[0m\u001b[0;34m:\u001b[0m\u001b[0;34m\u001b[0m\u001b[0;34m\u001b[0m\u001b[0m\n",
            "\u001b[0;32m/usr/local/lib/python3.6/dist-packages/tensorflow/python/ops/resource_variable_ops.py\u001b[0m in \u001b[0;36massign\u001b[0;34m(self, value, use_locking, name, read_value)\u001b[0m\n\u001b[1;32m    858\u001b[0m       \u001b[0mself\u001b[0m\u001b[0;34m.\u001b[0m\u001b[0m_shape\u001b[0m\u001b[0;34m.\u001b[0m\u001b[0massert_is_compatible_with\u001b[0m\u001b[0;34m(\u001b[0m\u001b[0mvalue_tensor\u001b[0m\u001b[0;34m.\u001b[0m\u001b[0mshape\u001b[0m\u001b[0;34m)\u001b[0m\u001b[0;34m\u001b[0m\u001b[0;34m\u001b[0m\u001b[0m\n\u001b[1;32m    859\u001b[0m       assign_op = gen_resource_variable_ops.assign_variable_op(\n\u001b[0;32m--> 860\u001b[0;31m           self.handle, value_tensor, name=name)\n\u001b[0m\u001b[1;32m    861\u001b[0m       \u001b[0;32mif\u001b[0m \u001b[0mread_value\u001b[0m\u001b[0;34m:\u001b[0m\u001b[0;34m\u001b[0m\u001b[0;34m\u001b[0m\u001b[0m\n\u001b[1;32m    862\u001b[0m         \u001b[0;32mreturn\u001b[0m \u001b[0mself\u001b[0m\u001b[0;34m.\u001b[0m\u001b[0m_lazy_read\u001b[0m\u001b[0;34m(\u001b[0m\u001b[0massign_op\u001b[0m\u001b[0;34m)\u001b[0m\u001b[0;34m\u001b[0m\u001b[0;34m\u001b[0m\u001b[0m\n",
            "\u001b[0;32m/usr/local/lib/python3.6/dist-packages/tensorflow/python/ops/gen_resource_variable_ops.py\u001b[0m in \u001b[0;36massign_variable_op\u001b[0;34m(resource, value, name)\u001b[0m\n\u001b[1;32m    142\u001b[0m       _result = pywrap_tfe.TFE_Py_FastPathExecute(\n\u001b[1;32m    143\u001b[0m         \u001b[0m_ctx\u001b[0m\u001b[0;34m.\u001b[0m\u001b[0m_context_handle\u001b[0m\u001b[0;34m,\u001b[0m \u001b[0mtld\u001b[0m\u001b[0;34m.\u001b[0m\u001b[0mdevice_name\u001b[0m\u001b[0;34m,\u001b[0m \u001b[0;34m\"AssignVariableOp\"\u001b[0m\u001b[0;34m,\u001b[0m \u001b[0mname\u001b[0m\u001b[0;34m,\u001b[0m\u001b[0;34m\u001b[0m\u001b[0;34m\u001b[0m\u001b[0m\n\u001b[0;32m--> 144\u001b[0;31m         tld.op_callbacks, resource, value)\n\u001b[0m\u001b[1;32m    145\u001b[0m       \u001b[0;32mreturn\u001b[0m \u001b[0m_result\u001b[0m\u001b[0;34m\u001b[0m\u001b[0;34m\u001b[0m\u001b[0m\n\u001b[1;32m    146\u001b[0m     \u001b[0;32mexcept\u001b[0m \u001b[0m_core\u001b[0m\u001b[0;34m.\u001b[0m\u001b[0m_NotOkStatusException\u001b[0m \u001b[0;32mas\u001b[0m \u001b[0me\u001b[0m\u001b[0;34m:\u001b[0m\u001b[0;34m\u001b[0m\u001b[0;34m\u001b[0m\u001b[0m\n",
            "\u001b[0;31mKeyboardInterrupt\u001b[0m: "
          ]
        }
      ]
    },
    {
      "cell_type": "code",
      "metadata": {
        "id": "n1fcgEtVJzgB",
        "outputId": "64de3d80-2404-49b2-ea04-e79c7968b1a0",
        "colab": {
          "base_uri": "https://localhost:8080/"
        }
      },
      "source": [
        "history1= model.fit_generator(\n",
        "      train_generator,\n",
        "      steps_per_epoch=10,\n",
        "      epochs=250,\n",
        "      validation_data=validation_generator,\n",
        "      validation_steps=1)"
      ],
      "execution_count": 91,
      "outputs": [
        {
          "output_type": "stream",
          "text": [
            "Epoch 1/250\n",
            "10/10 [==============================] - 4s 369ms/step - loss: 0.6934 - accuracy: 0.4935 - val_loss: 0.6929 - val_accuracy: 0.5156\n",
            "Epoch 2/250\n",
            "10/10 [==============================] - 4s 353ms/step - loss: 0.6931 - accuracy: 0.5057 - val_loss: 0.6936 - val_accuracy: 0.4844\n",
            "Epoch 3/250\n",
            "10/10 [==============================] - 4s 357ms/step - loss: 0.6932 - accuracy: 0.4968 - val_loss: 0.6940 - val_accuracy: 0.4688\n",
            "Epoch 4/250\n",
            "10/10 [==============================] - 4s 355ms/step - loss: 0.6937 - accuracy: 0.4740 - val_loss: 0.6937 - val_accuracy: 0.5312\n",
            "Epoch 5/250\n",
            "10/10 [==============================] - 4s 360ms/step - loss: 0.6926 - accuracy: 0.5203 - val_loss: 0.6972 - val_accuracy: 0.3750\n",
            "Epoch 6/250\n",
            "10/10 [==============================] - 4s 362ms/step - loss: 0.6936 - accuracy: 0.4935 - val_loss: 0.6931 - val_accuracy: 0.4375\n",
            "Epoch 7/250\n",
            "10/10 [==============================] - 4s 359ms/step - loss: 0.6928 - accuracy: 0.5073 - val_loss: 0.6930 - val_accuracy: 0.5156\n",
            "Epoch 8/250\n",
            "10/10 [==============================] - 4s 355ms/step - loss: 0.6927 - accuracy: 0.5049 - val_loss: 0.6938 - val_accuracy: 0.4688\n",
            "Epoch 9/250\n",
            "10/10 [==============================] - 4s 369ms/step - loss: 0.6926 - accuracy: 0.5148 - val_loss: 0.6910 - val_accuracy: 0.6562\n",
            "Epoch 10/250\n",
            "10/10 [==============================] - 4s 354ms/step - loss: 0.6913 - accuracy: 0.5349 - val_loss: 0.6890 - val_accuracy: 0.6719\n",
            "Epoch 11/250\n",
            "10/10 [==============================] - 4s 352ms/step - loss: 0.6928 - accuracy: 0.5138 - val_loss: 0.6953 - val_accuracy: 0.4844\n",
            "Epoch 12/250\n",
            "10/10 [==============================] - 4s 364ms/step - loss: 0.6914 - accuracy: 0.5172 - val_loss: 0.6885 - val_accuracy: 0.6094\n",
            "Epoch 13/250\n",
            "10/10 [==============================] - 4s 352ms/step - loss: 0.6913 - accuracy: 0.5154 - val_loss: 0.6946 - val_accuracy: 0.4844\n",
            "Epoch 14/250\n",
            "10/10 [==============================] - 4s 353ms/step - loss: 0.6906 - accuracy: 0.5325 - val_loss: 0.6875 - val_accuracy: 0.5469\n",
            "Epoch 15/250\n",
            "10/10 [==============================] - 4s 363ms/step - loss: 0.6887 - accuracy: 0.5657 - val_loss: 0.6888 - val_accuracy: 0.5312\n",
            "Epoch 16/250\n",
            "10/10 [==============================] - 4s 357ms/step - loss: 0.6881 - accuracy: 0.5625 - val_loss: 0.6874 - val_accuracy: 0.5781\n",
            "Epoch 17/250\n",
            "10/10 [==============================] - 4s 352ms/step - loss: 0.6810 - accuracy: 0.5795 - val_loss: 0.6958 - val_accuracy: 0.4844\n",
            "Epoch 18/250\n",
            "10/10 [==============================] - 4s 354ms/step - loss: 0.6825 - accuracy: 0.5666 - val_loss: 0.7083 - val_accuracy: 0.5625\n",
            "Epoch 19/250\n",
            "10/10 [==============================] - 4s 368ms/step - loss: 0.6798 - accuracy: 0.5617 - val_loss: 0.6958 - val_accuracy: 0.4844\n",
            "Epoch 20/250\n",
            "10/10 [==============================] - 4s 352ms/step - loss: 0.6758 - accuracy: 0.5901 - val_loss: 0.6837 - val_accuracy: 0.5156\n",
            "Epoch 21/250\n",
            "10/10 [==============================] - 4s 352ms/step - loss: 0.6708 - accuracy: 0.5860 - val_loss: 0.6510 - val_accuracy: 0.6094\n",
            "Epoch 22/250\n",
            "10/10 [==============================] - 4s 362ms/step - loss: 0.6688 - accuracy: 0.5828 - val_loss: 0.7087 - val_accuracy: 0.5000\n",
            "Epoch 23/250\n",
            "10/10 [==============================] - 4s 364ms/step - loss: 0.6695 - accuracy: 0.5750 - val_loss: 0.6880 - val_accuracy: 0.5312\n",
            "Epoch 24/250\n",
            "10/10 [==============================] - 4s 364ms/step - loss: 0.6641 - accuracy: 0.5969 - val_loss: 0.7307 - val_accuracy: 0.4844\n",
            "Epoch 25/250\n",
            "10/10 [==============================] - 4s 354ms/step - loss: 0.6609 - accuracy: 0.6047 - val_loss: 0.6562 - val_accuracy: 0.6406\n",
            "Epoch 26/250\n",
            "10/10 [==============================] - 4s 370ms/step - loss: 0.6652 - accuracy: 0.5875 - val_loss: 0.6924 - val_accuracy: 0.4688\n",
            "Epoch 27/250\n",
            "10/10 [==============================] - 4s 356ms/step - loss: 0.6559 - accuracy: 0.6104 - val_loss: 0.6687 - val_accuracy: 0.6406\n",
            "Epoch 28/250\n",
            "10/10 [==============================] - 4s 353ms/step - loss: 0.6549 - accuracy: 0.6128 - val_loss: 0.6592 - val_accuracy: 0.6094\n",
            "Epoch 29/250\n",
            "10/10 [==============================] - 4s 352ms/step - loss: 0.6520 - accuracy: 0.6112 - val_loss: 0.7173 - val_accuracy: 0.5156\n",
            "Epoch 30/250\n",
            "10/10 [==============================] - 4s 350ms/step - loss: 0.6405 - accuracy: 0.6218 - val_loss: 0.7079 - val_accuracy: 0.5469\n",
            "Epoch 31/250\n",
            "10/10 [==============================] - 4s 353ms/step - loss: 0.6474 - accuracy: 0.6258 - val_loss: 0.6233 - val_accuracy: 0.6406\n",
            "Epoch 32/250\n",
            "10/10 [==============================] - 4s 360ms/step - loss: 0.6298 - accuracy: 0.6323 - val_loss: 0.7209 - val_accuracy: 0.5000\n",
            "Epoch 33/250\n",
            "10/10 [==============================] - 4s 372ms/step - loss: 0.6317 - accuracy: 0.6289 - val_loss: 0.6818 - val_accuracy: 0.5781\n",
            "Epoch 34/250\n",
            "10/10 [==============================] - 4s 374ms/step - loss: 0.6361 - accuracy: 0.6547 - val_loss: 0.6556 - val_accuracy: 0.5469\n",
            "Epoch 35/250\n",
            "10/10 [==============================] - 4s 354ms/step - loss: 0.6202 - accuracy: 0.6477 - val_loss: 0.7607 - val_accuracy: 0.4531\n",
            "Epoch 36/250\n",
            "10/10 [==============================] - 4s 353ms/step - loss: 0.6092 - accuracy: 0.6599 - val_loss: 0.6911 - val_accuracy: 0.6250\n",
            "Epoch 37/250\n",
            "10/10 [==============================] - 4s 366ms/step - loss: 0.6060 - accuracy: 0.6516 - val_loss: 0.7175 - val_accuracy: 0.6094\n",
            "Epoch 38/250\n",
            "10/10 [==============================] - 4s 354ms/step - loss: 0.6073 - accuracy: 0.6623 - val_loss: 0.6697 - val_accuracy: 0.6406\n",
            "Epoch 39/250\n",
            "10/10 [==============================] - 4s 367ms/step - loss: 0.6041 - accuracy: 0.6531 - val_loss: 0.6159 - val_accuracy: 0.6094\n",
            "Epoch 40/250\n",
            "10/10 [==============================] - 4s 362ms/step - loss: 0.5898 - accuracy: 0.6828 - val_loss: 0.6753 - val_accuracy: 0.6094\n",
            "Epoch 41/250\n",
            "10/10 [==============================] - 4s 356ms/step - loss: 0.5938 - accuracy: 0.6826 - val_loss: 0.6676 - val_accuracy: 0.5625\n",
            "Epoch 42/250\n",
            "10/10 [==============================] - 4s 365ms/step - loss: 0.5784 - accuracy: 0.6883 - val_loss: 0.7244 - val_accuracy: 0.6875\n",
            "Epoch 43/250\n",
            "10/10 [==============================] - 4s 365ms/step - loss: 0.5747 - accuracy: 0.6828 - val_loss: 0.7740 - val_accuracy: 0.5938\n",
            "Epoch 44/250\n",
            "10/10 [==============================] - 4s 362ms/step - loss: 0.5576 - accuracy: 0.7164 - val_loss: 0.6721 - val_accuracy: 0.5938\n",
            "Epoch 45/250\n",
            "10/10 [==============================] - 4s 358ms/step - loss: 0.5484 - accuracy: 0.7175 - val_loss: 0.6400 - val_accuracy: 0.6250\n",
            "Epoch 46/250\n",
            "10/10 [==============================] - 4s 364ms/step - loss: 0.5480 - accuracy: 0.7119 - val_loss: 0.7324 - val_accuracy: 0.5469\n",
            "Epoch 47/250\n",
            "10/10 [==============================] - 4s 370ms/step - loss: 0.5414 - accuracy: 0.7180 - val_loss: 0.7299 - val_accuracy: 0.5625\n",
            "Epoch 48/250\n",
            "10/10 [==============================] - 4s 365ms/step - loss: 0.5290 - accuracy: 0.7330 - val_loss: 0.6346 - val_accuracy: 0.6719\n",
            "Epoch 49/250\n",
            "10/10 [==============================] - 4s 366ms/step - loss: 0.5055 - accuracy: 0.7648 - val_loss: 0.8613 - val_accuracy: 0.6250\n",
            "Epoch 50/250\n",
            "10/10 [==============================] - 4s 358ms/step - loss: 0.5091 - accuracy: 0.7352 - val_loss: 0.6142 - val_accuracy: 0.6094\n",
            "Epoch 51/250\n",
            "10/10 [==============================] - 4s 353ms/step - loss: 0.4804 - accuracy: 0.7727 - val_loss: 0.7390 - val_accuracy: 0.5938\n",
            "Epoch 52/250\n",
            "10/10 [==============================] - 4s 365ms/step - loss: 0.4691 - accuracy: 0.7727 - val_loss: 0.6190 - val_accuracy: 0.7031\n",
            "Epoch 53/250\n",
            "10/10 [==============================] - 4s 352ms/step - loss: 0.4543 - accuracy: 0.7776 - val_loss: 0.6443 - val_accuracy: 0.7031\n",
            "Epoch 54/250\n",
            "10/10 [==============================] - 4s 352ms/step - loss: 0.4389 - accuracy: 0.7881 - val_loss: 0.6527 - val_accuracy: 0.5938\n",
            "Epoch 55/250\n",
            "10/10 [==============================] - 4s 364ms/step - loss: 0.4386 - accuracy: 0.7883 - val_loss: 0.8475 - val_accuracy: 0.5000\n",
            "Epoch 56/250\n",
            "10/10 [==============================] - 4s 351ms/step - loss: 0.4138 - accuracy: 0.8157 - val_loss: 0.8713 - val_accuracy: 0.5938\n",
            "Epoch 57/250\n",
            "10/10 [==============================] - 3s 349ms/step - loss: 0.3835 - accuracy: 0.8271 - val_loss: 0.7475 - val_accuracy: 0.6094\n",
            "Epoch 58/250\n",
            "10/10 [==============================] - 4s 366ms/step - loss: 0.3831 - accuracy: 0.8287 - val_loss: 1.5308 - val_accuracy: 0.6406\n",
            "Epoch 59/250\n",
            "10/10 [==============================] - 4s 367ms/step - loss: 0.3648 - accuracy: 0.8375 - val_loss: 0.7680 - val_accuracy: 0.5781\n",
            "Epoch 60/250\n",
            "10/10 [==============================] - 4s 358ms/step - loss: 0.3510 - accuracy: 0.8453 - val_loss: 0.6229 - val_accuracy: 0.7188\n",
            "Epoch 61/250\n",
            "10/10 [==============================] - 3s 347ms/step - loss: 0.3481 - accuracy: 0.8425 - val_loss: 0.6828 - val_accuracy: 0.6562\n",
            "Epoch 62/250\n",
            "10/10 [==============================] - 4s 358ms/step - loss: 0.3249 - accuracy: 0.8680 - val_loss: 0.9156 - val_accuracy: 0.6094\n",
            "Epoch 63/250\n",
            "10/10 [==============================] - 4s 356ms/step - loss: 0.3013 - accuracy: 0.8813 - val_loss: 0.7884 - val_accuracy: 0.6875\n",
            "Epoch 64/250\n",
            "10/10 [==============================] - 4s 368ms/step - loss: 0.2958 - accuracy: 0.8727 - val_loss: 1.1762 - val_accuracy: 0.6562\n",
            "Epoch 65/250\n",
            "10/10 [==============================] - 4s 357ms/step - loss: 0.3074 - accuracy: 0.8612 - val_loss: 1.0797 - val_accuracy: 0.5781\n",
            "Epoch 66/250\n",
            "10/10 [==============================] - 4s 366ms/step - loss: 0.2760 - accuracy: 0.8852 - val_loss: 0.8292 - val_accuracy: 0.6875\n",
            "Epoch 67/250\n",
            "10/10 [==============================] - 4s 369ms/step - loss: 0.2788 - accuracy: 0.8930 - val_loss: 0.7807 - val_accuracy: 0.7188\n",
            "Epoch 68/250\n",
            "10/10 [==============================] - 3s 349ms/step - loss: 0.2565 - accuracy: 0.8937 - val_loss: 1.3163 - val_accuracy: 0.5000\n",
            "Epoch 69/250\n",
            "10/10 [==============================] - 4s 357ms/step - loss: 0.2295 - accuracy: 0.9062 - val_loss: 1.1512 - val_accuracy: 0.6250\n",
            "Epoch 70/250\n",
            "10/10 [==============================] - 4s 354ms/step - loss: 0.2336 - accuracy: 0.9034 - val_loss: 1.7962 - val_accuracy: 0.6562\n",
            "Epoch 71/250\n",
            "10/10 [==============================] - 4s 365ms/step - loss: 0.2230 - accuracy: 0.9047 - val_loss: 1.1352 - val_accuracy: 0.5781\n",
            "Epoch 72/250\n",
            "10/10 [==============================] - 4s 359ms/step - loss: 0.2135 - accuracy: 0.9164 - val_loss: 1.2791 - val_accuracy: 0.6094\n",
            "Epoch 73/250\n",
            "10/10 [==============================] - 4s 352ms/step - loss: 0.2136 - accuracy: 0.9156 - val_loss: 1.0849 - val_accuracy: 0.5000\n",
            "Epoch 74/250\n",
            "10/10 [==============================] - 4s 364ms/step - loss: 0.2040 - accuracy: 0.9133 - val_loss: 1.1948 - val_accuracy: 0.6094\n",
            "Epoch 75/250\n",
            "10/10 [==============================] - 4s 367ms/step - loss: 0.1848 - accuracy: 0.9320 - val_loss: 1.2765 - val_accuracy: 0.5781\n",
            "Epoch 76/250\n",
            "10/10 [==============================] - 4s 369ms/step - loss: 0.1698 - accuracy: 0.9336 - val_loss: 1.4535 - val_accuracy: 0.6250\n",
            "Epoch 77/250\n",
            "10/10 [==============================] - 4s 356ms/step - loss: 0.1573 - accuracy: 0.9472 - val_loss: 1.7308 - val_accuracy: 0.5625\n",
            "Epoch 78/250\n",
            "10/10 [==============================] - 4s 356ms/step - loss: 0.1492 - accuracy: 0.9424 - val_loss: 1.4923 - val_accuracy: 0.6094\n",
            "Epoch 79/250\n",
            "10/10 [==============================] - 4s 368ms/step - loss: 0.1414 - accuracy: 0.9523 - val_loss: 2.7073 - val_accuracy: 0.6250\n",
            "Epoch 80/250\n",
            "10/10 [==============================] - 4s 366ms/step - loss: 0.1336 - accuracy: 0.9500 - val_loss: 1.1483 - val_accuracy: 0.6562\n",
            "Epoch 81/250\n",
            "10/10 [==============================] - 4s 366ms/step - loss: 0.1064 - accuracy: 0.9692 - val_loss: 1.4771 - val_accuracy: 0.5000\n",
            "Epoch 82/250\n",
            "10/10 [==============================] - 4s 364ms/step - loss: 0.1060 - accuracy: 0.9594 - val_loss: 1.3580 - val_accuracy: 0.6562\n",
            "Epoch 83/250\n",
            "10/10 [==============================] - 4s 370ms/step - loss: 0.0965 - accuracy: 0.9680 - val_loss: 1.3647 - val_accuracy: 0.6719\n",
            "Epoch 84/250\n",
            "10/10 [==============================] - 4s 357ms/step - loss: 0.0954 - accuracy: 0.9724 - val_loss: 1.7791 - val_accuracy: 0.5938\n",
            "Epoch 85/250\n",
            "10/10 [==============================] - 4s 370ms/step - loss: 0.1010 - accuracy: 0.9664 - val_loss: 1.6539 - val_accuracy: 0.5781\n",
            "Epoch 86/250\n",
            "10/10 [==============================] - 4s 357ms/step - loss: 0.0961 - accuracy: 0.9692 - val_loss: 1.0458 - val_accuracy: 0.7031\n",
            "Epoch 87/250\n",
            "10/10 [==============================] - 4s 370ms/step - loss: 0.0922 - accuracy: 0.9688 - val_loss: 1.5428 - val_accuracy: 0.6250\n",
            "Epoch 88/250\n",
            "10/10 [==============================] - 4s 373ms/step - loss: 0.1001 - accuracy: 0.9680 - val_loss: 1.4242 - val_accuracy: 0.6250\n",
            "Epoch 89/250\n",
            "10/10 [==============================] - 4s 360ms/step - loss: 0.0835 - accuracy: 0.9750 - val_loss: 2.4346 - val_accuracy: 0.5938\n",
            "Epoch 90/250\n",
            "10/10 [==============================] - 4s 358ms/step - loss: 0.0966 - accuracy: 0.9648 - val_loss: 3.3070 - val_accuracy: 0.7031\n",
            "Epoch 91/250\n",
            "10/10 [==============================] - 4s 368ms/step - loss: 0.0788 - accuracy: 0.9719 - val_loss: 2.4152 - val_accuracy: 0.5781\n",
            "Epoch 92/250\n",
            "10/10 [==============================] - 4s 354ms/step - loss: 0.0599 - accuracy: 0.9830 - val_loss: 1.2858 - val_accuracy: 0.6406\n",
            "Epoch 93/250\n",
            "10/10 [==============================] - 4s 356ms/step - loss: 0.0600 - accuracy: 0.9830 - val_loss: 2.1348 - val_accuracy: 0.5625\n",
            "Epoch 94/250\n",
            "10/10 [==============================] - 4s 356ms/step - loss: 0.0655 - accuracy: 0.9740 - val_loss: 1.2620 - val_accuracy: 0.6250\n",
            "Epoch 95/250\n",
            "10/10 [==============================] - 4s 368ms/step - loss: 0.0665 - accuracy: 0.9758 - val_loss: 2.2082 - val_accuracy: 0.6094\n",
            "Epoch 96/250\n",
            "10/10 [==============================] - 4s 365ms/step - loss: 0.0486 - accuracy: 0.9846 - val_loss: 1.2049 - val_accuracy: 0.6719\n",
            "Epoch 97/250\n",
            "10/10 [==============================] - 4s 359ms/step - loss: 0.0601 - accuracy: 0.9789 - val_loss: 3.2375 - val_accuracy: 0.5312\n",
            "Epoch 98/250\n",
            "10/10 [==============================] - 4s 356ms/step - loss: 0.0705 - accuracy: 0.9765 - val_loss: 1.8854 - val_accuracy: 0.7188\n",
            "Epoch 99/250\n",
            "10/10 [==============================] - 4s 366ms/step - loss: 0.0631 - accuracy: 0.9852 - val_loss: 2.4313 - val_accuracy: 0.6406\n",
            "Epoch 100/250\n",
            "10/10 [==============================] - 4s 355ms/step - loss: 0.0538 - accuracy: 0.9789 - val_loss: 1.1624 - val_accuracy: 0.6719\n",
            "Epoch 101/250\n",
            "10/10 [==============================] - 3s 348ms/step - loss: 0.0504 - accuracy: 0.9838 - val_loss: 2.3150 - val_accuracy: 0.5469\n",
            "Epoch 102/250\n",
            "10/10 [==============================] - 4s 361ms/step - loss: 0.0520 - accuracy: 0.9852 - val_loss: 2.3123 - val_accuracy: 0.5625\n",
            "Epoch 103/250\n",
            "10/10 [==============================] - 4s 359ms/step - loss: 0.0611 - accuracy: 0.9797 - val_loss: 2.4357 - val_accuracy: 0.6250\n",
            "Epoch 104/250\n",
            "10/10 [==============================] - 4s 368ms/step - loss: 0.0500 - accuracy: 0.9883 - val_loss: 1.4027 - val_accuracy: 0.6406\n",
            "Epoch 105/250\n",
            "10/10 [==============================] - 4s 359ms/step - loss: 0.0433 - accuracy: 0.9870 - val_loss: 2.4690 - val_accuracy: 0.5625\n",
            "Epoch 106/250\n",
            "10/10 [==============================] - 4s 360ms/step - loss: 0.0500 - accuracy: 0.9838 - val_loss: 2.6117 - val_accuracy: 0.5469\n",
            "Epoch 107/250\n",
            "10/10 [==============================] - 4s 359ms/step - loss: 0.0406 - accuracy: 0.9862 - val_loss: 2.3442 - val_accuracy: 0.5625\n",
            "Epoch 108/250\n",
            "10/10 [==============================] - 4s 362ms/step - loss: 0.0418 - accuracy: 0.9878 - val_loss: 2.3417 - val_accuracy: 0.5781\n",
            "Epoch 109/250\n",
            "10/10 [==============================] - 4s 366ms/step - loss: 0.0404 - accuracy: 0.9854 - val_loss: 3.4640 - val_accuracy: 0.5781\n",
            "Epoch 110/250\n",
            "10/10 [==============================] - 4s 354ms/step - loss: 0.0334 - accuracy: 0.9894 - val_loss: 2.0665 - val_accuracy: 0.5781\n",
            "Epoch 111/250\n",
            "10/10 [==============================] - 4s 361ms/step - loss: 0.0427 - accuracy: 0.9870 - val_loss: 2.1665 - val_accuracy: 0.6719\n",
            "Epoch 112/250\n",
            "10/10 [==============================] - 4s 374ms/step - loss: 0.0430 - accuracy: 0.9859 - val_loss: 1.9901 - val_accuracy: 0.7031\n",
            "Epoch 113/250\n",
            "10/10 [==============================] - 4s 377ms/step - loss: 0.0510 - accuracy: 0.9836 - val_loss: 2.0255 - val_accuracy: 0.5625\n",
            "Epoch 114/250\n",
            "10/10 [==============================] - 4s 356ms/step - loss: 0.0438 - accuracy: 0.9854 - val_loss: 2.9682 - val_accuracy: 0.5625\n",
            "Epoch 115/250\n",
            "10/10 [==============================] - 4s 365ms/step - loss: 0.0495 - accuracy: 0.9830 - val_loss: 1.9542 - val_accuracy: 0.6094\n",
            "Epoch 116/250\n",
            "10/10 [==============================] - 4s 353ms/step - loss: 0.0586 - accuracy: 0.9773 - val_loss: 2.0045 - val_accuracy: 0.6875\n",
            "Epoch 117/250\n",
            "10/10 [==============================] - 4s 359ms/step - loss: 0.0382 - accuracy: 0.9894 - val_loss: 1.5971 - val_accuracy: 0.6562\n",
            "Epoch 118/250\n",
            "10/10 [==============================] - 4s 371ms/step - loss: 0.0331 - accuracy: 0.9937 - val_loss: 1.7559 - val_accuracy: 0.6719\n",
            "Epoch 119/250\n",
            "10/10 [==============================] - 4s 364ms/step - loss: 0.0496 - accuracy: 0.9852 - val_loss: 2.2968 - val_accuracy: 0.5938\n",
            "Epoch 120/250\n",
            "10/10 [==============================] - 4s 358ms/step - loss: 0.0301 - accuracy: 0.9919 - val_loss: 2.2641 - val_accuracy: 0.7031\n",
            "Epoch 121/250\n",
            "10/10 [==============================] - 4s 358ms/step - loss: 0.0282 - accuracy: 0.9927 - val_loss: 2.2173 - val_accuracy: 0.5938\n",
            "Epoch 122/250\n",
            "10/10 [==============================] - 4s 361ms/step - loss: 0.0262 - accuracy: 0.9930 - val_loss: 2.6971 - val_accuracy: 0.5781\n",
            "Epoch 123/250\n",
            "10/10 [==============================] - 4s 355ms/step - loss: 0.0341 - accuracy: 0.9886 - val_loss: 2.6083 - val_accuracy: 0.6250\n",
            "Epoch 124/250\n",
            "10/10 [==============================] - 4s 357ms/step - loss: 0.0310 - accuracy: 0.9919 - val_loss: 1.7424 - val_accuracy: 0.6875\n",
            "Epoch 125/250\n",
            "10/10 [==============================] - 4s 369ms/step - loss: 0.0388 - accuracy: 0.9891 - val_loss: 4.4177 - val_accuracy: 0.5938\n",
            "Epoch 126/250\n",
            "10/10 [==============================] - 4s 360ms/step - loss: 0.0496 - accuracy: 0.9846 - val_loss: 2.1966 - val_accuracy: 0.6562\n",
            "Epoch 127/250\n",
            "10/10 [==============================] - 4s 362ms/step - loss: 0.0195 - accuracy: 0.9984 - val_loss: 2.8094 - val_accuracy: 0.6406\n",
            "Epoch 128/250\n",
            "10/10 [==============================] - 4s 372ms/step - loss: 0.0255 - accuracy: 0.9906 - val_loss: 3.0670 - val_accuracy: 0.4844\n",
            "Epoch 129/250\n",
            "10/10 [==============================] - 4s 370ms/step - loss: 0.0254 - accuracy: 0.9930 - val_loss: 2.0259 - val_accuracy: 0.5938\n",
            "Epoch 130/250\n",
            "10/10 [==============================] - 4s 354ms/step - loss: 0.0267 - accuracy: 0.9927 - val_loss: 2.2873 - val_accuracy: 0.5938\n",
            "Epoch 131/250\n",
            "10/10 [==============================] - 4s 358ms/step - loss: 0.0270 - accuracy: 0.9927 - val_loss: 3.8625 - val_accuracy: 0.6250\n",
            "Epoch 132/250\n",
            "10/10 [==============================] - 4s 368ms/step - loss: 0.0357 - accuracy: 0.9883 - val_loss: 1.9899 - val_accuracy: 0.6406\n",
            "Epoch 133/250\n",
            "10/10 [==============================] - 4s 372ms/step - loss: 0.0386 - accuracy: 0.9875 - val_loss: 2.4141 - val_accuracy: 0.6250\n",
            "Epoch 134/250\n",
            "10/10 [==============================] - 4s 357ms/step - loss: 0.0341 - accuracy: 0.9919 - val_loss: 2.6517 - val_accuracy: 0.5781\n",
            "Epoch 135/250\n",
            "10/10 [==============================] - 4s 373ms/step - loss: 0.0292 - accuracy: 0.9914 - val_loss: 2.8279 - val_accuracy: 0.5938\n",
            "Epoch 136/250\n",
            "10/10 [==============================] - 4s 360ms/step - loss: 0.0414 - accuracy: 0.9878 - val_loss: 3.0012 - val_accuracy: 0.4844\n",
            "Epoch 137/250\n",
            "10/10 [==============================] - 4s 355ms/step - loss: 0.0491 - accuracy: 0.9862 - val_loss: 2.4807 - val_accuracy: 0.5625\n",
            "Epoch 138/250\n",
            "10/10 [==============================] - 4s 366ms/step - loss: 0.0238 - accuracy: 0.9937 - val_loss: 2.5134 - val_accuracy: 0.5312\n",
            "Epoch 139/250\n",
            "10/10 [==============================] - 4s 366ms/step - loss: 0.0220 - accuracy: 0.9930 - val_loss: 3.8395 - val_accuracy: 0.5469\n",
            "Epoch 140/250\n",
            "10/10 [==============================] - 4s 371ms/step - loss: 0.0169 - accuracy: 0.9945 - val_loss: 3.3015 - val_accuracy: 0.5781\n",
            "Epoch 141/250\n",
            "10/10 [==============================] - 4s 360ms/step - loss: 0.0196 - accuracy: 0.9935 - val_loss: 3.7042 - val_accuracy: 0.5938\n",
            "Epoch 142/250\n",
            "10/10 [==============================] - 4s 363ms/step - loss: 0.0264 - accuracy: 0.9922 - val_loss: 2.2390 - val_accuracy: 0.6094\n",
            "Epoch 143/250\n",
            "10/10 [==============================] - 4s 358ms/step - loss: 0.0158 - accuracy: 0.9959 - val_loss: 3.5065 - val_accuracy: 0.5938\n",
            "Epoch 144/250\n",
            "10/10 [==============================] - 4s 371ms/step - loss: 0.0189 - accuracy: 0.9945 - val_loss: 4.1225 - val_accuracy: 0.5938\n",
            "Epoch 145/250\n",
            "10/10 [==============================] - 4s 356ms/step - loss: 0.0352 - accuracy: 0.9870 - val_loss: 2.1962 - val_accuracy: 0.6094\n",
            "Epoch 146/250\n",
            "10/10 [==============================] - 4s 367ms/step - loss: 0.0190 - accuracy: 0.9953 - val_loss: 1.1785 - val_accuracy: 0.6562\n",
            "Epoch 147/250\n",
            "10/10 [==============================] - 4s 361ms/step - loss: 0.0151 - accuracy: 0.9968 - val_loss: 3.6621 - val_accuracy: 0.5469\n",
            "Epoch 148/250\n",
            "10/10 [==============================] - 4s 363ms/step - loss: 0.0182 - accuracy: 0.9943 - val_loss: 1.8209 - val_accuracy: 0.6406\n",
            "Epoch 149/250\n",
            "10/10 [==============================] - 4s 353ms/step - loss: 0.0310 - accuracy: 0.9919 - val_loss: 3.0570 - val_accuracy: 0.6406\n",
            "Epoch 150/250\n",
            "10/10 [==============================] - 4s 356ms/step - loss: 0.0263 - accuracy: 0.9886 - val_loss: 3.7016 - val_accuracy: 0.5156\n",
            "Epoch 151/250\n",
            "10/10 [==============================] - 4s 365ms/step - loss: 0.0194 - accuracy: 0.9953 - val_loss: 1.8579 - val_accuracy: 0.6250\n",
            "Epoch 152/250\n",
            "10/10 [==============================] - 4s 369ms/step - loss: 0.0335 - accuracy: 0.9906 - val_loss: 2.0396 - val_accuracy: 0.6875\n",
            "Epoch 153/250\n",
            "10/10 [==============================] - 4s 361ms/step - loss: 0.0240 - accuracy: 0.9919 - val_loss: 3.1988 - val_accuracy: 0.5781\n",
            "Epoch 154/250\n",
            "10/10 [==============================] - 4s 353ms/step - loss: 0.0267 - accuracy: 0.9903 - val_loss: 2.1264 - val_accuracy: 0.6250\n",
            "Epoch 155/250\n",
            "10/10 [==============================] - 4s 354ms/step - loss: 0.0241 - accuracy: 0.9903 - val_loss: 1.9011 - val_accuracy: 0.6250\n",
            "Epoch 156/250\n",
            "10/10 [==============================] - 4s 356ms/step - loss: 0.0221 - accuracy: 0.9927 - val_loss: 2.5169 - val_accuracy: 0.6875\n",
            "Epoch 157/250\n",
            "10/10 [==============================] - 4s 369ms/step - loss: 0.0322 - accuracy: 0.9891 - val_loss: 2.9003 - val_accuracy: 0.6250\n",
            "Epoch 158/250\n",
            "10/10 [==============================] - 4s 370ms/step - loss: 0.0321 - accuracy: 0.9886 - val_loss: 2.7551 - val_accuracy: 0.5781\n",
            "Epoch 159/250\n",
            "10/10 [==============================] - 4s 367ms/step - loss: 0.0197 - accuracy: 0.9953 - val_loss: 3.0182 - val_accuracy: 0.5625\n",
            "Epoch 160/250\n",
            "10/10 [==============================] - 4s 365ms/step - loss: 0.0199 - accuracy: 0.9961 - val_loss: 3.4690 - val_accuracy: 0.6094\n",
            "Epoch 161/250\n",
            "10/10 [==============================] - 4s 351ms/step - loss: 0.0210 - accuracy: 0.9943 - val_loss: 2.6208 - val_accuracy: 0.6250\n",
            "Epoch 162/250\n",
            "10/10 [==============================] - 4s 361ms/step - loss: 0.0211 - accuracy: 0.9943 - val_loss: 2.4962 - val_accuracy: 0.5312\n",
            "Epoch 163/250\n",
            "10/10 [==============================] - 4s 364ms/step - loss: 0.0111 - accuracy: 0.9969 - val_loss: 2.3241 - val_accuracy: 0.6719\n",
            "Epoch 164/250\n",
            "10/10 [==============================] - 4s 369ms/step - loss: 0.0137 - accuracy: 0.9961 - val_loss: 3.4975 - val_accuracy: 0.6094\n",
            "Epoch 165/250\n",
            "10/10 [==============================] - 4s 373ms/step - loss: 0.0260 - accuracy: 0.9930 - val_loss: 1.6304 - val_accuracy: 0.6719\n",
            "Epoch 166/250\n",
            "10/10 [==============================] - 4s 361ms/step - loss: 0.0188 - accuracy: 0.9951 - val_loss: 2.4796 - val_accuracy: 0.6719\n",
            "Epoch 167/250\n",
            "10/10 [==============================] - 4s 372ms/step - loss: 0.0123 - accuracy: 0.9977 - val_loss: 3.5552 - val_accuracy: 0.5000\n",
            "Epoch 168/250\n",
            "10/10 [==============================] - 4s 367ms/step - loss: 0.0112 - accuracy: 0.9945 - val_loss: 3.5702 - val_accuracy: 0.6250\n",
            "Epoch 169/250\n",
            "10/10 [==============================] - 4s 372ms/step - loss: 0.0153 - accuracy: 0.9945 - val_loss: 3.2292 - val_accuracy: 0.5938\n",
            "Epoch 170/250\n",
            "10/10 [==============================] - 4s 359ms/step - loss: 0.0398 - accuracy: 0.9977 - val_loss: 3.2900 - val_accuracy: 0.6094\n",
            "Epoch 171/250\n",
            "10/10 [==============================] - 4s 364ms/step - loss: 0.0338 - accuracy: 0.9891 - val_loss: 5.1024 - val_accuracy: 0.5625\n",
            "Epoch 172/250\n",
            "10/10 [==============================] - 4s 366ms/step - loss: 0.0262 - accuracy: 0.9930 - val_loss: 3.1405 - val_accuracy: 0.6250\n",
            "Epoch 173/250\n",
            "10/10 [==============================] - 4s 357ms/step - loss: 0.0397 - accuracy: 0.9862 - val_loss: 3.0189 - val_accuracy: 0.5312\n",
            "Epoch 174/250\n",
            "10/10 [==============================] - 4s 356ms/step - loss: 0.0358 - accuracy: 0.9854 - val_loss: 3.5819 - val_accuracy: 0.6406\n",
            "Epoch 175/250\n",
            "10/10 [==============================] - 4s 368ms/step - loss: 0.0563 - accuracy: 0.9812 - val_loss: 2.1787 - val_accuracy: 0.6250\n",
            "Epoch 176/250\n",
            "10/10 [==============================] - 4s 356ms/step - loss: 0.0271 - accuracy: 0.9919 - val_loss: 1.7623 - val_accuracy: 0.6562\n",
            "Epoch 177/250\n",
            "10/10 [==============================] - 4s 366ms/step - loss: 0.0175 - accuracy: 0.9977 - val_loss: 3.5137 - val_accuracy: 0.5156\n",
            "Epoch 178/250\n",
            "10/10 [==============================] - 4s 353ms/step - loss: 0.0217 - accuracy: 0.9943 - val_loss: 2.6650 - val_accuracy: 0.6094\n",
            "Epoch 179/250\n",
            "10/10 [==============================] - 4s 362ms/step - loss: 0.0170 - accuracy: 0.9953 - val_loss: 1.7546 - val_accuracy: 0.6719\n",
            "Epoch 180/250\n",
            "10/10 [==============================] - 4s 358ms/step - loss: 0.0094 - accuracy: 0.9992 - val_loss: 3.2299 - val_accuracy: 0.5781\n",
            "Epoch 181/250\n",
            "10/10 [==============================] - 4s 369ms/step - loss: 0.0101 - accuracy: 0.9977 - val_loss: 2.0363 - val_accuracy: 0.7500\n",
            "Epoch 182/250\n",
            "10/10 [==============================] - 4s 356ms/step - loss: 0.0165 - accuracy: 0.9968 - val_loss: 2.9144 - val_accuracy: 0.6719\n",
            "Epoch 183/250\n",
            "10/10 [==============================] - 4s 357ms/step - loss: 0.0164 - accuracy: 0.9951 - val_loss: 3.1266 - val_accuracy: 0.6094\n",
            "Epoch 184/250\n",
            "10/10 [==============================] - 4s 370ms/step - loss: 0.0150 - accuracy: 0.9945 - val_loss: 3.1052 - val_accuracy: 0.5625\n",
            "Epoch 185/250\n",
            "10/10 [==============================] - 4s 371ms/step - loss: 0.0151 - accuracy: 0.9969 - val_loss: 1.9046 - val_accuracy: 0.6875\n",
            "Epoch 186/250\n",
            "10/10 [==============================] - 4s 354ms/step - loss: 0.0125 - accuracy: 0.9968 - val_loss: 3.1451 - val_accuracy: 0.6250\n",
            "Epoch 187/250\n",
            "10/10 [==============================] - 4s 370ms/step - loss: 0.0184 - accuracy: 0.9943 - val_loss: 4.4772 - val_accuracy: 0.5312\n",
            "Epoch 188/250\n",
            "10/10 [==============================] - 4s 377ms/step - loss: 0.0167 - accuracy: 0.9961 - val_loss: 2.7335 - val_accuracy: 0.5625\n",
            "Epoch 189/250\n",
            "10/10 [==============================] - 4s 364ms/step - loss: 0.0083 - accuracy: 0.9976 - val_loss: 3.3110 - val_accuracy: 0.6250\n",
            "Epoch 190/250\n",
            "10/10 [==============================] - 4s 362ms/step - loss: 0.0086 - accuracy: 0.9976 - val_loss: 3.9009 - val_accuracy: 0.6562\n",
            "Epoch 191/250\n",
            "10/10 [==============================] - 4s 353ms/step - loss: 0.0245 - accuracy: 0.9943 - val_loss: 2.1928 - val_accuracy: 0.6406\n",
            "Epoch 192/250\n",
            "10/10 [==============================] - 4s 368ms/step - loss: 0.0141 - accuracy: 0.9930 - val_loss: 2.4415 - val_accuracy: 0.6250\n",
            "Epoch 193/250\n",
            "10/10 [==============================] - 4s 358ms/step - loss: 0.0174 - accuracy: 0.9984 - val_loss: 1.7828 - val_accuracy: 0.6875\n",
            "Epoch 194/250\n",
            "10/10 [==============================] - 4s 366ms/step - loss: 0.0173 - accuracy: 0.9945 - val_loss: 3.8733 - val_accuracy: 0.5625\n",
            "Epoch 195/250\n",
            "10/10 [==============================] - 4s 367ms/step - loss: 0.0145 - accuracy: 0.9961 - val_loss: 3.5396 - val_accuracy: 0.6875\n",
            "Epoch 196/250\n",
            "10/10 [==============================] - 4s 364ms/step - loss: 0.0188 - accuracy: 0.9937 - val_loss: 3.4275 - val_accuracy: 0.6094\n",
            "Epoch 197/250\n",
            "10/10 [==============================] - 4s 351ms/step - loss: 0.0213 - accuracy: 0.9976 - val_loss: 1.9524 - val_accuracy: 0.7188\n",
            "Epoch 198/250\n",
            "10/10 [==============================] - 4s 360ms/step - loss: 0.0192 - accuracy: 0.9951 - val_loss: 2.6863 - val_accuracy: 0.6719\n",
            "Epoch 199/250\n",
            "10/10 [==============================] - 4s 354ms/step - loss: 0.0308 - accuracy: 0.9943 - val_loss: 1.5323 - val_accuracy: 0.7344\n",
            "Epoch 200/250\n",
            "10/10 [==============================] - 4s 370ms/step - loss: 0.0203 - accuracy: 0.9953 - val_loss: 2.9911 - val_accuracy: 0.6562\n",
            "Epoch 201/250\n",
            "10/10 [==============================] - 4s 357ms/step - loss: 0.0228 - accuracy: 0.9911 - val_loss: 3.4785 - val_accuracy: 0.5781\n",
            "Epoch 202/250\n",
            "10/10 [==============================] - 4s 371ms/step - loss: 0.0148 - accuracy: 0.9953 - val_loss: 3.6920 - val_accuracy: 0.5625\n",
            "Epoch 203/250\n",
            "10/10 [==============================] - 4s 368ms/step - loss: 0.0151 - accuracy: 0.9937 - val_loss: 3.1738 - val_accuracy: 0.5312\n",
            "Epoch 204/250\n",
            "10/10 [==============================] - 4s 357ms/step - loss: 0.0132 - accuracy: 0.9968 - val_loss: 1.6661 - val_accuracy: 0.7031\n",
            "Epoch 205/250\n",
            "10/10 [==============================] - 4s 369ms/step - loss: 0.0093 - accuracy: 0.9992 - val_loss: 2.1718 - val_accuracy: 0.6875\n",
            "Epoch 206/250\n",
            "10/10 [==============================] - 4s 353ms/step - loss: 0.0130 - accuracy: 0.9968 - val_loss: 3.2255 - val_accuracy: 0.5312\n",
            "Epoch 207/250\n",
            "10/10 [==============================] - 4s 370ms/step - loss: 0.0119 - accuracy: 0.9959 - val_loss: 2.7700 - val_accuracy: 0.6250\n",
            "Epoch 208/250\n",
            "10/10 [==============================] - 4s 367ms/step - loss: 0.0151 - accuracy: 0.9937 - val_loss: 2.6746 - val_accuracy: 0.5938\n",
            "Epoch 209/250\n",
            "10/10 [==============================] - 4s 361ms/step - loss: 0.0122 - accuracy: 0.9951 - val_loss: 2.2451 - val_accuracy: 0.6719\n",
            "Epoch 210/250\n",
            "10/10 [==============================] - 4s 350ms/step - loss: 0.0081 - accuracy: 0.9968 - val_loss: 2.4548 - val_accuracy: 0.6719\n",
            "Epoch 211/250\n",
            "10/10 [==============================] - 4s 368ms/step - loss: 0.0097 - accuracy: 0.9969 - val_loss: 2.9276 - val_accuracy: 0.6094\n",
            "Epoch 212/250\n",
            "10/10 [==============================] - 4s 365ms/step - loss: 0.0055 - accuracy: 1.0000 - val_loss: 2.4207 - val_accuracy: 0.6250\n",
            "Epoch 213/250\n",
            "10/10 [==============================] - 4s 361ms/step - loss: 0.0061 - accuracy: 1.0000 - val_loss: 1.5227 - val_accuracy: 0.6875\n",
            "Epoch 214/250\n",
            "10/10 [==============================] - 4s 371ms/step - loss: 0.0102 - accuracy: 0.9953 - val_loss: 2.1317 - val_accuracy: 0.7344\n",
            "Epoch 215/250\n",
            "10/10 [==============================] - 4s 358ms/step - loss: 0.0140 - accuracy: 0.9968 - val_loss: 2.8496 - val_accuracy: 0.5625\n",
            "Epoch 216/250\n",
            "10/10 [==============================] - 4s 366ms/step - loss: 0.0101 - accuracy: 0.9961 - val_loss: 5.8796 - val_accuracy: 0.5469\n",
            "Epoch 217/250\n",
            "10/10 [==============================] - 4s 368ms/step - loss: 0.0194 - accuracy: 0.9937 - val_loss: 3.8663 - val_accuracy: 0.5469\n",
            "Epoch 218/250\n",
            "10/10 [==============================] - 4s 356ms/step - loss: 0.0132 - accuracy: 0.9935 - val_loss: 2.3337 - val_accuracy: 0.5312\n",
            "Epoch 219/250\n",
            "10/10 [==============================] - 4s 372ms/step - loss: 0.0227 - accuracy: 0.9937 - val_loss: 6.8012 - val_accuracy: 0.5156\n",
            "Epoch 220/250\n",
            "10/10 [==============================] - 4s 355ms/step - loss: 0.0113 - accuracy: 0.9984 - val_loss: 3.9988 - val_accuracy: 0.6094\n",
            "Epoch 221/250\n",
            "10/10 [==============================] - 4s 369ms/step - loss: 0.0127 - accuracy: 0.9977 - val_loss: 3.4230 - val_accuracy: 0.5469\n",
            "Epoch 222/250\n",
            "10/10 [==============================] - 4s 370ms/step - loss: 0.0100 - accuracy: 0.9953 - val_loss: 3.6310 - val_accuracy: 0.5312\n",
            "Epoch 223/250\n",
            "10/10 [==============================] - 4s 369ms/step - loss: 0.0064 - accuracy: 0.9984 - val_loss: 3.1807 - val_accuracy: 0.5938\n",
            "Epoch 224/250\n",
            "10/10 [==============================] - 4s 357ms/step - loss: 0.0096 - accuracy: 0.9976 - val_loss: 2.5662 - val_accuracy: 0.6406\n",
            "Epoch 225/250\n",
            "10/10 [==============================] - 4s 353ms/step - loss: 0.0090 - accuracy: 0.9968 - val_loss: 3.3731 - val_accuracy: 0.5625\n",
            "Epoch 226/250\n",
            "10/10 [==============================] - 4s 360ms/step - loss: 0.0067 - accuracy: 0.9977 - val_loss: 3.4198 - val_accuracy: 0.5469\n",
            "Epoch 227/250\n",
            "10/10 [==============================] - 4s 372ms/step - loss: 0.0070 - accuracy: 0.9977 - val_loss: 2.8151 - val_accuracy: 0.6094\n",
            "Epoch 228/250\n",
            "10/10 [==============================] - 4s 363ms/step - loss: 0.0116 - accuracy: 0.9959 - val_loss: 3.8279 - val_accuracy: 0.7344\n",
            "Epoch 229/250\n",
            "10/10 [==============================] - 4s 360ms/step - loss: 0.0130 - accuracy: 0.9951 - val_loss: 2.0107 - val_accuracy: 0.7500\n",
            "Epoch 230/250\n",
            "10/10 [==============================] - 4s 359ms/step - loss: 0.0067 - accuracy: 0.9984 - val_loss: 4.5566 - val_accuracy: 0.5469\n",
            "Epoch 231/250\n",
            "10/10 [==============================] - 4s 358ms/step - loss: 0.0152 - accuracy: 0.9927 - val_loss: 5.0529 - val_accuracy: 0.5156\n",
            "Epoch 232/250\n",
            "10/10 [==============================] - 4s 355ms/step - loss: 0.0096 - accuracy: 0.9984 - val_loss: 4.0156 - val_accuracy: 0.6406\n",
            "Epoch 233/250\n",
            "10/10 [==============================] - 4s 354ms/step - loss: 0.0061 - accuracy: 0.9984 - val_loss: 3.2669 - val_accuracy: 0.6875\n",
            "Epoch 234/250\n",
            "10/10 [==============================] - 4s 352ms/step - loss: 0.0103 - accuracy: 0.9968 - val_loss: 2.9568 - val_accuracy: 0.6250\n",
            "Epoch 235/250\n",
            "10/10 [==============================] - 4s 354ms/step - loss: 0.0050 - accuracy: 0.9992 - val_loss: 3.3266 - val_accuracy: 0.6719\n",
            "Epoch 236/250\n",
            "10/10 [==============================] - 4s 370ms/step - loss: 0.0094 - accuracy: 0.9984 - val_loss: 2.9360 - val_accuracy: 0.6094\n",
            "Epoch 237/250\n",
            "10/10 [==============================] - 4s 355ms/step - loss: 0.0042 - accuracy: 0.9992 - val_loss: 3.4665 - val_accuracy: 0.6562\n",
            "Epoch 238/250\n",
            "10/10 [==============================] - 4s 353ms/step - loss: 0.0044 - accuracy: 0.9992 - val_loss: 3.9282 - val_accuracy: 0.5938\n",
            "Epoch 239/250\n",
            "10/10 [==============================] - 4s 360ms/step - loss: 0.0121 - accuracy: 0.9961 - val_loss: 3.3489 - val_accuracy: 0.6875\n",
            "Epoch 240/250\n",
            "10/10 [==============================] - 4s 353ms/step - loss: 0.0286 - accuracy: 0.9943 - val_loss: 3.7623 - val_accuracy: 0.4844\n",
            "Epoch 241/250\n",
            "10/10 [==============================] - 4s 366ms/step - loss: 0.0115 - accuracy: 0.9953 - val_loss: 4.3854 - val_accuracy: 0.7344\n",
            "Epoch 242/250\n",
            "10/10 [==============================] - 4s 354ms/step - loss: 0.0190 - accuracy: 0.9943 - val_loss: 3.2840 - val_accuracy: 0.6406\n",
            "Epoch 243/250\n",
            "10/10 [==============================] - 4s 356ms/step - loss: 0.0093 - accuracy: 0.9984 - val_loss: 3.4092 - val_accuracy: 0.5469\n",
            "Epoch 244/250\n",
            "10/10 [==============================] - 4s 355ms/step - loss: 0.0146 - accuracy: 0.9976 - val_loss: 3.8430 - val_accuracy: 0.5781\n",
            "Epoch 245/250\n",
            "10/10 [==============================] - 4s 367ms/step - loss: 0.0143 - accuracy: 0.9922 - val_loss: 3.3263 - val_accuracy: 0.5469\n",
            "Epoch 246/250\n",
            "10/10 [==============================] - 4s 366ms/step - loss: 0.0096 - accuracy: 0.9953 - val_loss: 3.3139 - val_accuracy: 0.5938\n",
            "Epoch 247/250\n",
            "10/10 [==============================] - 4s 354ms/step - loss: 0.0134 - accuracy: 0.9976 - val_loss: 3.2677 - val_accuracy: 0.5625\n",
            "Epoch 248/250\n",
            "10/10 [==============================] - 4s 357ms/step - loss: 0.0106 - accuracy: 0.9959 - val_loss: 4.0882 - val_accuracy: 0.5156\n",
            "Epoch 249/250\n",
            "10/10 [==============================] - 4s 360ms/step - loss: 0.0097 - accuracy: 0.9959 - val_loss: 4.3304 - val_accuracy: 0.5781\n",
            "Epoch 250/250\n",
            "10/10 [==============================] - 4s 356ms/step - loss: 0.0152 - accuracy: 0.9943 - val_loss: 2.8113 - val_accuracy: 0.5156\n"
          ],
          "name": "stdout"
        }
      ]
    },
    {
      "cell_type": "code",
      "metadata": {
        "id": "pZ59EsC8JzYv"
      },
      "source": [
        ""
      ],
      "execution_count": null,
      "outputs": []
    },
    {
      "cell_type": "code",
      "metadata": {
        "id": "NWnXNC_7JzRW"
      },
      "source": [
        ""
      ],
      "execution_count": null,
      "outputs": []
    },
    {
      "cell_type": "code",
      "metadata": {
        "id": "c9bASzzIJzKW"
      },
      "source": [
        ""
      ],
      "execution_count": null,
      "outputs": []
    },
    {
      "cell_type": "markdown",
      "metadata": {
        "id": "ytEMqdRTCiME"
      },
      "source": [
        "# LeNet for MNIST"
      ]
    },
    {
      "cell_type": "code",
      "metadata": {
        "id": "aooOjZ8-Cj-r"
      },
      "source": [
        "mnist = keras.datasets.mnist"
      ],
      "execution_count": null,
      "outputs": []
    },
    {
      "cell_type": "code",
      "metadata": {
        "id": "_iqfBI2aCqgG",
        "outputId": "1919fab3-1a78-4f0f-d762-8e6f9ffc374b",
        "colab": {
          "base_uri": "https://localhost:8080/"
        }
      },
      "source": [
        "(x_train, y_train), (x_test, y_test)  = mnist.load_data()"
      ],
      "execution_count": null,
      "outputs": [
        {
          "output_type": "stream",
          "text": [
            "Downloading data from https://storage.googleapis.com/tensorflow/tf-keras-datasets/mnist.npz\n",
            "11493376/11490434 [==============================] - 0s 0us/step\n"
          ],
          "name": "stdout"
        }
      ]
    },
    {
      "cell_type": "code",
      "metadata": {
        "id": "NzwmdWSdEvRJ"
      },
      "source": [
        "(x_train, y_train), (x_test, y_test) = (x_train/255., y_train), (x_test/255., y_test)"
      ],
      "execution_count": null,
      "outputs": []
    },
    {
      "cell_type": "code",
      "metadata": {
        "id": "2Xn7EJu8DVi7",
        "outputId": "3934ab00-5d6b-4c16-e4c9-e3874c287568",
        "colab": {
          "base_uri": "https://localhost:8080/"
        }
      },
      "source": [
        "!nvidia-smi"
      ],
      "execution_count": null,
      "outputs": [
        {
          "output_type": "stream",
          "text": [
            "Sun Nov  1 01:16:43 2020       \n",
            "+-----------------------------------------------------------------------------+\n",
            "| NVIDIA-SMI 455.32.00    Driver Version: 418.67       CUDA Version: 10.1     |\n",
            "|-------------------------------+----------------------+----------------------+\n",
            "| GPU  Name        Persistence-M| Bus-Id        Disp.A | Volatile Uncorr. ECC |\n",
            "| Fan  Temp  Perf  Pwr:Usage/Cap|         Memory-Usage | GPU-Util  Compute M. |\n",
            "|                               |                      |               MIG M. |\n",
            "|===============================+======================+======================|\n",
            "|   0  Tesla T4            Off  | 00000000:00:04.0 Off |                    0 |\n",
            "| N/A   36C    P8    10W /  70W |      0MiB / 15079MiB |      0%      Default |\n",
            "|                               |                      |                 ERR! |\n",
            "+-------------------------------+----------------------+----------------------+\n",
            "                                                                               \n",
            "+-----------------------------------------------------------------------------+\n",
            "| Processes:                                                                  |\n",
            "|  GPU   GI   CI        PID   Type   Process name                  GPU Memory |\n",
            "|        ID   ID                                                   Usage      |\n",
            "|=============================================================================|\n",
            "|  No running processes found                                                 |\n",
            "+-----------------------------------------------------------------------------+\n"
          ],
          "name": "stdout"
        }
      ]
    },
    {
      "cell_type": "code",
      "metadata": {
        "id": "_wp7Yfp2Z5Nb"
      },
      "source": [
        ""
      ],
      "execution_count": null,
      "outputs": []
    },
    {
      "cell_type": "code",
      "metadata": {
        "id": "KD0WYe0oCz42"
      },
      "source": [
        "inputs = keras.layers.Input(shape=(28,28,1), name='input_layer')"
      ],
      "execution_count": null,
      "outputs": []
    },
    {
      "cell_type": "code",
      "metadata": {
        "id": "mY4uwrh6E0WG"
      },
      "source": [
        "conv1 = keras.layers.Conv2D(filters=6,kernel_size=(5,5),strides=1,padding='same',activation='tanh')(inputs)"
      ],
      "execution_count": null,
      "outputs": []
    },
    {
      "cell_type": "code",
      "metadata": {
        "id": "1YEqmTZVYWQE"
      },
      "source": [
        "pool1 = keras.layers.AvgPool2D(pool_size=(2,2),strides=2)(conv1)"
      ],
      "execution_count": null,
      "outputs": []
    },
    {
      "cell_type": "code",
      "metadata": {
        "id": "ZIWw206aY9W_"
      },
      "source": [
        "conv2 = keras.layers.Conv2D(filters=16,kernel_size=(5,5),activation='tanh')(pool1)"
      ],
      "execution_count": null,
      "outputs": []
    },
    {
      "cell_type": "code",
      "metadata": {
        "id": "aWgv7DLJZL0B"
      },
      "source": [
        "pool2 = keras.layers.AvgPool2D(pool_size=(2,2),strides=2)(conv2)"
      ],
      "execution_count": null,
      "outputs": []
    },
    {
      "cell_type": "code",
      "metadata": {
        "id": "fKLAjozSZXVk"
      },
      "source": [
        "conv3 = keras.layers.Conv2D(filters=120,kernel_size=(5,5),activation='tanh')(pool2)"
      ],
      "execution_count": null,
      "outputs": []
    },
    {
      "cell_type": "code",
      "metadata": {
        "id": "RnZ5dBbzeE-Y"
      },
      "source": [
        "flatten_c3 = keras.layers.Flatten()(conv3)"
      ],
      "execution_count": null,
      "outputs": []
    },
    {
      "cell_type": "code",
      "metadata": {
        "id": "C-wWVfC7ZgHT"
      },
      "source": [
        "fc1 = keras.layers.Dense(units=84,activation='tanh')(flatten_c3)"
      ],
      "execution_count": null,
      "outputs": []
    },
    {
      "cell_type": "code",
      "metadata": {
        "id": "EXw2DSpZeLoj"
      },
      "source": [
        "output = keras.layers.Dense(units=10,activation='softmax')(fc1)"
      ],
      "execution_count": null,
      "outputs": []
    },
    {
      "cell_type": "code",
      "metadata": {
        "id": "lT9RHMU9eRxO"
      },
      "source": [
        "LeNet = keras.models.Model(inputs=inputs,outputs=output,name='LeNet')"
      ],
      "execution_count": null,
      "outputs": []
    },
    {
      "cell_type": "code",
      "metadata": {
        "id": "UwaNWEOhe69d"
      },
      "source": [
        "LeNet.compile(optimizer='sgd',loss='sparse_categorical_crossentropy',metrics=['accuracy'])"
      ],
      "execution_count": null,
      "outputs": []
    },
    {
      "cell_type": "code",
      "metadata": {
        "id": "sRGPFGhTeidK",
        "outputId": "40db353c-18ae-451a-ff37-457aa2b39bfb",
        "colab": {
          "base_uri": "https://localhost:8080/"
        }
      },
      "source": [
        "history_LeNet = LeNet.fit(x=x_train,y=y_train,batch_size=256,epochs=25,shuffle=True)"
      ],
      "execution_count": null,
      "outputs": [
        {
          "output_type": "stream",
          "text": [
            "Epoch 1/25\n",
            "235/235 [==============================] - 1s 4ms/step - loss: 0.2448 - accuracy: 0.9288\n",
            "Epoch 2/25\n",
            "235/235 [==============================] - 1s 3ms/step - loss: 0.2363 - accuracy: 0.9312\n",
            "Epoch 3/25\n",
            "235/235 [==============================] - 1s 4ms/step - loss: 0.2283 - accuracy: 0.9332\n",
            "Epoch 4/25\n",
            "235/235 [==============================] - 1s 4ms/step - loss: 0.2208 - accuracy: 0.9356\n",
            "Epoch 5/25\n",
            "235/235 [==============================] - 1s 3ms/step - loss: 0.2135 - accuracy: 0.9374\n",
            "Epoch 6/25\n",
            "235/235 [==============================] - 1s 3ms/step - loss: 0.2066 - accuracy: 0.9395\n",
            "Epoch 7/25\n",
            "235/235 [==============================] - 1s 3ms/step - loss: 0.2001 - accuracy: 0.9414\n",
            "Epoch 8/25\n",
            "235/235 [==============================] - 1s 4ms/step - loss: 0.1939 - accuracy: 0.9434\n",
            "Epoch 9/25\n",
            "235/235 [==============================] - 1s 3ms/step - loss: 0.1879 - accuracy: 0.9451\n",
            "Epoch 10/25\n",
            "235/235 [==============================] - 1s 3ms/step - loss: 0.1822 - accuracy: 0.9463\n",
            "Epoch 11/25\n",
            "235/235 [==============================] - 1s 3ms/step - loss: 0.1768 - accuracy: 0.9480\n",
            "Epoch 12/25\n",
            "235/235 [==============================] - 1s 3ms/step - loss: 0.1714 - accuracy: 0.9496\n",
            "Epoch 13/25\n",
            "235/235 [==============================] - 1s 3ms/step - loss: 0.1664 - accuracy: 0.9510\n",
            "Epoch 14/25\n",
            "235/235 [==============================] - 1s 3ms/step - loss: 0.1616 - accuracy: 0.9524\n",
            "Epoch 15/25\n",
            "235/235 [==============================] - 1s 3ms/step - loss: 0.1570 - accuracy: 0.9536\n",
            "Epoch 16/25\n",
            "235/235 [==============================] - 1s 3ms/step - loss: 0.1525 - accuracy: 0.9552\n",
            "Epoch 17/25\n",
            "235/235 [==============================] - 1s 3ms/step - loss: 0.1483 - accuracy: 0.9570\n",
            "Epoch 18/25\n",
            "235/235 [==============================] - 1s 3ms/step - loss: 0.1442 - accuracy: 0.9580\n",
            "Epoch 19/25\n",
            "235/235 [==============================] - 1s 3ms/step - loss: 0.1403 - accuracy: 0.9593\n",
            "Epoch 20/25\n",
            "235/235 [==============================] - 1s 3ms/step - loss: 0.1366 - accuracy: 0.9604\n",
            "Epoch 21/25\n",
            "235/235 [==============================] - 1s 4ms/step - loss: 0.1329 - accuracy: 0.9614\n",
            "Epoch 22/25\n",
            "235/235 [==============================] - 1s 3ms/step - loss: 0.1295 - accuracy: 0.9627\n",
            "Epoch 23/25\n",
            "235/235 [==============================] - 1s 3ms/step - loss: 0.1262 - accuracy: 0.9636\n",
            "Epoch 24/25\n",
            "235/235 [==============================] - 1s 4ms/step - loss: 0.1230 - accuracy: 0.9643\n",
            "Epoch 25/25\n",
            "235/235 [==============================] - 1s 3ms/step - loss: 0.1201 - accuracy: 0.9651\n"
          ],
          "name": "stdout"
        }
      ]
    },
    {
      "cell_type": "code",
      "metadata": {
        "id": "1LUk377blJHq",
        "outputId": "f1573718-53c0-4826-b6c4-4e602b0b9b34",
        "colab": {
          "base_uri": "https://localhost:8080/",
          "height": 516
        }
      },
      "source": [
        "keras.utils.plot_model(model=LeNet,rankdir='TB',show_shapes=True,dpi=50)"
      ],
      "execution_count": null,
      "outputs": [
        {
          "output_type": "execute_result",
          "data": {
            "image/png": "[encoded data removed]",
            "text/plain": [
              "<IPython.core.display.Image object>"
            ]
          },
          "metadata": {
            "tags": []
          },
          "execution_count": 42
        }
      ]
    },
    {
      "cell_type": "code",
      "metadata": {
        "id": "ixscuFatfTdu",
        "outputId": "604c7670-6ed6-4d4e-e24f-86b8632092b5",
        "colab": {
          "base_uri": "https://localhost:8080/"
        }
      },
      "source": [
        "LeNet.evaluate(x=x_test,y=y_test)"
      ],
      "execution_count": null,
      "outputs": [
        {
          "output_type": "stream",
          "text": [
            "313/313 [==============================] - 1s 2ms/step - loss: 0.1111 - accuracy: 0.9678\n"
          ],
          "name": "stdout"
        },
        {
          "output_type": "execute_result",
          "data": {
            "text/plain": [
              "[0.11108182370662689, 0.9678000211715698]"
            ]
          },
          "metadata": {
            "tags": []
          },
          "execution_count": 40
        }
      ]
    },
    {
      "cell_type": "code",
      "metadata": {
        "id": "1avpLgoykFUX"
      },
      "source": [
        ""
      ],
      "execution_count": null,
      "outputs": []
    }
  ]
}
