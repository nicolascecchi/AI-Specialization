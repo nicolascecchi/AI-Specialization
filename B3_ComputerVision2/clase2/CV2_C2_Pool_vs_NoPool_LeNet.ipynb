{
  "nbformat": 4,
  "nbformat_minor": 0,
  "metadata": {
    "kernelspec": {
      "display_name": "Python 3",
      "language": "python",
      "name": "python3"
    },
    "language_info": {
      "codemirror_mode": {
        "name": "ipython",
        "version": 3
      },
      "file_extension": ".py",
      "mimetype": "text/x-python",
      "name": "python",
      "nbconvert_exporter": "python",
      "pygments_lexer": "ipython3",
      "version": "3.7.6"
    },
    "colab": {
      "name": "CV2_Clase2_Pool_vs_NoPool_LeNet.ipynb",
      "provenance": [],
      "collapsed_sections": [
        "kWwNk5AlMgib"
      ]
    },
    "accelerator": "GPU"
  },
  "cells": [
    {
      "cell_type": "markdown",
      "metadata": {
        "id": "soCLllHwMgiT"
      },
      "source": [
        "## Experimento para ver el efecto de una capa POOL "
      ]
    },
    {
      "cell_type": "code",
      "metadata": {
        "id": "vLMhXOBSMgiU"
      },
      "source": [
        "import numpy as np\n",
        "import pandas as pd\n",
        "%matplotlib inline\n",
        "import matplotlib as mpl\n",
        "import matplotlib.pyplot as plt"
      ],
      "execution_count": null,
      "outputs": []
    },
    {
      "cell_type": "code",
      "metadata": {
        "id": "s3kqywe9MgiY"
      },
      "source": [
        "import tensorflow as tf\n",
        "from tensorflow import keras"
      ],
      "execution_count": null,
      "outputs": []
    },
    {
      "cell_type": "markdown",
      "metadata": {
        "id": "kWwNk5AlMgib"
      },
      "source": [
        "## Dataset: Fashion Mnist\n",
        "\n",
        "Link  https://keras.io/datasets/#fashion-mnist-database-of-fashion-articles\n",
        "\n",
        "Dataset que consiste de 60,000 imágenes de entrenamiento en blanco y negro catalogadas en 10 categorías y un test set de 10,000 imágenes. Los labels/rótulos son:\n",
        "\n",
        "| Label |\tDescription |\n",
        "--- | --- |\n",
        "| 0\t| T-shirt/top\n",
        "| 1\t| Trouser\n",
        "| 2\t| Pullover \n",
        "| 3\t| Dress\n",
        "| 4\t| Coat\n",
        "| 5\t| Sandal\n",
        "| 6\t| Shirt\n",
        "| 7\t| Sneaker\n",
        "| 8\t| Bag\n",
        "| 9\t| Ankle boot\n",
        "\n",
        "### Para importar\n",
        "from keras.datasets import fashion_mnist\n",
        "\n",
        "> (x_train, y_train), (x_test, y_test) = fashion_mnist.load_data()\n",
        "\n",
        "Retorna:\n",
        "2 tuplas:\n",
        "1. x_train, x_test: array de uint8 de imágenes blanco y negro de dimensiones (num_samples, 28, 28)\n",
        "2. y_train, y_test: array de uint8 d rótulos (enteros en el rango range 0-9) con dimensiones (num_samples,)."
      ]
    },
    {
      "cell_type": "code",
      "metadata": {
        "id": "KOy1QP9sMgic",
        "colab": {
          "base_uri": "https://localhost:8080/"
        },
        "outputId": "9632abef-a22c-463c-d317-ddb9cfa025ec"
      },
      "source": [
        "fashion_mnist = keras.datasets.fashion_mnist\n",
        "(X_train_full, y_train_full), (X_test, y_test) = fashion_mnist.load_data()"
      ],
      "execution_count": null,
      "outputs": [
        {
          "output_type": "stream",
          "text": [
            "Downloading data from https://storage.googleapis.com/tensorflow/tf-keras-datasets/train-labels-idx1-ubyte.gz\n",
            "32768/29515 [=================================] - 0s 0us/step\n",
            "Downloading data from https://storage.googleapis.com/tensorflow/tf-keras-datasets/train-images-idx3-ubyte.gz\n",
            "26427392/26421880 [==============================] - 0s 0us/step\n",
            "Downloading data from https://storage.googleapis.com/tensorflow/tf-keras-datasets/t10k-labels-idx1-ubyte.gz\n",
            "8192/5148 [===============================================] - 0s 0us/step\n",
            "Downloading data from https://storage.googleapis.com/tensorflow/tf-keras-datasets/t10k-images-idx3-ubyte.gz\n",
            "4423680/4422102 [==============================] - 0s 0us/step\n"
          ],
          "name": "stdout"
        }
      ]
    },
    {
      "cell_type": "code",
      "metadata": {
        "id": "5X0Y3T_-Mgie"
      },
      "source": [
        "class_names = [\"T-shirt/top\", \"Trouser\", \"Pullover\", \"Dress\", \"Coat\",\n",
        "               \"Sandal\", \"Shirt\", \"Sneaker\", \"Bag\", \"Ankle boot\"]"
      ],
      "execution_count": null,
      "outputs": []
    },
    {
      "cell_type": "markdown",
      "metadata": {
        "id": "eEom-9LkMgih"
      },
      "source": [
        "### Redimensionamos los datos"
      ]
    },
    {
      "cell_type": "code",
      "metadata": {
        "id": "sUGEjL_IMgih"
      },
      "source": [
        "X_train_full = X_train_full.reshape((60000, 28, 28, 1))\n",
        "X_test = X_test.reshape((10000, 28, 28, 1))"
      ],
      "execution_count": null,
      "outputs": []
    },
    {
      "cell_type": "markdown",
      "metadata": {
        "id": "br4e_zl0Mgik"
      },
      "source": [
        "### Normalización"
      ]
    },
    {
      "cell_type": "code",
      "metadata": {
        "id": "_eaCFmNIMgik"
      },
      "source": [
        "X_train_n = X_train_full / 255.\n",
        "X_test_n = X_test / 255."
      ],
      "execution_count": null,
      "outputs": []
    },
    {
      "cell_type": "markdown",
      "metadata": {
        "id": "0JCGlU07Mgin"
      },
      "source": [
        "### Dividimos los datos en datasets de entrenamiento/validación/test"
      ]
    },
    {
      "cell_type": "code",
      "metadata": {
        "id": "MMsJIxuNMgio"
      },
      "source": [
        "X_valid, X_train = X_train_n[:5000], X_train_n[5000:]\n",
        "y_valid, y_train = y_train_full[:5000], y_train_full[5000:]\n",
        "X_test = X_test_n"
      ],
      "execution_count": null,
      "outputs": []
    },
    {
      "cell_type": "markdown",
      "metadata": {
        "id": "XLvwPacnMgir"
      },
      "source": [
        "### Arquitectura con Pooling vs sin Pooling\n",
        "\n",
        "![image.png](attachment:image.png)"
      ]
    },
    {
      "cell_type": "markdown",
      "metadata": {
        "id": "-WkR17tAMgir"
      },
      "source": [
        "### Pooling vs No Pooling"
      ]
    },
    {
      "cell_type": "code",
      "metadata": {
        "id": "O7VLUQp5Mgis"
      },
      "source": [
        "model_a = keras.models.Sequential()\n",
        "model_a.add(keras.layers.Conv2D(filters = 32, kernel_size = (3, 3), strides=1, padding='valid', activation='relu', input_shape=(28, 28, 1)))\n",
        "model_a.add(keras.layers.MaxPooling2D((2, 2)))\n",
        "model_a.add(keras.layers.Flatten())\n",
        "model_a.add(keras.layers.Dense(300, activation=\"relu\"))\n",
        "model_a.add(keras.layers.Dense(100, activation=\"relu\"))\n",
        "model_a.add(keras.layers.Dense(10, activation=\"softmax\"))\n",
        "\n",
        "# el segundo modelo no tiene Max Pool, notar que strides = 2 en la capa convolucional para que los dos modelos tengan\n",
        "# la misma cantidad de parámetros\n",
        "model_b = keras.models.Sequential()\n",
        "model_b.add(keras.layers.Conv2D(filters = 32, kernel_size = (3, 3), strides=2, padding='valid', activation='relu', input_shape=(28, 28, 1)))\n",
        "model_b.add(keras.layers.Flatten())\n",
        "model_b.add(keras.layers.Dense(300, activation=\"relu\"))\n",
        "model_b.add(keras.layers.Dense(100, activation=\"relu\"))\n",
        "model_b.add(keras.layers.Dense(10, activation=\"softmax\"))\n"
      ],
      "execution_count": null,
      "outputs": []
    },
    {
      "cell_type": "code",
      "metadata": {
        "id": "-byXB946Mgiu",
        "colab": {
          "base_uri": "https://localhost:8080/"
        },
        "outputId": "bc7ade80-5179-4598-d3eb-4dce6f04b583"
      },
      "source": [
        "model_a.summary()"
      ],
      "execution_count": null,
      "outputs": [
        {
          "output_type": "stream",
          "text": [
            "Model: \"sequential\"\n",
            "_________________________________________________________________\n",
            "Layer (type)                 Output Shape              Param #   \n",
            "=================================================================\n",
            "conv2d (Conv2D)              (None, 26, 26, 32)        320       \n",
            "_________________________________________________________________\n",
            "max_pooling2d (MaxPooling2D) (None, 13, 13, 32)        0         \n",
            "_________________________________________________________________\n",
            "flatten (Flatten)            (None, 5408)              0         \n",
            "_________________________________________________________________\n",
            "dense (Dense)                (None, 300)               1622700   \n",
            "_________________________________________________________________\n",
            "dense_1 (Dense)              (None, 100)               30100     \n",
            "_________________________________________________________________\n",
            "dense_2 (Dense)              (None, 10)                1010      \n",
            "=================================================================\n",
            "Total params: 1,654,130\n",
            "Trainable params: 1,654,130\n",
            "Non-trainable params: 0\n",
            "_________________________________________________________________\n"
          ],
          "name": "stdout"
        }
      ]
    },
    {
      "cell_type": "code",
      "metadata": {
        "id": "Wfp5ATVqMgiy",
        "colab": {
          "base_uri": "https://localhost:8080/"
        },
        "outputId": "cd80f590-2db9-4900-dde6-38710151f2cd"
      },
      "source": [
        "model_b.summary()"
      ],
      "execution_count": null,
      "outputs": [
        {
          "output_type": "stream",
          "text": [
            "Model: \"sequential_1\"\n",
            "_________________________________________________________________\n",
            "Layer (type)                 Output Shape              Param #   \n",
            "=================================================================\n",
            "conv2d_1 (Conv2D)            (None, 13, 13, 32)        320       \n",
            "_________________________________________________________________\n",
            "flatten_1 (Flatten)          (None, 5408)              0         \n",
            "_________________________________________________________________\n",
            "dense_3 (Dense)              (None, 300)               1622700   \n",
            "_________________________________________________________________\n",
            "dense_4 (Dense)              (None, 100)               30100     \n",
            "_________________________________________________________________\n",
            "dense_5 (Dense)              (None, 10)                1010      \n",
            "=================================================================\n",
            "Total params: 1,654,130\n",
            "Trainable params: 1,654,130\n",
            "Non-trainable params: 0\n",
            "_________________________________________________________________\n"
          ],
          "name": "stdout"
        }
      ]
    },
    {
      "cell_type": "code",
      "metadata": {
        "id": "xrYOfWXOMgi0"
      },
      "source": [
        "model_a.compile(loss=\"sparse_categorical_crossentropy\",\n",
        "              optimizer=\"sgd\",\n",
        "              metrics=[\"accuracy\"])\n",
        "\n",
        "model_b.compile(loss=\"sparse_categorical_crossentropy\",\n",
        "              optimizer=\"sgd\",\n",
        "              metrics=[\"accuracy\"])"
      ],
      "execution_count": null,
      "outputs": []
    },
    {
      "cell_type": "code",
      "metadata": {
        "id": "LI50wUWiiqLB",
        "colab": {
          "base_uri": "https://localhost:8080/"
        },
        "outputId": "b93c2ec4-bca7-4869-e6d9-0bcb65f8174d"
      },
      "source": [
        "model_history_a = model_a.fit(X_train, y_train, epochs=10,batch_size= 64,\n",
        "                    validation_data=(X_valid, y_valid))"
      ],
      "execution_count": null,
      "outputs": [
        {
          "output_type": "stream",
          "text": [
            "Epoch 1/10\n",
            "860/860 [==============================] - 3s 3ms/step - loss: 0.8555 - accuracy: 0.7039 - val_loss: 0.7662 - val_accuracy: 0.7242\n",
            "Epoch 2/10\n",
            "860/860 [==============================] - 2s 3ms/step - loss: 0.5281 - accuracy: 0.8073 - val_loss: 0.5063 - val_accuracy: 0.8194\n",
            "Epoch 3/10\n",
            "860/860 [==============================] - 2s 3ms/step - loss: 0.4702 - accuracy: 0.8311 - val_loss: 0.4507 - val_accuracy: 0.8454\n",
            "Epoch 4/10\n",
            "860/860 [==============================] - 2s 3ms/step - loss: 0.4359 - accuracy: 0.8433 - val_loss: 0.4524 - val_accuracy: 0.8336\n",
            "Epoch 5/10\n",
            "860/860 [==============================] - 2s 3ms/step - loss: 0.4088 - accuracy: 0.8529 - val_loss: 0.4076 - val_accuracy: 0.8584\n",
            "Epoch 6/10\n",
            "860/860 [==============================] - 2s 3ms/step - loss: 0.3869 - accuracy: 0.8610 - val_loss: 0.3979 - val_accuracy: 0.8614\n",
            "Epoch 7/10\n",
            "860/860 [==============================] - 2s 3ms/step - loss: 0.3678 - accuracy: 0.8686 - val_loss: 0.4106 - val_accuracy: 0.8466\n",
            "Epoch 8/10\n",
            "860/860 [==============================] - 2s 3ms/step - loss: 0.3544 - accuracy: 0.8719 - val_loss: 0.3682 - val_accuracy: 0.8642\n",
            "Epoch 9/10\n",
            "860/860 [==============================] - 2s 3ms/step - loss: 0.3394 - accuracy: 0.8773 - val_loss: 0.3448 - val_accuracy: 0.8776\n",
            "Epoch 10/10\n",
            "860/860 [==============================] - 2s 3ms/step - loss: 0.3262 - accuracy: 0.8816 - val_loss: 0.3410 - val_accuracy: 0.8800\n"
          ],
          "name": "stdout"
        }
      ]
    },
    {
      "cell_type": "code",
      "metadata": {
        "id": "PeCTxg_-Mgi6",
        "colab": {
          "base_uri": "https://localhost:8080/",
          "height": 324
        },
        "outputId": "dd9c9c03-32f8-4c2a-d049-32105d1b062f"
      },
      "source": [
        "import pandas as pd\n",
        "\n",
        "pd.DataFrame(model_history_a.history).plot(figsize=(8, 5))\n",
        "plt.grid(True)\n",
        "plt.gca().set_ylim(0, 1)\n",
        "plt.show()"
      ],
      "execution_count": null,
      "outputs": [
        {
          "output_type": "display_data",
          "data": {
            "image/png": "[encoded data removed]",
            "text/plain": [
              "<Figure size 576x360 with 1 Axes>"
            ]
          },
          "metadata": {
            "tags": [],
            "needs_background": "light"
          }
        }
      ]
    },
    {
      "cell_type": "code",
      "metadata": {
        "id": "gRBm_RC5Mgi8",
        "colab": {
          "base_uri": "https://localhost:8080/"
        },
        "outputId": "5447154c-f194-4b34-cd2c-97d01851cd2d"
      },
      "source": [
        "ev = model_a.evaluate(X_test_n, y_test)"
      ],
      "execution_count": null,
      "outputs": [
        {
          "output_type": "stream",
          "text": [
            "313/313 [==============================] - 1s 2ms/step - loss: 0.3659 - accuracy: 0.8662\n"
          ],
          "name": "stdout"
        }
      ]
    },
    {
      "cell_type": "code",
      "metadata": {
        "id": "JGRTkBTZMgi_"
      },
      "source": [
        "X_new = X_test[:3]"
      ],
      "execution_count": null,
      "outputs": []
    },
    {
      "cell_type": "code",
      "metadata": {
        "id": "ZamreViFMgjB",
        "colab": {
          "base_uri": "https://localhost:8080/"
        },
        "outputId": "cd611db7-82c8-4105-92ff-33c28d440675"
      },
      "source": [
        "y_pred = model_a.predict_classes(X_new)\n",
        "y_pred"
      ],
      "execution_count": null,
      "outputs": [
        {
          "output_type": "stream",
          "text": [
            "WARNING:tensorflow:From <ipython-input-15-b28604147422>:1: Sequential.predict_classes (from tensorflow.python.keras.engine.sequential) is deprecated and will be removed after 2021-01-01.\n",
            "Instructions for updating:\n",
            "Please use instead:* `np.argmax(model.predict(x), axis=-1)`,   if your model does multi-class classification   (e.g. if it uses a `softmax` last-layer activation).* `(model.predict(x) > 0.5).astype(\"int32\")`,   if your model does binary classification   (e.g. if it uses a `sigmoid` last-layer activation).\n"
          ],
          "name": "stdout"
        },
        {
          "output_type": "execute_result",
          "data": {
            "text/plain": [
              "array([9, 2, 1])"
            ]
          },
          "metadata": {
            "tags": []
          },
          "execution_count": 15
        }
      ]
    },
    {
      "cell_type": "code",
      "metadata": {
        "id": "NM8uKf5wMgjD",
        "colab": {
          "base_uri": "https://localhost:8080/"
        },
        "outputId": "f0b7b8d0-a1ce-450a-d2a6-fdaed820c040"
      },
      "source": [
        "y_test[:3]"
      ],
      "execution_count": null,
      "outputs": [
        {
          "output_type": "execute_result",
          "data": {
            "text/plain": [
              "array([9, 2, 1], dtype=uint8)"
            ]
          },
          "metadata": {
            "tags": []
          },
          "execution_count": 16
        }
      ]
    },
    {
      "cell_type": "code",
      "metadata": {
        "id": "Qd97ymg6MgjF",
        "colab": {
          "base_uri": "https://localhost:8080/",
          "height": 283
        },
        "outputId": "f13b4006-e576-4b57-e004-8c719a8598a3"
      },
      "source": [
        "print(plt.imshow(X_test[2].reshape((28,28))))"
      ],
      "execution_count": null,
      "outputs": [
        {
          "output_type": "stream",
          "text": [
            "AxesImage(54,36;334.8x217.44)\n"
          ],
          "name": "stdout"
        },
        {
          "output_type": "display_data",
          "data": {
            "image/png": "[encoded data removed]",
            "text/plain": [
              "<Figure size 432x288 with 1 Axes>"
            ]
          },
          "metadata": {
            "tags": [],
            "needs_background": "light"
          }
        }
      ]
    },
    {
      "cell_type": "code",
      "metadata": {
        "id": "2SUfVbMoMgjI",
        "colab": {
          "base_uri": "https://localhost:8080/"
        },
        "outputId": "4be19148-cdee-4dbb-9fe9-5bd6d73238e2"
      },
      "source": [
        "model_history_b = model_b.fit(X_train, y_train, epochs=10,batch_size= 64,\n",
        "                    validation_data=(X_valid, y_valid))"
      ],
      "execution_count": null,
      "outputs": [
        {
          "output_type": "stream",
          "text": [
            "Epoch 1/10\n",
            "860/860 [==============================] - 2s 3ms/step - loss: 0.3516 - accuracy: 0.8710 - val_loss: 0.5635 - val_accuracy: 0.7946\n",
            "Epoch 2/10\n",
            "860/860 [==============================] - 2s 3ms/step - loss: 0.3419 - accuracy: 0.8760 - val_loss: 0.3524 - val_accuracy: 0.8708\n",
            "Epoch 3/10\n",
            "860/860 [==============================] - 2s 3ms/step - loss: 0.3340 - accuracy: 0.8781 - val_loss: 0.3655 - val_accuracy: 0.8676\n",
            "Epoch 4/10\n",
            "860/860 [==============================] - 2s 3ms/step - loss: 0.3283 - accuracy: 0.8806 - val_loss: 0.3260 - val_accuracy: 0.8836\n",
            "Epoch 5/10\n",
            "860/860 [==============================] - 2s 3ms/step - loss: 0.3214 - accuracy: 0.8823 - val_loss: 0.3622 - val_accuracy: 0.8668\n",
            "Epoch 6/10\n",
            "860/860 [==============================] - 3s 3ms/step - loss: 0.3167 - accuracy: 0.8844 - val_loss: 0.3221 - val_accuracy: 0.8820\n",
            "Epoch 7/10\n",
            "860/860 [==============================] - 2s 3ms/step - loss: 0.3126 - accuracy: 0.8848 - val_loss: 0.3190 - val_accuracy: 0.8806\n",
            "Epoch 8/10\n",
            "860/860 [==============================] - 2s 3ms/step - loss: 0.3055 - accuracy: 0.8880 - val_loss: 0.3209 - val_accuracy: 0.8810\n",
            "Epoch 9/10\n",
            "860/860 [==============================] - 2s 3ms/step - loss: 0.2995 - accuracy: 0.8893 - val_loss: 0.3125 - val_accuracy: 0.8820\n",
            "Epoch 10/10\n",
            "860/860 [==============================] - 2s 3ms/step - loss: 0.2967 - accuracy: 0.8906 - val_loss: 0.4588 - val_accuracy: 0.8402\n"
          ],
          "name": "stdout"
        }
      ]
    },
    {
      "cell_type": "code",
      "metadata": {
        "id": "ZHCpTWB_MgjL",
        "colab": {
          "base_uri": "https://localhost:8080/"
        },
        "outputId": "6d05b2c0-eef5-43c2-b39f-2168b6f1ba7a"
      },
      "source": [
        "ev = model_b.evaluate(X_test_n, y_test)"
      ],
      "execution_count": null,
      "outputs": [
        {
          "output_type": "stream",
          "text": [
            "313/313 [==============================] - 1s 2ms/step - loss: 0.4449 - accuracy: 0.8331\n"
          ],
          "name": "stdout"
        }
      ]
    },
    {
      "cell_type": "code",
      "metadata": {
        "id": "uxNQfcpNMgjN"
      },
      "source": [
        "model_c = keras.models.Sequential()\n",
        "\n",
        "model_c.add(keras.layers.Conv2D(filters = 32, kernel_size = (3, 3), strides=1, padding='same', activation='relu', input_shape=(28, 28, 1)))\n",
        "model_c.add(keras.layers.MaxPooling2D((2, 2)))\n",
        "\n",
        "model_c.add(keras.layers.Conv2D(filters = 32, kernel_size = (3, 3), strides=1, padding='same', activation='relu', input_shape=(14, 14, 32)))\n",
        "model_c.add(keras.layers.MaxPooling2D((2, 2)))\n",
        "\n",
        "model_c.add(keras.layers.Flatten())\n",
        "\n",
        "model_c.add(keras.layers.Dense(300, activation=\"relu\"))\n",
        "model_c.add(keras.layers.Dense(100, activation=\"relu\"))\n",
        "model_c.add(keras.layers.Dense(10, activation=\"softmax\"))"
      ],
      "execution_count": null,
      "outputs": []
    },
    {
      "cell_type": "code",
      "metadata": {
        "id": "dqfbNKKFmkx0"
      },
      "source": [
        "model_c.compile(optimizer=keras.optimizers.SGD(learning_rate=0.015),loss=\"sparse_categorical_crossentropy\",\n",
        "                metrics=['accuracy'])"
      ],
      "execution_count": null,
      "outputs": []
    },
    {
      "cell_type": "code",
      "metadata": {
        "id": "HTROaEONnEPZ",
        "colab": {
          "base_uri": "https://localhost:8080/"
        },
        "outputId": "66ace82e-50f4-4b3a-841d-a047c8a621c9"
      },
      "source": [
        "model_history_c = model_c.fit(X_train, y_train, epochs=25,batch_size= 64,validation_data=(X_valid, y_valid))"
      ],
      "execution_count": null,
      "outputs": [
        {
          "output_type": "stream",
          "text": [
            "Epoch 1/25\n",
            "860/860 [==============================] - 3s 3ms/step - loss: 0.2834 - accuracy: 0.8959 - val_loss: 0.3026 - val_accuracy: 0.8994\n",
            "Epoch 2/25\n",
            "860/860 [==============================] - 3s 3ms/step - loss: 0.2761 - accuracy: 0.8987 - val_loss: 0.3031 - val_accuracy: 0.8936\n",
            "Epoch 3/25\n",
            "860/860 [==============================] - 3s 3ms/step - loss: 0.2672 - accuracy: 0.9009 - val_loss: 0.3124 - val_accuracy: 0.8832\n",
            "Epoch 4/25\n",
            "860/860 [==============================] - 3s 3ms/step - loss: 0.2601 - accuracy: 0.9053 - val_loss: 0.2788 - val_accuracy: 0.9036\n",
            "Epoch 5/25\n",
            "860/860 [==============================] - 3s 3ms/step - loss: 0.2545 - accuracy: 0.9059 - val_loss: 0.2968 - val_accuracy: 0.8956\n",
            "Epoch 6/25\n",
            "860/860 [==============================] - 3s 3ms/step - loss: 0.2466 - accuracy: 0.9103 - val_loss: 0.2767 - val_accuracy: 0.9020\n",
            "Epoch 7/25\n",
            "860/860 [==============================] - 3s 3ms/step - loss: 0.2408 - accuracy: 0.9113 - val_loss: 0.2694 - val_accuracy: 0.9036\n",
            "Epoch 8/25\n",
            "860/860 [==============================] - 3s 3ms/step - loss: 0.2357 - accuracy: 0.9137 - val_loss: 0.3163 - val_accuracy: 0.8882\n",
            "Epoch 9/25\n",
            "860/860 [==============================] - 3s 3ms/step - loss: 0.2292 - accuracy: 0.9164 - val_loss: 0.2996 - val_accuracy: 0.8908\n",
            "Epoch 10/25\n",
            "860/860 [==============================] - 3s 3ms/step - loss: 0.2235 - accuracy: 0.9169 - val_loss: 0.2820 - val_accuracy: 0.8994\n",
            "Epoch 11/25\n",
            "860/860 [==============================] - 3s 3ms/step - loss: 0.2199 - accuracy: 0.9190 - val_loss: 0.2938 - val_accuracy: 0.8990\n",
            "Epoch 12/25\n",
            "860/860 [==============================] - 3s 3ms/step - loss: 0.2143 - accuracy: 0.9206 - val_loss: 0.2619 - val_accuracy: 0.9056\n",
            "Epoch 13/25\n",
            "860/860 [==============================] - 3s 3ms/step - loss: 0.2103 - accuracy: 0.9227 - val_loss: 0.2539 - val_accuracy: 0.9076\n",
            "Epoch 14/25\n",
            "860/860 [==============================] - 3s 3ms/step - loss: 0.2051 - accuracy: 0.9241 - val_loss: 0.2646 - val_accuracy: 0.9038\n",
            "Epoch 15/25\n",
            "860/860 [==============================] - 3s 3ms/step - loss: 0.1999 - accuracy: 0.9265 - val_loss: 0.2735 - val_accuracy: 0.9022\n",
            "Epoch 16/25\n",
            "860/860 [==============================] - 3s 3ms/step - loss: 0.1959 - accuracy: 0.9277 - val_loss: 0.2604 - val_accuracy: 0.9108\n",
            "Epoch 17/25\n",
            "860/860 [==============================] - 3s 3ms/step - loss: 0.1911 - accuracy: 0.9295 - val_loss: 0.2537 - val_accuracy: 0.9088\n",
            "Epoch 18/25\n",
            "860/860 [==============================] - 3s 3ms/step - loss: 0.1865 - accuracy: 0.9312 - val_loss: 0.2473 - val_accuracy: 0.9120\n",
            "Epoch 19/25\n",
            "860/860 [==============================] - 3s 3ms/step - loss: 0.1817 - accuracy: 0.9325 - val_loss: 0.2822 - val_accuracy: 0.8968\n",
            "Epoch 20/25\n",
            "860/860 [==============================] - 3s 3ms/step - loss: 0.1797 - accuracy: 0.9329 - val_loss: 0.3476 - val_accuracy: 0.8812\n",
            "Epoch 21/25\n",
            "860/860 [==============================] - 3s 3ms/step - loss: 0.1742 - accuracy: 0.9359 - val_loss: 0.2592 - val_accuracy: 0.9112\n",
            "Epoch 22/25\n",
            "860/860 [==============================] - 3s 3ms/step - loss: 0.1709 - accuracy: 0.9367 - val_loss: 0.2761 - val_accuracy: 0.9056\n",
            "Epoch 23/25\n",
            "860/860 [==============================] - 3s 3ms/step - loss: 0.1665 - accuracy: 0.9394 - val_loss: 0.2559 - val_accuracy: 0.9100\n",
            "Epoch 24/25\n",
            "860/860 [==============================] - 3s 3ms/step - loss: 0.1637 - accuracy: 0.9401 - val_loss: 0.2465 - val_accuracy: 0.9126\n",
            "Epoch 25/25\n",
            "860/860 [==============================] - 3s 3ms/step - loss: 0.1594 - accuracy: 0.9416 - val_loss: 0.2493 - val_accuracy: 0.9154\n"
          ],
          "name": "stdout"
        }
      ]
    },
    {
      "cell_type": "code",
      "metadata": {
        "id": "WDVhqX8Ts9iM",
        "colab": {
          "base_uri": "https://localhost:8080/",
          "height": 324
        },
        "outputId": "f6cdc5ff-2be2-4838-9f7d-ec92c15d8641"
      },
      "source": [
        "\n",
        "pd.DataFrame(model_history_c.history).plot(figsize=(8, 5))\n",
        "plt.grid(True)\n",
        "plt.gca().set_ylim(0, 1)\n",
        "plt.show()"
      ],
      "execution_count": null,
      "outputs": [
        {
          "output_type": "display_data",
          "data": {
            "image/png": "[encoded data removed]",
            "text/plain": [
              "<Figure size 576x360 with 1 Axes>"
            ]
          },
          "metadata": {
            "tags": [],
            "needs_background": "light"
          }
        }
      ]
    },
    {
      "cell_type": "markdown",
      "metadata": {
        "id": "iqhgDLPGs9yu"
      },
      "source": [
        "# Red overfitter"
      ]
    },
    {
      "cell_type": "markdown",
      "metadata": {
        "id": "zbZO_P4hsj98"
      },
      "source": [
        "Red overfitter\n",
        "\n",
        "Podemos ver como epoch a epoch la accuracy del train sigue subiendo de a poco, pero en validation se mantiene estable casi desde las primeras.\n",
        "\n",
        "Inclusive, la gráfica del Loss para Validation muestra una tendencia creciente."
      ]
    },
    {
      "cell_type": "code",
      "metadata": {
        "id": "mHXVeL88ok73"
      },
      "source": [
        "model_d = keras.models.Sequential()\n",
        "\n",
        "model_d.add(keras.layers.Conv2D(filters = 32, kernel_size = (3, 3), strides=1, padding='same', activation='relu', input_shape=(28, 28, 1)))\n",
        "model_d.add(keras.layers.MaxPooling2D((2, 2),padding='same'))\n",
        "\n",
        "model_d.add(keras.layers.Conv2D(filters = 16, kernel_size = (5, 5), strides=1, padding='same', activation='relu', input_shape=(28, 28, 32)))\n",
        "model_d.add(keras.layers.MaxPooling2D(pool_size=((2,2)),strides=1))\n",
        "\n",
        "model_d.add(keras.layers.Flatten())\n",
        "\n",
        "model_d.add(keras.layers.Dense(200, activation=\"relu\"))\n",
        "model_d.add(keras.layers.Dense(100, activation=\"relu\"))\n",
        "model_d.add(keras.layers.Dense(50, activation=\"relu\"))\n",
        "\n",
        "model_d.add(keras.layers.Dense(10, activation=\"softmax\"))"
      ],
      "execution_count": null,
      "outputs": []
    },
    {
      "cell_type": "code",
      "metadata": {
        "id": "4HCZWnfsok8n"
      },
      "source": [
        "model_d.compile(optimizer=keras.optimizers.SGD(learning_rate=0.03),loss=\"sparse_categorical_crossentropy\",\n",
        "                metrics=['accuracy'])"
      ],
      "execution_count": null,
      "outputs": []
    },
    {
      "cell_type": "code",
      "metadata": {
        "id": "pgyIzWXuok82",
        "colab": {
          "base_uri": "https://localhost:8080/"
        },
        "outputId": "e1baf30f-dfa0-41f3-be39-9e71a64b2021"
      },
      "source": [
        "model_history_d = model_d.fit(X_train, y_train, epochs=50,batch_size= 256,validation_data=(X_valid, y_valid))"
      ],
      "execution_count": null,
      "outputs": [
        {
          "output_type": "stream",
          "text": [
            "Epoch 1/50\n",
            "215/215 [==============================] - 2s 8ms/step - loss: 0.1961 - accuracy: 0.9278 - val_loss: 0.2435 - val_accuracy: 0.9106\n",
            "Epoch 2/50\n",
            "215/215 [==============================] - 2s 7ms/step - loss: 0.1903 - accuracy: 0.9296 - val_loss: 0.2523 - val_accuracy: 0.9062\n",
            "Epoch 3/50\n",
            "215/215 [==============================] - 2s 7ms/step - loss: 0.1852 - accuracy: 0.9309 - val_loss: 0.2458 - val_accuracy: 0.9112\n",
            "Epoch 4/50\n",
            "215/215 [==============================] - 2s 7ms/step - loss: 0.1825 - accuracy: 0.9323 - val_loss: 0.2408 - val_accuracy: 0.9096\n",
            "Epoch 5/50\n",
            "215/215 [==============================] - 2s 7ms/step - loss: 0.1787 - accuracy: 0.9340 - val_loss: 0.2420 - val_accuracy: 0.9146\n",
            "Epoch 6/50\n",
            "215/215 [==============================] - 2s 7ms/step - loss: 0.1749 - accuracy: 0.9355 - val_loss: 0.2443 - val_accuracy: 0.9088\n",
            "Epoch 7/50\n",
            "215/215 [==============================] - 2s 7ms/step - loss: 0.1725 - accuracy: 0.9369 - val_loss: 0.2371 - val_accuracy: 0.9112\n",
            "Epoch 8/50\n",
            "215/215 [==============================] - 2s 7ms/step - loss: 0.1694 - accuracy: 0.9371 - val_loss: 0.2441 - val_accuracy: 0.9108\n",
            "Epoch 9/50\n",
            "215/215 [==============================] - 1s 7ms/step - loss: 0.1655 - accuracy: 0.9382 - val_loss: 0.2383 - val_accuracy: 0.9152\n",
            "Epoch 10/50\n",
            "215/215 [==============================] - 2s 7ms/step - loss: 0.1618 - accuracy: 0.9410 - val_loss: 0.2650 - val_accuracy: 0.9056\n",
            "Epoch 11/50\n",
            "215/215 [==============================] - 2s 7ms/step - loss: 0.1591 - accuracy: 0.9414 - val_loss: 0.2370 - val_accuracy: 0.9154\n",
            "Epoch 12/50\n",
            "215/215 [==============================] - 2s 7ms/step - loss: 0.1572 - accuracy: 0.9418 - val_loss: 0.2399 - val_accuracy: 0.9136\n",
            "Epoch 13/50\n",
            "215/215 [==============================] - 2s 7ms/step - loss: 0.1518 - accuracy: 0.9441 - val_loss: 0.2383 - val_accuracy: 0.9150\n",
            "Epoch 14/50\n",
            "215/215 [==============================] - 2s 7ms/step - loss: 0.1499 - accuracy: 0.9440 - val_loss: 0.2470 - val_accuracy: 0.9134\n",
            "Epoch 15/50\n",
            "215/215 [==============================] - 2s 7ms/step - loss: 0.1492 - accuracy: 0.9441 - val_loss: 0.2444 - val_accuracy: 0.9104\n",
            "Epoch 16/50\n",
            "215/215 [==============================] - 2s 7ms/step - loss: 0.1428 - accuracy: 0.9479 - val_loss: 0.2654 - val_accuracy: 0.9052\n",
            "Epoch 17/50\n",
            "215/215 [==============================] - 2s 7ms/step - loss: 0.1405 - accuracy: 0.9473 - val_loss: 0.2406 - val_accuracy: 0.9162\n",
            "Epoch 18/50\n",
            "215/215 [==============================] - 2s 7ms/step - loss: 0.1371 - accuracy: 0.9501 - val_loss: 0.2474 - val_accuracy: 0.9096\n",
            "Epoch 19/50\n",
            "215/215 [==============================] - 2s 7ms/step - loss: 0.1347 - accuracy: 0.9509 - val_loss: 0.2479 - val_accuracy: 0.9124\n",
            "Epoch 20/50\n",
            "215/215 [==============================] - 2s 7ms/step - loss: 0.1331 - accuracy: 0.9517 - val_loss: 0.2488 - val_accuracy: 0.9146\n",
            "Epoch 21/50\n",
            "215/215 [==============================] - 2s 7ms/step - loss: 0.1290 - accuracy: 0.9525 - val_loss: 0.2486 - val_accuracy: 0.9144\n",
            "Epoch 22/50\n",
            "215/215 [==============================] - 2s 7ms/step - loss: 0.1288 - accuracy: 0.9525 - val_loss: 0.2548 - val_accuracy: 0.9158\n",
            "Epoch 23/50\n",
            "215/215 [==============================] - 2s 7ms/step - loss: 0.1255 - accuracy: 0.9541 - val_loss: 0.2803 - val_accuracy: 0.9042\n",
            "Epoch 24/50\n",
            "215/215 [==============================] - 2s 7ms/step - loss: 0.1211 - accuracy: 0.9557 - val_loss: 0.2658 - val_accuracy: 0.9132\n",
            "Epoch 25/50\n",
            "215/215 [==============================] - 2s 7ms/step - loss: 0.1171 - accuracy: 0.9577 - val_loss: 0.2601 - val_accuracy: 0.9142\n",
            "Epoch 26/50\n",
            "215/215 [==============================] - 2s 7ms/step - loss: 0.1158 - accuracy: 0.9567 - val_loss: 0.2640 - val_accuracy: 0.9082\n",
            "Epoch 27/50\n",
            "215/215 [==============================] - 2s 7ms/step - loss: 0.1153 - accuracy: 0.9584 - val_loss: 0.2474 - val_accuracy: 0.9166\n",
            "Epoch 28/50\n",
            "215/215 [==============================] - 1s 7ms/step - loss: 0.1097 - accuracy: 0.9597 - val_loss: 0.2677 - val_accuracy: 0.9146\n",
            "Epoch 29/50\n",
            "215/215 [==============================] - 1s 7ms/step - loss: 0.1066 - accuracy: 0.9615 - val_loss: 0.2621 - val_accuracy: 0.9140\n",
            "Epoch 30/50\n",
            "215/215 [==============================] - 2s 7ms/step - loss: 0.1066 - accuracy: 0.9613 - val_loss: 0.2648 - val_accuracy: 0.9154\n",
            "Epoch 31/50\n",
            "215/215 [==============================] - 2s 7ms/step - loss: 0.1028 - accuracy: 0.9627 - val_loss: 0.2632 - val_accuracy: 0.9152\n",
            "Epoch 32/50\n",
            "215/215 [==============================] - 2s 7ms/step - loss: 0.1011 - accuracy: 0.9627 - val_loss: 0.2578 - val_accuracy: 0.9140\n",
            "Epoch 33/50\n",
            "215/215 [==============================] - 2s 7ms/step - loss: 0.0998 - accuracy: 0.9639 - val_loss: 0.2730 - val_accuracy: 0.9156\n",
            "Epoch 34/50\n",
            "215/215 [==============================] - 2s 7ms/step - loss: 0.0988 - accuracy: 0.9644 - val_loss: 0.3082 - val_accuracy: 0.9100\n",
            "Epoch 35/50\n",
            "215/215 [==============================] - 2s 7ms/step - loss: 0.0928 - accuracy: 0.9666 - val_loss: 0.2998 - val_accuracy: 0.9136\n",
            "Epoch 36/50\n",
            "215/215 [==============================] - 2s 7ms/step - loss: 0.0889 - accuracy: 0.9680 - val_loss: 0.2994 - val_accuracy: 0.9078\n",
            "Epoch 37/50\n",
            "215/215 [==============================] - 1s 7ms/step - loss: 0.0880 - accuracy: 0.9682 - val_loss: 0.2722 - val_accuracy: 0.9162\n",
            "Epoch 38/50\n",
            "215/215 [==============================] - 2s 7ms/step - loss: 0.0847 - accuracy: 0.9695 - val_loss: 0.2738 - val_accuracy: 0.9176\n",
            "Epoch 39/50\n",
            "215/215 [==============================] - 1s 7ms/step - loss: 0.0843 - accuracy: 0.9689 - val_loss: 0.2954 - val_accuracy: 0.9136\n",
            "Epoch 40/50\n",
            "215/215 [==============================] - 2s 7ms/step - loss: 0.0789 - accuracy: 0.9709 - val_loss: 0.3140 - val_accuracy: 0.9062\n",
            "Epoch 41/50\n",
            "215/215 [==============================] - 2s 7ms/step - loss: 0.0799 - accuracy: 0.9715 - val_loss: 0.2981 - val_accuracy: 0.9120\n",
            "Epoch 42/50\n",
            "215/215 [==============================] - 2s 7ms/step - loss: 0.0764 - accuracy: 0.9725 - val_loss: 0.3026 - val_accuracy: 0.9142\n",
            "Epoch 43/50\n",
            "215/215 [==============================] - 2s 7ms/step - loss: 0.0803 - accuracy: 0.9703 - val_loss: 0.3037 - val_accuracy: 0.9124\n",
            "Epoch 44/50\n",
            "215/215 [==============================] - 2s 7ms/step - loss: 0.0723 - accuracy: 0.9741 - val_loss: 0.2978 - val_accuracy: 0.9108\n",
            "Epoch 45/50\n",
            "215/215 [==============================] - 2s 7ms/step - loss: 0.0673 - accuracy: 0.9763 - val_loss: 0.3020 - val_accuracy: 0.9152\n",
            "Epoch 46/50\n",
            "215/215 [==============================] - 1s 7ms/step - loss: 0.0670 - accuracy: 0.9761 - val_loss: 0.3247 - val_accuracy: 0.9112\n",
            "Epoch 47/50\n",
            "215/215 [==============================] - 2s 7ms/step - loss: 0.0691 - accuracy: 0.9747 - val_loss: 0.3082 - val_accuracy: 0.9130\n",
            "Epoch 48/50\n",
            "215/215 [==============================] - 2s 7ms/step - loss: 0.0630 - accuracy: 0.9773 - val_loss: 0.3309 - val_accuracy: 0.9024\n",
            "Epoch 49/50\n",
            "215/215 [==============================] - 2s 7ms/step - loss: 0.0632 - accuracy: 0.9783 - val_loss: 0.3426 - val_accuracy: 0.9056\n",
            "Epoch 50/50\n",
            "215/215 [==============================] - 2s 7ms/step - loss: 0.0629 - accuracy: 0.9769 - val_loss: 0.3148 - val_accuracy: 0.9136\n"
          ],
          "name": "stdout"
        }
      ]
    },
    {
      "cell_type": "code",
      "metadata": {
        "id": "BmUXJGu-qQiY",
        "colab": {
          "base_uri": "https://localhost:8080/",
          "height": 324
        },
        "outputId": "e2e3472a-c18c-4bfb-f2cd-ae51d827b1c4"
      },
      "source": [
        "\n",
        "pd.DataFrame(model_history_d.history).plot(figsize=(8, 5))\n",
        "plt.grid(True)\n",
        "plt.gca().set_ylim(0, 1)\n",
        "plt.show()"
      ],
      "execution_count": null,
      "outputs": [
        {
          "output_type": "display_data",
          "data": {
            "image/png": "[encoded data removed]",
            "text/plain": [
              "<Figure size 576x360 with 1 Axes>"
            ]
          },
          "metadata": {
            "tags": [],
            "needs_background": "light"
          }
        }
      ]
    },
    {
      "cell_type": "code",
      "metadata": {
        "id": "p5Nm2rcPFEm2"
      },
      "source": [
        ""
      ],
      "execution_count": null,
      "outputs": []
    },
    {
      "cell_type": "markdown",
      "metadata": {
        "id": "ytEMqdRTCiME"
      },
      "source": [
        "# LeNet for MNIST"
      ]
    },
    {
      "cell_type": "code",
      "metadata": {
        "id": "aooOjZ8-Cj-r"
      },
      "source": [
        "mnist = keras.datasets.mnist"
      ],
      "execution_count": null,
      "outputs": []
    },
    {
      "cell_type": "code",
      "metadata": {
        "id": "_iqfBI2aCqgG",
        "colab": {
          "base_uri": "https://localhost:8080/"
        },
        "outputId": "1919fab3-1a78-4f0f-d762-8e6f9ffc374b"
      },
      "source": [
        "(x_train, y_train), (x_test, y_test)  = mnist.load_data()"
      ],
      "execution_count": null,
      "outputs": [
        {
          "output_type": "stream",
          "text": [
            "Downloading data from https://storage.googleapis.com/tensorflow/tf-keras-datasets/mnist.npz\n",
            "11493376/11490434 [==============================] - 0s 0us/step\n"
          ],
          "name": "stdout"
        }
      ]
    },
    {
      "cell_type": "code",
      "metadata": {
        "id": "NzwmdWSdEvRJ"
      },
      "source": [
        "(x_train, y_train), (x_test, y_test) = (x_train/255., y_train), (x_test/255., y_test)"
      ],
      "execution_count": null,
      "outputs": []
    },
    {
      "cell_type": "code",
      "metadata": {
        "id": "2Xn7EJu8DVi7",
        "colab": {
          "base_uri": "https://localhost:8080/"
        },
        "outputId": "3934ab00-5d6b-4c16-e4c9-e3874c287568"
      },
      "source": [
        "!nvidia-smi"
      ],
      "execution_count": null,
      "outputs": [
        {
          "output_type": "stream",
          "text": [
            "Sun Nov  1 01:16:43 2020       \n",
            "+-----------------------------------------------------------------------------+\n",
            "| NVIDIA-SMI 455.32.00    Driver Version: 418.67       CUDA Version: 10.1     |\n",
            "|-------------------------------+----------------------+----------------------+\n",
            "| GPU  Name        Persistence-M| Bus-Id        Disp.A | Volatile Uncorr. ECC |\n",
            "| Fan  Temp  Perf  Pwr:Usage/Cap|         Memory-Usage | GPU-Util  Compute M. |\n",
            "|                               |                      |               MIG M. |\n",
            "|===============================+======================+======================|\n",
            "|   0  Tesla T4            Off  | 00000000:00:04.0 Off |                    0 |\n",
            "| N/A   36C    P8    10W /  70W |      0MiB / 15079MiB |      0%      Default |\n",
            "|                               |                      |                 ERR! |\n",
            "+-------------------------------+----------------------+----------------------+\n",
            "                                                                               \n",
            "+-----------------------------------------------------------------------------+\n",
            "| Processes:                                                                  |\n",
            "|  GPU   GI   CI        PID   Type   Process name                  GPU Memory |\n",
            "|        ID   ID                                                   Usage      |\n",
            "|=============================================================================|\n",
            "|  No running processes found                                                 |\n",
            "+-----------------------------------------------------------------------------+\n"
          ],
          "name": "stdout"
        }
      ]
    },
    {
      "cell_type": "code",
      "metadata": {
        "id": "_wp7Yfp2Z5Nb"
      },
      "source": [
        ""
      ],
      "execution_count": null,
      "outputs": []
    },
    {
      "cell_type": "code",
      "metadata": {
        "id": "KD0WYe0oCz42"
      },
      "source": [
        "inputs = keras.layers.Input(shape=(28,28,1), name='input_layer')\r\n",
        "conv1 = keras.layers.Conv2D(filters=6,kernel_size=(5,5),strides=1,padding='same',activation='tanh')(inputs)\r\n",
        "pool1 = keras.layers.AvgPool2D(pool_size=(2,2),strides=2)(conv1)\r\n",
        "conv2 = keras.layers.Conv2D(filters=16,kernel_size=(5,5),activation='tanh')(pool1)\r\n",
        "pool2 = keras.layers.AvgPool2D(pool_size=(2,2),strides=2)(conv2)\r\n",
        "conv3 = keras.layers.Conv2D(filters=120,kernel_size=(5,5),activation='tanh')(pool2)\r\n",
        "flatten_c3 = keras.layers.Flatten()(conv3)\r\n",
        "fc1 = keras.layers.Dense(units=84,activation='tanh')(flatten_c3)\r\n",
        "output = keras.layers.Dense(units=10,activation='softmax')(fc1)\r\n",
        "LeNet = keras.models.Model(inputs=inputs,outputs=output,name='LeNet')\r\n",
        "LeNet.compile(optimizer='sgd',loss='sparse_categorical_crossentropy',metrics=['accuracy'])\r\n"
      ],
      "execution_count": null,
      "outputs": []
    },
    {
      "cell_type": "code",
      "metadata": {
        "id": "sRGPFGhTeidK",
        "colab": {
          "base_uri": "https://localhost:8080/"
        },
        "outputId": "40db353c-18ae-451a-ff37-457aa2b39bfb"
      },
      "source": [
        "history_LeNet = LeNet.fit(x=x_train,y=y_train,batch_size=256,epochs=25,shuffle=True)"
      ],
      "execution_count": null,
      "outputs": [
        {
          "output_type": "stream",
          "text": [
            "Epoch 1/25\n",
            "235/235 [==============================] - 1s 4ms/step - loss: 0.2448 - accuracy: 0.9288\n",
            "Epoch 2/25\n",
            "235/235 [==============================] - 1s 3ms/step - loss: 0.2363 - accuracy: 0.9312\n",
            "Epoch 3/25\n",
            "235/235 [==============================] - 1s 4ms/step - loss: 0.2283 - accuracy: 0.9332\n",
            "Epoch 4/25\n",
            "235/235 [==============================] - 1s 4ms/step - loss: 0.2208 - accuracy: 0.9356\n",
            "Epoch 5/25\n",
            "235/235 [==============================] - 1s 3ms/step - loss: 0.2135 - accuracy: 0.9374\n",
            "Epoch 6/25\n",
            "235/235 [==============================] - 1s 3ms/step - loss: 0.2066 - accuracy: 0.9395\n",
            "Epoch 7/25\n",
            "235/235 [==============================] - 1s 3ms/step - loss: 0.2001 - accuracy: 0.9414\n",
            "Epoch 8/25\n",
            "235/235 [==============================] - 1s 4ms/step - loss: 0.1939 - accuracy: 0.9434\n",
            "Epoch 9/25\n",
            "235/235 [==============================] - 1s 3ms/step - loss: 0.1879 - accuracy: 0.9451\n",
            "Epoch 10/25\n",
            "235/235 [==============================] - 1s 3ms/step - loss: 0.1822 - accuracy: 0.9463\n",
            "Epoch 11/25\n",
            "235/235 [==============================] - 1s 3ms/step - loss: 0.1768 - accuracy: 0.9480\n",
            "Epoch 12/25\n",
            "235/235 [==============================] - 1s 3ms/step - loss: 0.1714 - accuracy: 0.9496\n",
            "Epoch 13/25\n",
            "235/235 [==============================] - 1s 3ms/step - loss: 0.1664 - accuracy: 0.9510\n",
            "Epoch 14/25\n",
            "235/235 [==============================] - 1s 3ms/step - loss: 0.1616 - accuracy: 0.9524\n",
            "Epoch 15/25\n",
            "235/235 [==============================] - 1s 3ms/step - loss: 0.1570 - accuracy: 0.9536\n",
            "Epoch 16/25\n",
            "235/235 [==============================] - 1s 3ms/step - loss: 0.1525 - accuracy: 0.9552\n",
            "Epoch 17/25\n",
            "235/235 [==============================] - 1s 3ms/step - loss: 0.1483 - accuracy: 0.9570\n",
            "Epoch 18/25\n",
            "235/235 [==============================] - 1s 3ms/step - loss: 0.1442 - accuracy: 0.9580\n",
            "Epoch 19/25\n",
            "235/235 [==============================] - 1s 3ms/step - loss: 0.1403 - accuracy: 0.9593\n",
            "Epoch 20/25\n",
            "235/235 [==============================] - 1s 3ms/step - loss: 0.1366 - accuracy: 0.9604\n",
            "Epoch 21/25\n",
            "235/235 [==============================] - 1s 4ms/step - loss: 0.1329 - accuracy: 0.9614\n",
            "Epoch 22/25\n",
            "235/235 [==============================] - 1s 3ms/step - loss: 0.1295 - accuracy: 0.9627\n",
            "Epoch 23/25\n",
            "235/235 [==============================] - 1s 3ms/step - loss: 0.1262 - accuracy: 0.9636\n",
            "Epoch 24/25\n",
            "235/235 [==============================] - 1s 4ms/step - loss: 0.1230 - accuracy: 0.9643\n",
            "Epoch 25/25\n",
            "235/235 [==============================] - 1s 3ms/step - loss: 0.1201 - accuracy: 0.9651\n"
          ],
          "name": "stdout"
        }
      ]
    },
    {
      "cell_type": "code",
      "metadata": {
        "id": "1LUk377blJHq",
        "colab": {
          "base_uri": "https://localhost:8080/",
          "height": 516
        },
        "outputId": "f1573718-53c0-4826-b6c4-4e602b0b9b34"
      },
      "source": [
        "keras.utils.plot_model(model=LeNet,rankdir='TB',show_shapes=True,dpi=50)"
      ],
      "execution_count": null,
      "outputs": [
        {
          "output_type": "execute_result",
          "data": {
            "image/png": "[encoded data removed]",
            "text/plain": [
              "<IPython.core.display.Image object>"
            ]
          },
          "metadata": {
            "tags": []
          },
          "execution_count": 42
        }
      ]
    },
    {
      "cell_type": "code",
      "metadata": {
        "id": "ixscuFatfTdu",
        "colab": {
          "base_uri": "https://localhost:8080/"
        },
        "outputId": "604c7670-6ed6-4d4e-e24f-86b8632092b5"
      },
      "source": [
        "LeNet.evaluate(x=x_test,y=y_test)"
      ],
      "execution_count": null,
      "outputs": [
        {
          "output_type": "stream",
          "text": [
            "313/313 [==============================] - 1s 2ms/step - loss: 0.1111 - accuracy: 0.9678\n"
          ],
          "name": "stdout"
        },
        {
          "output_type": "execute_result",
          "data": {
            "text/plain": [
              "[0.11108182370662689, 0.9678000211715698]"
            ]
          },
          "metadata": {
            "tags": []
          },
          "execution_count": 40
        }
      ]
    },
    {
      "cell_type": "code",
      "metadata": {
        "id": "w18Nr075E9Fl"
      },
      "source": [
        ""
      ],
      "execution_count": null,
      "outputs": []
    }
  ]
}
